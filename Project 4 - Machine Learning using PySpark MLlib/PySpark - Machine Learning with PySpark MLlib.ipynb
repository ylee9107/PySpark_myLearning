{
 "cells": [
  {
   "cell_type": "markdown",
   "metadata": {},
   "source": [
    "# PySpark - Preparing the Data For Modeling\n",
    "\n",
    "## Introduction\n",
    "\n",
    "This project will venture into building machine learning models by using the PySpark's MLlib module. It should be noted that it is now being deprecated as it is being moved to the ML module. However, if the datasets used are to be stored on RDDs, it is still possible to utilise the MLlib for machine learning work. \n",
    "\n",
    "## Breakdown of this Notebook\n",
    "\n",
    "- Loading the Dataset\n",
    "- Exploring the Dataset\n",
    "- Testing the Dataset\n",
    "- Transforming the Dataset\n",
    "- Standardising the Dataset\n",
    "- Creating RDDs for Training\n",
    "- Predicting hours of work for census respondents\n",
    "- Forecasting the income level of census respondents\n",
    "- Building a clustering model\n",
    "- Computing the performance statistics\n",
    "\n",
    "\n",
    "## Dataset:\n",
    "\n",
    "For this project, the dataset can be found in the \"Datasets\" folder, where it is sourced from http://archive.ics.uci.edu/ml/datasets/Census+Income. The CSV file that is used is called \"\". \\\n",
    "Abstract: Predict whether income exceeds $50K/yr based on census data. Also known as \"Adult\" dataset. \n",
    "\n",
    "Alternative source: https://www.kaggle.com/uciml/adult-census-income/data\n",
    "\n",
    "Included in the \"Datasets\" folder is two files:\n",
    "- adults.csv\n",
    "- census_income_dataset.csv\n",
    "\n",
    "## 1 PySpark Machine Configuration:\n",
    "\n",
    "Here it only uses two processing cores from the CPU, and it set up by the following code."
   ]
  },
  {
   "cell_type": "code",
   "execution_count": 1,
   "metadata": {},
   "outputs": [
    {
     "data": {
      "text/html": [
       "Current session configs: <tt>{'executorCores': 4, 'kind': 'pyspark'}</tt><br>"
      ],
      "text/plain": [
       "<IPython.core.display.HTML object>"
      ]
     },
     "metadata": {},
     "output_type": "display_data"
    },
    {
     "data": {
      "text/html": [
       "<table>\n",
       "<tr><th>ID</th><th>YARN Application ID</th><th>Kind</th><th>State</th><th>Spark UI</th><th>Driver log</th><th>Current session?</th></tr><tr><td>3</td><td>None</td><td>pyspark</td><td>idle</td><td></td><td></td><td></td></tr></table>"
      ],
      "text/plain": [
       "<IPython.core.display.HTML object>"
      ]
     },
     "metadata": {},
     "output_type": "display_data"
    }
   ],
   "source": [
    "%%configure\n",
    "{\n",
    "    \"executorCores\" : 4\n",
    "}"
   ]
  },
  {
   "cell_type": "code",
   "execution_count": 2,
   "metadata": {},
   "outputs": [
    {
     "name": "stdout",
     "output_type": "stream",
     "text": [
      "Starting Spark application\n"
     ]
    },
    {
     "data": {
      "text/html": [
       "<table>\n",
       "<tr><th>ID</th><th>YARN Application ID</th><th>Kind</th><th>State</th><th>Spark UI</th><th>Driver log</th><th>Current session?</th></tr><tr><td>5</td><td>None</td><td>pyspark</td><td>idle</td><td></td><td></td><td>✔</td></tr></table>"
      ],
      "text/plain": [
       "<IPython.core.display.HTML object>"
      ]
     },
     "metadata": {},
     "output_type": "display_data"
    },
    {
     "data": {
      "application/vnd.jupyter.widget-view+json": {
       "model_id": "",
       "version_major": 2,
       "version_minor": 0
      },
      "text/plain": [
       "FloatProgress(value=0.0, bar_style='info', description='Progress:', layout=Layout(height='25px', width='50%'),…"
      ]
     },
     "metadata": {},
     "output_type": "display_data"
    },
    {
     "name": "stdout",
     "output_type": "stream",
     "text": [
      "SparkSession available as 'spark'.\n"
     ]
    },
    {
     "data": {
      "application/vnd.jupyter.widget-view+json": {
       "model_id": "",
       "version_major": 2,
       "version_minor": 0
      },
      "text/plain": [
       "FloatProgress(value=0.0, bar_style='info', description='Progress:', layout=Layout(height='25px', width='50%'),…"
      ]
     },
     "metadata": {},
     "output_type": "display_data"
    }
   ],
   "source": [
    "from pyspark.sql.types import *"
   ]
  },
  {
   "cell_type": "markdown",
   "metadata": {},
   "source": [
    "## 2 Setup the Correct Directory:"
   ]
  },
  {
   "cell_type": "code",
   "execution_count": 3,
   "metadata": {},
   "outputs": [
    {
     "data": {
      "application/vnd.jupyter.widget-view+json": {
       "model_id": "",
       "version_major": 2,
       "version_minor": 0
      },
      "text/plain": [
       "FloatProgress(value=0.0, bar_style='info', description='Progress:', layout=Layout(height='25px', width='50%'),…"
      ]
     },
     "metadata": {},
     "output_type": "display_data"
    }
   ],
   "source": [
    "import os\n",
    "\n",
    "# Change the Path:\n",
    "path = '++++your working directory here++++/Datasets/'\n",
    "os.chdir(path)\n",
    "folder_pathway = os.getcwd()\n",
    "\n",
    "# print(folder_pathway)"
   ]
  },
  {
   "cell_type": "markdown",
   "metadata": {},
   "source": [
    "## 3 Loading in the Dataset:\n",
    "\n",
    "The dataset will be the 1994 census income data."
   ]
  },
  {
   "cell_type": "code",
   "execution_count": 4,
   "metadata": {},
   "outputs": [
    {
     "data": {
      "application/vnd.jupyter.widget-view+json": {
       "model_id": "",
       "version_major": 2,
       "version_minor": 0
      },
      "text/plain": [
       "FloatProgress(value=0.0, bar_style='info', description='Progress:', layout=Layout(height='25px', width='50%'),…"
      ]
     },
     "metadata": {},
     "output_type": "display_data"
    }
   ],
   "source": [
    "# Set the path to the dataset:\n",
    "dataset_path = path + 'Datasets/census_income_dataset.csv'\n",
    "\n",
    "# Load in the data:\n",
    "census_income_dat = spark.read.csv(dataset_path, header = True, inferSchema = True)\n"
   ]
  },
  {
   "cell_type": "code",
   "execution_count": 5,
   "metadata": {},
   "outputs": [
    {
     "data": {
      "application/vnd.jupyter.widget-view+json": {
       "model_id": "",
       "version_major": 2,
       "version_minor": 0
      },
      "text/plain": [
       "FloatProgress(value=0.0, bar_style='info', description='Progress:', layout=Layout(height='25px', width='50%'),…"
      ]
     },
     "metadata": {},
     "output_type": "display_data"
    },
    {
     "name": "stdout",
     "output_type": "stream",
     "text": [
      "root\n",
      " |-- age: integer (nullable = true)\n",
      " |-- workclass: string (nullable = true)\n",
      " |-- fnlwgt: integer (nullable = true)\n",
      " |-- education: string (nullable = true)\n",
      " |-- education-num: integer (nullable = true)\n",
      " |-- marital-status: string (nullable = true)\n",
      " |-- occupation: string (nullable = true)\n",
      " |-- relationship: string (nullable = true)\n",
      " |-- race: string (nullable = true)\n",
      " |-- sex: string (nullable = true)\n",
      " |-- capital-gain: integer (nullable = true)\n",
      " |-- capital-loss: integer (nullable = true)\n",
      " |-- hours-per-week: integer (nullable = true)\n",
      " |-- native-country: string (nullable = true)\n",
      " |-- label: string (nullable = true)"
     ]
    }
   ],
   "source": [
    "# Inspect: \n",
    "census_income_dat.printSchema()"
   ]
  },
  {
   "cell_type": "markdown",
   "metadata": {},
   "source": [
    "By checking directly with the CSV file on Excel, it can be seen that the datatype for each of the columns were detected properly with the \"inferSchema\" parameter set to \"True\"."
   ]
  },
  {
   "cell_type": "code",
   "execution_count": 6,
   "metadata": {},
   "outputs": [
    {
     "data": {
      "application/vnd.jupyter.widget-view+json": {
       "model_id": "",
       "version_major": 2,
       "version_minor": 0
      },
      "text/plain": [
       "FloatProgress(value=0.0, bar_style='info', description='Progress:', layout=Layout(height='25px', width='50%'),…"
      ]
     },
     "metadata": {},
     "output_type": "display_data"
    },
    {
     "name": "stdout",
     "output_type": "stream",
     "text": [
      "[Row(age=39, workclass=' State-gov', fnlwgt=77516, education=' Bachelors', education-num=13, marital-status=' Never-married', occupation=' Adm-clerical', relationship=' Not-in-family', race=' White', sex=' Male', capital-gain=2174, capital-loss=0, hours-per-week=40, native-country=' United-States', label=' <=50K'), Row(age=50, workclass=' Self-emp-not-inc', fnlwgt=83311, education=' Bachelors', education-num=13, marital-status=' Married-civ-spouse', occupation=' Exec-managerial', relationship=' Husband', race=' White', sex=' Male', capital-gain=0, capital-loss=0, hours-per-week=13, native-country=' United-States', label=' <=50K')]"
     ]
    }
   ],
   "source": [
    "# Inspect the row data:\n",
    "census_income_dat.take(2)"
   ]
  },
  {
   "cell_type": "markdown",
   "metadata": {},
   "source": [
    "#### Problem:\n",
    "\n",
    "From the above print out of the Row() objects, it can be seen that there are trailing white spaces like: workclass=' State-gov'. __This needs to be corrected__.\n",
    "\n",
    "## 3.1 Fix the Trailing White Spaces:\n",
    "\n",
    "### Import the required libraries:"
   ]
  },
  {
   "cell_type": "code",
   "execution_count": 7,
   "metadata": {},
   "outputs": [
    {
     "data": {
      "application/vnd.jupyter.widget-view+json": {
       "model_id": "",
       "version_major": 2,
       "version_minor": 0
      },
      "text/plain": [
       "FloatProgress(value=0.0, bar_style='info', description='Progress:', layout=Layout(height='25px', width='50%'),…"
      ]
     },
     "metadata": {},
     "output_type": "display_data"
    }
   ],
   "source": [
    "import pyspark.sql.functions as f"
   ]
  },
  {
   "cell_type": "code",
   "execution_count": 8,
   "metadata": {},
   "outputs": [
    {
     "data": {
      "application/vnd.jupyter.widget-view+json": {
       "model_id": "",
       "version_major": 2,
       "version_minor": 0
      },
      "text/plain": [
       "FloatProgress(value=0.0, bar_style='info', description='Progress:', layout=Layout(height='25px', width='50%'),…"
      ]
     },
     "metadata": {},
     "output_type": "display_data"
    }
   ],
   "source": [
    "# Loop through the columns: remove the tailing white spaces on the left and right.\n",
    "for col, typ in census_income_dat.dtypes:\n",
    "    if ( typ == 'string' ):\n",
    "        census_income_dat = census_income_dat.withColumn(col, f.ltrim(f.rtrim(census_income_dat[col])))"
   ]
  },
  {
   "cell_type": "code",
   "execution_count": 9,
   "metadata": {},
   "outputs": [
    {
     "data": {
      "application/vnd.jupyter.widget-view+json": {
       "model_id": "",
       "version_major": 2,
       "version_minor": 0
      },
      "text/plain": [
       "FloatProgress(value=0.0, bar_style='info', description='Progress:', layout=Layout(height='25px', width='50%'),…"
      ]
     },
     "metadata": {},
     "output_type": "display_data"
    },
    {
     "name": "stdout",
     "output_type": "stream",
     "text": [
      "[Row(age=39, workclass='State-gov', fnlwgt=77516, education='Bachelors', education-num=13, marital-status='Never-married', occupation='Adm-clerical', relationship='Not-in-family', race='White', sex='Male', capital-gain=2174, capital-loss=0, hours-per-week=40, native-country='United-States', label='<=50K'), Row(age=50, workclass='Self-emp-not-inc', fnlwgt=83311, education='Bachelors', education-num=13, marital-status='Married-civ-spouse', occupation='Exec-managerial', relationship='Husband', race='White', sex='Male', capital-gain=0, capital-loss=0, hours-per-week=13, native-country='United-States', label='<=50K')]"
     ]
    }
   ],
   "source": [
    "# Inspect the row data:\n",
    "census_income_dat.take(2)"
   ]
  },
  {
   "cell_type": "markdown",
   "metadata": {},
   "source": [
    "#### Observation:\n",
    "\n",
    "It can be seen that the problem has now been fixed. For example, workclass='State-gov'.\n",
    "\n",
    "## 4 Exploring the Dataset:\n",
    "\n",
    "This section will explore the different aspects of the dataset.\n",
    "\n",
    "## 4.1 Select the Numerical and Categorical features:\n",
    "\n",
    "To do this:\n",
    "- First, check out the columns' dtypes.\n",
    "- Create a list of columns that are to be kept.\n",
    "- Here, the 'label' column is important as it keeps track of the person regardless of income.\n",
    "- Create a DataFrame with the selected columns and extract the numerical and categorical columns."
   ]
  },
  {
   "cell_type": "code",
   "execution_count": 10,
   "metadata": {},
   "outputs": [
    {
     "data": {
      "application/vnd.jupyter.widget-view+json": {
       "model_id": "",
       "version_major": 2,
       "version_minor": 0
      },
      "text/plain": [
       "FloatProgress(value=0.0, bar_style='info', description='Progress:', layout=Layout(height='25px', width='50%'),…"
      ]
     },
     "metadata": {},
     "output_type": "display_data"
    },
    {
     "name": "stdout",
     "output_type": "stream",
     "text": [
      "[('age', 'int'), ('workclass', 'string'), ('fnlwgt', 'int'), ('education', 'string'), ('education-num', 'int'), ('marital-status', 'string'), ('occupation', 'string'), ('relationship', 'string'), ('race', 'string'), ('sex', 'string'), ('capital-gain', 'int'), ('capital-loss', 'int'), ('hours-per-week', 'int'), ('native-country', 'string'), ('label', 'string')]"
     ]
    }
   ],
   "source": [
    "# Inspect the dtypes of each column:\n",
    "census_income_dat.dtypes"
   ]
  },
  {
   "cell_type": "code",
   "execution_count": 11,
   "metadata": {},
   "outputs": [
    {
     "data": {
      "application/vnd.jupyter.widget-view+json": {
       "model_id": "",
       "version_major": 2,
       "version_minor": 0
      },
      "text/plain": [
       "FloatProgress(value=0.0, bar_style='info', description='Progress:', layout=Layout(height='25px', width='50%'),…"
      ]
     },
     "metadata": {},
     "output_type": "display_data"
    }
   ],
   "source": [
    "# List all the columns of interests:\n",
    "cols_keep = census_income_dat.dtypes\n",
    "\n",
    "cols_keep = (\n",
    "    ['label', 'age', 'capital-gain', 'capital-loss', 'hours-per-week'] + \n",
    "    [element[0] for element in cols_keep[:-1] if element[1] == 'string']\n",
    ")"
   ]
  },
  {
   "cell_type": "code",
   "execution_count": 12,
   "metadata": {},
   "outputs": [
    {
     "data": {
      "application/vnd.jupyter.widget-view+json": {
       "model_id": "",
       "version_major": 2,
       "version_minor": 0
      },
      "text/plain": [
       "FloatProgress(value=0.0, bar_style='info', description='Progress:', layout=Layout(height='25px', width='50%'),…"
      ]
     },
     "metadata": {},
     "output_type": "display_data"
    }
   ],
   "source": [
    "# Separate the numerical and categorical features:\n",
    "census_subset = census_income_dat.select(cols_keep)\n",
    "\n",
    "# Numerical:\n",
    "cols_num = [element[0] for element in census_subset.dtypes if element[1] == 'int']\n",
    "\n",
    "# Categorical:\n",
    "cols_cat = [element[0] for element in census_subset.dtypes if element[1] == 'string']"
   ]
  },
  {
   "cell_type": "markdown",
   "metadata": {},
   "source": [
    "## 4.2 Numerical Features:\n",
    "\n",
    "For numerical features, some basic descriptive statistics can be calculated.\n",
    "\n",
    "### Import the required Libraries:"
   ]
  },
  {
   "cell_type": "code",
   "execution_count": 13,
   "metadata": {},
   "outputs": [
    {
     "data": {
      "application/vnd.jupyter.widget-view+json": {
       "model_id": "",
       "version_major": 2,
       "version_minor": 0
      },
      "text/plain": [
       "FloatProgress(value=0.0, bar_style='info', description='Progress:', layout=Layout(height='25px', width='50%'),…"
      ]
     },
     "metadata": {},
     "output_type": "display_data"
    }
   ],
   "source": [
    "import pyspark.mllib.stat as st\n",
    "import numpy as np"
   ]
  },
  {
   "cell_type": "markdown",
   "metadata": {},
   "source": [
    "### Descriptive Statistics:\n",
    "\n",
    "To do this:\n",
    "\n",
    "- First, subset the data for the inclusion of only numerical columns and extract the RDD. A list is created with the .map() function as every element of the RDD is a Row() object.\n",
    "- Use the statistic package from MLlib to call the .colStats() function to input the RDD numerical values.\n",
    "- Print out the descriptive statistics."
   ]
  },
  {
   "cell_type": "code",
   "execution_count": 14,
   "metadata": {},
   "outputs": [
    {
     "data": {
      "application/vnd.jupyter.widget-view+json": {
       "model_id": "",
       "version_major": 2,
       "version_minor": 0
      },
      "text/plain": [
       "FloatProgress(value=0.0, bar_style='info', description='Progress:', layout=Layout(height='25px', width='50%'),…"
      ]
     },
     "metadata": {},
     "output_type": "display_data"
    }
   ],
   "source": [
    "# Create the RDD:\n",
    "rdd_num = (\n",
    "    census_subset\n",
    "    .select(cols_num)\n",
    "    .rdd\n",
    "    .map(lambda row: [element for element in row])\n",
    ")\n",
    "\n",
    "# Run the MLlib statistics package:\n",
    "stats_num = st.Statistics.colStats(rdd_num)"
   ]
  },
  {
   "cell_type": "code",
   "execution_count": 15,
   "metadata": {},
   "outputs": [
    {
     "data": {
      "application/vnd.jupyter.widget-view+json": {
       "model_id": "",
       "version_major": 2,
       "version_minor": 0
      },
      "text/plain": [
       "FloatProgress(value=0.0, bar_style='info', description='Progress:', layout=Layout(height='25px', width='50%'),…"
      ]
     },
     "metadata": {},
     "output_type": "display_data"
    },
    {
     "name": "stdout",
     "output_type": "stream",
     "text": [
      "age: min-> 17.0, mean-> 38.6, max-> 90.0, stdev-> 13.6\n",
      "capital-gain: min-> 0.0, mean-> 1077.6, max-> 99999.0, stdev-> 7385.3\n",
      "capital-loss: min-> 0.0, mean-> 87.3, max-> 4356.0, stdev-> 403.0\n",
      "hours-per-week: min-> 1.0, mean-> 40.4, max-> 99.0, stdev-> 12.3"
     ]
    }
   ],
   "source": [
    "# Print the descriptive statistics:\n",
    "for col, min_, mean_, max_, var_ in zip(cols_num, stats_num.min(), stats_num.mean(), stats_num.max(), stats_num.variance()):\n",
    "    print('{0}: min->{1: .1f}, mean->{2: .1f}, max->{3: .1f}, stdev->{4: .1f}'.format(col, min_, mean_, max_, np.sqrt(var_)))\n",
    "    "
   ]
  },
  {
   "cell_type": "markdown",
   "metadata": {},
   "source": [
    "#### Observation:\n",
    "\n",
    "The average age can be seen to be 39 years old. But there seem to be an outlier here that is 90 years old. \n",
    "Comparing the capital gain and loss, it would seem like poeple are making more money than losing it. \n",
    "It can also be seen that the average working hours are 40 hours.\n",
    "\n",
    "## 4.3 Categorical Features:\n",
    "\n",
    "For categorical features, it should be noted that __not possible__ to calculate simple descriptive statistics. Therefore, the frequencies for each of teh distinct values in the categorical columns must be calculated instead.\n",
    "\n",
    "To do this:\n",
    "- First, subset the data for only the categorical columns and its labels (person identifier). Extract the underlying RDD and transform each of the Row() objects into a list. \n",
    "- Next, store these results as a dictionary.\n",
    "- Loop through all the columns and then aggregate the data by using the .groupBy() function. \n",
    "- Create a list of tuples where the first element is value \"element1[0]\" and the second element is the frequenqy (lenght) of \"element1[1]\"."
   ]
  },
  {
   "cell_type": "code",
   "execution_count": 16,
   "metadata": {},
   "outputs": [
    {
     "data": {
      "application/vnd.jupyter.widget-view+json": {
       "model_id": "",
       "version_major": 2,
       "version_minor": 0
      },
      "text/plain": [
       "FloatProgress(value=0.0, bar_style='info', description='Progress:', layout=Layout(height='25px', width='50%'),…"
      ]
     },
     "metadata": {},
     "output_type": "display_data"
    }
   ],
   "source": [
    "# Create the RDD:\n",
    "rdd_cat = (\n",
    "    census_subset\n",
    "    .select(cols_cat + ['label'])\n",
    "    .rdd\n",
    "    .map(lambda row: [element for element in row])\n",
    ")"
   ]
  },
  {
   "cell_type": "code",
   "execution_count": 17,
   "metadata": {},
   "outputs": [
    {
     "data": {
      "application/vnd.jupyter.widget-view+json": {
       "model_id": "",
       "version_major": 2,
       "version_minor": 0
      },
      "text/plain": [
       "FloatProgress(value=0.0, bar_style='info', description='Progress:', layout=Layout(height='25px', width='50%'),…"
      ]
     },
     "metadata": {},
     "output_type": "display_data"
    },
    {
     "name": "stdout",
     "output_type": "stream",
     "text": [
      "[['<=50K', 'State-gov', 'Bachelors', 'Never-married', 'Adm-clerical', 'Not-in-family', 'White', 'Male', 'United-States', '<=50K']]"
     ]
    }
   ],
   "source": [
    "# Inspect:\n",
    "rdd_cat.take(1)"
   ]
  },
  {
   "cell_type": "code",
   "execution_count": 18,
   "metadata": {},
   "outputs": [
    {
     "data": {
      "application/vnd.jupyter.widget-view+json": {
       "model_id": "",
       "version_major": 2,
       "version_minor": 0
      },
      "text/plain": [
       "FloatProgress(value=0.0, bar_style='info', description='Progress:', layout=Layout(height='25px', width='50%'),…"
      ]
     },
     "metadata": {},
     "output_type": "display_data"
    }
   ],
   "source": [
    "# Save to dictionary:\n",
    "results_cat = {}\n",
    "\n",
    "for i, col in enumerate(cols_cat + ['label']):\n",
    "    results_cat[col] = (\n",
    "        rdd_cat\n",
    "        .groupBy(lambda row: row[i])\n",
    "        .map(lambda element: [element[0], len(element[1])])\n",
    "        .collect()\n",
    "    )"
   ]
  },
  {
   "cell_type": "code",
   "execution_count": 19,
   "metadata": {},
   "outputs": [
    {
     "data": {
      "application/vnd.jupyter.widget-view+json": {
       "model_id": "",
       "version_major": 2,
       "version_minor": 0
      },
      "text/plain": [
       "FloatProgress(value=0.0, bar_style='info', description='Progress:', layout=Layout(height='25px', width='50%'),…"
      ]
     },
     "metadata": {},
     "output_type": "display_data"
    },
    {
     "name": "stdout",
     "output_type": "stream",
     "text": [
      "label [['<=50K', 24720], ['>50K', 7841]] \n",
      "\n",
      "workclass [['State-gov', 1298], ['Self-emp-not-inc', 2541], ['Private', 22696], ['Federal-gov', 960], ['Local-gov', 2093], ['?', 1836], ['Self-emp-inc', 1116], ['Without-pay', 14], ['Never-worked', 7]] \n",
      "\n",
      "education [['Bachelors', 5355], ['HS-grad', 10501], ['11th', 1175], ['Masters', 1723], ['9th', 514], ['Some-college', 7291], ['Assoc-acdm', 1067], ['Assoc-voc', 1382], ['7th-8th', 646], ['Doctorate', 413], ['Prof-school', 576], ['5th-6th', 333], ['10th', 933], ['1st-4th', 168], ['Preschool', 51], ['12th', 433]] \n",
      "\n",
      "marital-status [['Never-married', 10683], ['Married-civ-spouse', 14976], ['Divorced', 4443], ['Married-spouse-absent', 418], ['Separated', 1025], ['Married-AF-spouse', 23], ['Widowed', 993]] \n",
      "\n",
      "occupation [['Adm-clerical', 3770], ['Exec-managerial', 4066], ['Handlers-cleaners', 1370], ['Prof-specialty', 4140], ['Other-service', 3295], ['Sales', 3650], ['Craft-repair', 4099], ['Transport-moving', 1597], ['Farming-fishing', 994], ['Machine-op-inspct', 2002], ['Tech-support', 928], ['?', 1843], ['Protective-serv', 649], ['Armed-Forces', 9], ['Priv-house-serv', 149]] \n",
      "\n",
      "relationship [['Not-in-family', 8305], ['Husband', 13193], ['Wife', 1568], ['Own-child', 5068], ['Unmarried', 3446], ['Other-relative', 981]] \n",
      "\n",
      "race [['White', 27816], ['Black', 3124], ['Asian-Pac-Islander', 1039], ['Amer-Indian-Eskimo', 311], ['Other', 271]] \n",
      "\n",
      "sex [['Male', 21790], ['Female', 10771]] \n",
      "\n",
      "native-country [['United-States', 29170], ['Cuba', 95], ['Jamaica', 81], ['India', 100], ['?', 583], ['Mexico', 643], ['South', 80], ['Puerto-Rico', 114], ['Honduras', 13], ['England', 90], ['Canada', 121], ['Germany', 137], ['Iran', 43], ['Philippines', 198], ['Italy', 73], ['Poland', 60], ['Columbia', 59], ['Cambodia', 19], ['Thailand', 18], ['Ecuador', 28], ['Laos', 18], ['Taiwan', 51], ['Haiti', 44], ['Portugal', 37], ['Dominican-Republic', 70], ['El-Salvador', 106], ['France', 29], ['Guatemala', 64], ['China', 75], ['Japan', 62], ['Yugoslavia', 16], ['Peru', 31], ['Outlying-US(Guam-USVI-etc)', 14], ['Scotland', 12], ['Trinadad&Tobago', 19], ['Greece', 29], ['Nicaragua', 34], ['Vietnam', 67], ['Hong', 20], ['Ireland', 24], ['Hungary', 13], ['Holand-Netherlands', 1]]"
     ]
    }
   ],
   "source": [
    "# Inspect:\n",
    "for i in results_cat:\n",
    "    print(i, results_cat[i], \"\\n\")"
   ]
  },
  {
   "cell_type": "markdown",
   "metadata": {},
   "source": [
    "#### Observation:\n",
    "\n",
    "The values for each key in each of the columns are not sorted, let's fix this by sorting for the values and not the keys."
   ]
  },
  {
   "cell_type": "code",
   "execution_count": 20,
   "metadata": {},
   "outputs": [
    {
     "data": {
      "application/vnd.jupyter.widget-view+json": {
       "model_id": "",
       "version_major": 2,
       "version_minor": 0
      },
      "text/plain": [
       "FloatProgress(value=0.0, bar_style='info', description='Progress:', layout=Layout(height='25px', width='50%'),…"
      ]
     },
     "metadata": {},
     "output_type": "display_data"
    },
    {
     "name": "stdout",
     "output_type": "stream",
     "text": [
      "label [['<=50K', 24720], ['>50K', 7841]] \n",
      "\n",
      "workclass [['Private', 22696], ['Self-emp-not-inc', 2541], ['Local-gov', 2093], ['?', 1836], ['State-gov', 1298], ['Self-emp-inc', 1116], ['Federal-gov', 960], ['Without-pay', 14], ['Never-worked', 7]] \n",
      "\n",
      "education [['HS-grad', 10501], ['Some-college', 7291], ['Bachelors', 5355], ['Masters', 1723], ['Assoc-voc', 1382], ['11th', 1175], ['Assoc-acdm', 1067], ['10th', 933], ['7th-8th', 646], ['Prof-school', 576], ['9th', 514], ['12th', 433], ['Doctorate', 413], ['5th-6th', 333], ['1st-4th', 168], ['Preschool', 51]] \n",
      "\n",
      "marital-status [['Married-civ-spouse', 14976], ['Never-married', 10683], ['Divorced', 4443], ['Separated', 1025], ['Widowed', 993], ['Married-spouse-absent', 418], ['Married-AF-spouse', 23]] \n",
      "\n",
      "occupation [['Prof-specialty', 4140], ['Craft-repair', 4099], ['Exec-managerial', 4066], ['Adm-clerical', 3770], ['Sales', 3650], ['Other-service', 3295], ['Machine-op-inspct', 2002], ['?', 1843], ['Transport-moving', 1597], ['Handlers-cleaners', 1370], ['Farming-fishing', 994], ['Tech-support', 928], ['Protective-serv', 649], ['Priv-house-serv', 149], ['Armed-Forces', 9]] \n",
      "\n",
      "relationship [['Husband', 13193], ['Not-in-family', 8305], ['Own-child', 5068], ['Unmarried', 3446], ['Wife', 1568], ['Other-relative', 981]] \n",
      "\n",
      "race [['White', 27816], ['Black', 3124], ['Asian-Pac-Islander', 1039], ['Amer-Indian-Eskimo', 311], ['Other', 271]] \n",
      "\n",
      "sex [['Male', 21790], ['Female', 10771]] \n",
      "\n",
      "native-country [['United-States', 29170], ['Mexico', 643], ['?', 583], ['Philippines', 198], ['Germany', 137], ['Canada', 121], ['Puerto-Rico', 114], ['El-Salvador', 106], ['India', 100], ['Cuba', 95], ['England', 90], ['Jamaica', 81], ['South', 80], ['China', 75], ['Italy', 73], ['Dominican-Republic', 70], ['Vietnam', 67], ['Guatemala', 64], ['Japan', 62], ['Poland', 60], ['Columbia', 59], ['Taiwan', 51], ['Haiti', 44], ['Iran', 43], ['Portugal', 37], ['Nicaragua', 34], ['Peru', 31], ['France', 29], ['Greece', 29], ['Ecuador', 28], ['Ireland', 24], ['Hong', 20], ['Cambodia', 19], ['Trinadad&Tobago', 19], ['Thailand', 18], ['Laos', 18], ['Yugoslavia', 16], ['Outlying-US(Guam-USVI-etc)', 14], ['Honduras', 13], ['Hungary', 13], ['Scotland', 12], ['Holand-Netherlands', 1]]"
     ]
    }
   ],
   "source": [
    "for i in results_cat:\n",
    "    print(i, sorted(results_cat[i], key = lambda element: element[1], reverse = True), \"\\n\")"
   ]
  },
  {
   "cell_type": "markdown",
   "metadata": {},
   "source": [
    "#### Observation:\n",
    "\n",
    "Taking a look at the \"sex\", there seem to be an imbalance in genders where the male is almost twice as much in count when compared to females. Another thing to note is that under \"race\", the data is also skewed and have a greater count of \"White\" people. Additionally, it can be seen under \"label\" that there were significantly more people earning more than $50K.\n",
    "\n",
    "## 4.4 Correlations with MLlib:\n",
    "\n",
    "This section will explore the correlations between numerical variables.\n",
    "\n",
    "Note: the .corr() method here does return a NumPy array(s) or matrix where each of the elements can be either a Pearson (default) or Spearman correlation coefficient."
   ]
  },
  {
   "cell_type": "code",
   "execution_count": 21,
   "metadata": {},
   "outputs": [
    {
     "data": {
      "application/vnd.jupyter.widget-view+json": {
       "model_id": "",
       "version_major": 2,
       "version_minor": 0
      },
      "text/plain": [
       "FloatProgress(value=0.0, bar_style='info', description='Progress:', layout=Layout(height='25px', width='50%'),…"
      ]
     },
     "metadata": {},
     "output_type": "display_data"
    }
   ],
   "source": [
    "# Calculate the correlations:\n",
    "corr_num = st.Statistics.corr(rdd_num)"
   ]
  },
  {
   "cell_type": "code",
   "execution_count": 22,
   "metadata": {},
   "outputs": [
    {
     "data": {
      "application/vnd.jupyter.widget-view+json": {
       "model_id": "",
       "version_major": 2,
       "version_minor": 0
      },
      "text/plain": [
       "FloatProgress(value=0.0, bar_style='info', description='Progress:', layout=Layout(height='25px', width='50%'),…"
      ]
     },
     "metadata": {},
     "output_type": "display_data"
    },
    {
     "name": "stdout",
     "output_type": "stream",
     "text": [
      "array([[ 1.        ,  0.0776745 ,  0.05777454,  0.06875571],\n",
      "       [ 0.0776745 ,  1.        , -0.03161506,  0.07840862],\n",
      "       [ 0.05777454, -0.03161506,  1.        ,  0.05425636],\n",
      "       [ 0.06875571,  0.07840862,  0.05425636,  1.        ]])"
     ]
    }
   ],
   "source": [
    "# Inspect:\n",
    "corr_num"
   ]
  },
  {
   "cell_type": "code",
   "execution_count": 23,
   "metadata": {},
   "outputs": [
    {
     "data": {
      "application/vnd.jupyter.widget-view+json": {
       "model_id": "",
       "version_major": 2,
       "version_minor": 0
      },
      "text/plain": [
       "FloatProgress(value=0.0, bar_style='info', description='Progress:', layout=Layout(height='25px', width='50%'),…"
      ]
     },
     "metadata": {},
     "output_type": "display_data"
    },
    {
     "name": "stdout",
     "output_type": "stream",
     "text": [
      "['age', 'capital-gain', 'capital-loss', 'hours-per-week']"
     ]
    }
   ],
   "source": [
    "cols_num"
   ]
  },
  {
   "cell_type": "code",
   "execution_count": 24,
   "metadata": {},
   "outputs": [
    {
     "data": {
      "application/vnd.jupyter.widget-view+json": {
       "model_id": "",
       "version_major": 2,
       "version_minor": 0
      },
      "text/plain": [
       "FloatProgress(value=0.0, bar_style='info', description='Progress:', layout=Layout(height='25px', width='50%'),…"
      ]
     },
     "metadata": {},
     "output_type": "display_data"
    },
    {
     "name": "stdout",
     "output_type": "stream",
     "text": [
      "age\n",
      "      capital-gain 0.07767449816599513\n",
      "      capital-loss 0.05777453947897402\n",
      "      hours-per-week 0.06875570750946958\n",
      "\n",
      "capital-gain\n",
      "      age 0.07767449816599513\n",
      "      hours-per-week 0.07840861539013481\n",
      "\n",
      "capital-loss\n",
      "      age 0.05777453947897402\n",
      "      hours-per-week 0.054256362272651674\n",
      "\n",
      "hours-per-week\n",
      "      age 0.06875570750946958\n",
      "      capital-gain 0.07840861539013481\n",
      "      capital-loss 0.054256362272651674"
     ]
    }
   ],
   "source": [
    "# Print out the calculations: Taking the upper triangular portion of the matrix without the diagonal values.\n",
    "for i, el_i in enumerate(abs(corr_num) > 0.05):\n",
    "    print(cols_num[i])\n",
    "#     print(el_i)\n",
    "    \n",
    "    for j, el_j in enumerate(el_i):\n",
    "        if el_j and j != i:\n",
    "            print(\"     \", cols_num[j], corr_num[i][j])\n",
    "    print()"
   ]
  },
  {
   "cell_type": "markdown",
   "metadata": {},
   "source": [
    "#### Observation:\n",
    "\n",
    "Majority of the correlations found are less than 0.5, where most are less than 0.1. This means that the features are not highly correlated with each other and presents to be useful for the model. This avoids the issue of __multicollinearity__. \n",
    "\n",
    "The follwoing is taken from: https://www.statisticshowto.datasciencecentral.com/multicollinearity/\n",
    "\n",
    "Multicollinearity generally occurs when there are high correlations between two or more predictor variables. In other words, one predictor variable can be used to predict the other. This creates redundant information, skewing the results in a regression model\n",
    "\n",
    "## 5 Testing the Data:\n",
    "\n",
    "A good machine learning model that works well is one where the model is able to generalise well by being simple enough in terms of complexity, but not too simple to the point that it looses its ability to predict. The following diagrams will demonstrate this:"
   ]
  },
  {
   "cell_type": "code",
   "execution_count": 25,
   "metadata": {},
   "outputs": [
    {
     "name": "stdout",
     "output_type": "stream",
     "text": [
      "Img Ref -> https://docs.aws.amazon.com/machine-learning/latest/dg/model-fit-underfitting-vs-overfitting.html\n"
     ]
    },
    {
     "data": {
      "image/png": "[encoded data removed]",
      "text/plain": [
       "<Figure size 1152x864 with 1 Axes>"
      ]
     },
     "metadata": {
      "needs_background": "light"
     },
     "output_type": "display_data"
    }
   ],
   "source": [
    "%%local\n",
    "\n",
    "# Import the required library and set to use ggplot:\n",
    "import os\n",
    "import matplotlib.pyplot as plt\n",
    "import matplotlib.image as mpimg\n",
    "%matplotlib inline\n",
    "\n",
    "folder_pathway = os.getcwd()\n",
    "\n",
    "# print(folder_pathway)\n",
    "\n",
    "image_path = folder_pathway + \"/Description Images/\"\n",
    "# plot the image\n",
    "fig, ax1 = plt.subplots(figsize=(16,12))\n",
    "image = mpimg.imread(image_path + 'Testing the model_fit.png')\n",
    "plt.imshow(image);\n",
    "\n",
    "print('Img Ref -> https://docs.aws.amazon.com/machine-learning/latest/dg/model-fit-underfitting-vs-overfitting.html')"
   ]
  },
  {
   "cell_type": "markdown",
   "metadata": {},
   "source": [
    "#### Underfitting:\n",
    "\n",
    "Taking a look at the image on the __left__, it shows the model is underfitting the data and looses its ability to predict. In other words, it means that it won't be able to model the data and won't be able to generalise on new data which leads to poor performance. In normal circumstances during model evaluation, it is easy to detect this kind of model behaviour which can be remedied quickly. The remedy is to try an alternative machine learning algorithm(s). \n",
    "\n",
    "#### Overfitting:\n",
    "\n",
    "Taking a look at the image on the __right__, it shows the model is overfitting the data where it fits the training data too well. This ususally happens when the model learns both the details and the noise within the training dataset, to the point where there is a negative impact on the model performance. The noise or random fluctuations within the training data is learned as concepts by the model. This means that it also looses its ability to generalise well on new data.\n",
    "\n",
    "It should be noted that the occurance of overfitting is more likely with non-parametric and that non-linear models, as these have more flexibility to learn the target function. To solve this, most of the non-parametric machine learning algorithms have additional parameters/techniques to limit and constrain the amount of detail the model learns. For example, decision trees ( anon-parametric algorithm) is highly flexible and is subject to overfitting during training. This is solved by pruning a tree after training to remove some of the details pikced up by the model.\n",
    "\n",
    "#### Good fit:\n",
    "\n",
    "Taking a look at the image on the __middle__, it shows the model is able to fit the data at the sweet spot, that is between over and under-fitting. In practice, this can be difficult to obtain. The sweet spot is the point just before the error on the test dataset begins to increase, where the model is able to fit on both the training dataset and the unseen test dataset. There are more methods/techniques to improve the model and find this sweet spot in practice: \n",
    "\n",
    "- Select the features wisely.\n",
    "- Model selection, choose a model that is less prone to overfitting.\n",
    "- Tune the hyperparameters.\n",
    "- Resampling methods of the dataset and run multiple model estimations.\n",
    "- a validation dataset.\n",
    "\n",
    "Source: https://machinelearningmastery.com/overfitting-and-underfitting-with-machine-learning-algorithms/\n",
    "\n",
    "### Here for now, the focus will be on \"Selecting the features wisely\".\n",
    "\n",
    "## 5.1 Finding the Best features:\n",
    "\n",
    "First, is to understand the problem that is being dealt with. As there are different methods that can be used for selecting features for regression problems or classifiers.\n",
    "\n",
    "- __Regression__:\n",
    "\n",
    "The target (or ground truth) is a Conitnuous variable. for example, number of work hours per week. There are __2 methods__ to select the best features.\n",
    "    - Pearson's Correlation -> The correlation is calculated between two Numerical (continuous) features.\n",
    "    - Analysis of Variance (ANOVA) -> It is a tool that explains and tests the distribution of the observations conditional on some categories. To select the most discriminatory (categorical) features of the continuous dependent variable.\n",
    "\n",
    "- __Classification__:\n",
    "\n",
    "The target (or label) is a discrete variable of tow (binomial) or many (multinomial) levels. There are __2 methods__ to select the best features.\n",
    "    - Linear Discriminant Analysis (LDA) -> Finds a linear combination of continuous features that best explains the variance of the categorical label.\n",
    "    - Chi Squared Test -> It is a test that tests the independence between two categorical variables.\n",
    "    \n",
    "DO NOTE: Spark right now allows to test and select the best features between comparable variables, which means it only implements the Correlations \" pyspark.mllib.stat.Statistics.corr(...) \" and Chi Squared Test \" pyspark.mllib.stat.Statistics.chiSqTest(...) or the pyspark.mllib.feature.ChiSqSelector(...) \".\n",
    "\n",
    "## 5.2 Import the required Libraries:"
   ]
  },
  {
   "cell_type": "code",
   "execution_count": 26,
   "metadata": {},
   "outputs": [
    {
     "data": {
      "application/vnd.jupyter.widget-view+json": {
       "model_id": "",
       "version_major": 2,
       "version_minor": 0
      },
      "text/plain": [
       "FloatProgress(value=0.0, bar_style='info', description='Progress:', layout=Layout(height='25px', width='50%'),…"
      ]
     },
     "metadata": {},
     "output_type": "display_data"
    }
   ],
   "source": [
    "import pyspark.mllib.linalg as ln"
   ]
  },
  {
   "cell_type": "markdown",
   "metadata": {},
   "source": [
    "## 5.3 Chi Squared Test:\n",
    "\n",
    "Using the .chiSQTest() method to test the independence between the label (the indicator that a person is earning >= $50K) and the occupation of the Census responder.\n",
    "\n",
    "To do this:\n",
    "- First, build a pivot table that will group by the occupation feature and pivot it by the label column (it can be either <= USD50K or >= USD50K). For each of the occurance, it is counted.\n",
    "- Next, flatten the output by extracting the data from the RDD and select the counts (.map(lambda row: (row[1:])) of the map transformation. This is followed by collecting all the data to the driver, so that it can be used to create a DenseMatrix.\n",
    "- Once the data is on the Driver, proceed to create the matrix representation. The matrix should have 15 rows and 2 columns. Firstly, check the number of distinct iccupation values by checking the count of the \"census_occupation\" element. Next, call the DenseMatrix() function to create the matrix. This should take in 4 parameters, where the first one is the number of rows, the second one is the number of columns, the third one is the data and the fourth one is if the data is transposed or not. \n",
    "- Next, call the \".chiSqTest()\" to pass the matrix in. \n",
    "- Lastly, check the p-value and the null hypothesis (to be rejected or not)\n",
    "\n",
    "### Hypothesis:\n",
    "\n",
    "The distribution of occupation between those that earn more than USD50K vs. those that earn less than USD50K is the __NOT__ the same.\n",
    "\n",
    "### Null Hypothesis:\n",
    "\n",
    "The distribution of occupation between those that earn more than USD50K vs. those that earn less than USD50K is the same.\n"
   ]
  },
  {
   "cell_type": "code",
   "execution_count": 27,
   "metadata": {},
   "outputs": [
    {
     "data": {
      "application/vnd.jupyter.widget-view+json": {
       "model_id": "",
       "version_major": 2,
       "version_minor": 0
      },
      "text/plain": [
       "FloatProgress(value=0.0, bar_style='info', description='Progress:', layout=Layout(height='25px', width='50%'),…"
      ]
     },
     "metadata": {},
     "output_type": "display_data"
    }
   ],
   "source": [
    "# Build the Pivot Table:\n",
    "census_occupation = (\n",
    "    census_income_dat\n",
    "    .groupby('occupation')\n",
    "    .pivot('label')\n",
    "    .count()\n",
    ")"
   ]
  },
  {
   "cell_type": "code",
   "execution_count": 28,
   "metadata": {},
   "outputs": [
    {
     "data": {
      "application/vnd.jupyter.widget-view+json": {
       "model_id": "",
       "version_major": 2,
       "version_minor": 0
      },
      "text/plain": [
       "FloatProgress(value=0.0, bar_style='info', description='Progress:', layout=Layout(height='25px', width='50%'),…"
      ]
     },
     "metadata": {},
     "output_type": "display_data"
    },
    {
     "name": "stdout",
     "output_type": "stream",
     "text": [
      "DataFrame[occupation: string, <=50K: bigint, >50K: bigint]"
     ]
    }
   ],
   "source": [
    "# Inspect:\n",
    "census_occupation"
   ]
  },
  {
   "cell_type": "code",
   "execution_count": 29,
   "metadata": {},
   "outputs": [
    {
     "data": {
      "application/vnd.jupyter.widget-view+json": {
       "model_id": "",
       "version_major": 2,
       "version_minor": 0
      },
      "text/plain": [
       "FloatProgress(value=0.0, bar_style='info', description='Progress:', layout=Layout(height='25px', width='50%'),…"
      ]
     },
     "metadata": {},
     "output_type": "display_data"
    }
   ],
   "source": [
    "# Flatten the data:\n",
    "census_occupation_coll = (\n",
    "    census_occupation\n",
    "    .rdd\n",
    "    .map(lambda row: (row[1:]))\n",
    "    .flatMap(lambda row: row)\n",
    "    .collect()\n",
    "    \n",
    ")"
   ]
  },
  {
   "cell_type": "code",
   "execution_count": 30,
   "metadata": {},
   "outputs": [
    {
     "data": {
      "application/vnd.jupyter.widget-view+json": {
       "model_id": "",
       "version_major": 2,
       "version_minor": 0
      },
      "text/plain": [
       "FloatProgress(value=0.0, bar_style='info', description='Progress:', layout=Layout(height='25px', width='50%'),…"
      ]
     },
     "metadata": {},
     "output_type": "display_data"
    },
    {
     "name": "stdout",
     "output_type": "stream",
     "text": [
      "[2667, 983, 2098, 1968, 2281, 1859, 1284, 86, 879, 115, 3170, 929, 1277, 320, 148, 1, 438, 211, 3158, 137, 645, 283, 1752, 250, 8, 1, 1652, 191, 3263, 507]"
     ]
    }
   ],
   "source": [
    "# Inspect:\n",
    "census_occupation_coll"
   ]
  },
  {
   "cell_type": "code",
   "execution_count": 33,
   "metadata": {},
   "outputs": [
    {
     "data": {
      "application/vnd.jupyter.widget-view+json": {
       "model_id": "",
       "version_major": 2,
       "version_minor": 0
      },
      "text/plain": [
       "FloatProgress(value=0.0, bar_style='info', description='Progress:', layout=Layout(height='25px', width='50%'),…"
      ]
     },
     "metadata": {},
     "output_type": "display_data"
    }
   ],
   "source": [
    "# Create the Matrix Representation:\n",
    "len_row = len(census_occupation.collect())\n",
    "\n",
    "dense_Matrix = ln.DenseMatrix(len_row, 2, census_occupation_coll, True)\n"
   ]
  },
  {
   "cell_type": "code",
   "execution_count": 35,
   "metadata": {},
   "outputs": [
    {
     "data": {
      "application/vnd.jupyter.widget-view+json": {
       "model_id": "",
       "version_major": 2,
       "version_minor": 0
      },
      "text/plain": [
       "FloatProgress(value=0.0, bar_style='info', description='Progress:', layout=Layout(height='25px', width='50%'),…"
      ]
     },
     "metadata": {},
     "output_type": "display_data"
    },
    {
     "name": "stdout",
     "output_type": "stream",
     "text": [
      "P-value:  0.0\n",
      "the occurrence of the outcomes is statistically independent."
     ]
    }
   ],
   "source": [
    "# Perform the Chi Squeared Test:\n",
    "chi_sq = st.Statistics.chiSqTest(dense_Matrix)\n",
    "\n",
    "# Print the P-Value and the Null-Hypothesis:\n",
    "print(\"P-value: \", chi_sq.pValue)\n",
    "print(chi_sq.nullHypothesis)"
   ]
  },
  {
   "cell_type": "markdown",
   "metadata": {},
   "source": [
    "### Observation:\n",
    "\n",
    "Here the P-value found was 0.0, it means that the Null Hypothesis can be rejected. A small p-value indicates that the observations are inconsistent with the Null hypothesis. \n",
    "\n",
    "It also means that the occurrence of the outcomes is statistically independent, that is that the occupation should be a strong indicator for a person that earns more than USD50K.\n",
    "\n",
    "## 6 Transforming the Data:\n",
    "\n",
    "To build the ML model, the data utilised have to be in numeric form. In this case, most of the features in this datasaet are __Categorical__ and therefore it requires to be transformed. The apporach is to use a hashing trick and dummy encoding.\n",
    "\n",
    "To do this:\n",
    "- First, loop through all the categorical features and append a tuple of the column name and count the distinct values that are found in each column. \n",
    "- Next, use the hashing trick. Where the first thing is to import the required package. The next this is to subset the dataset to extract the relevant columns.\n",
    "- Next, use the .map() function on the RDD, where for each of the element, enumerate all the columns and if the index of the column is greater >= 5, a new instance of .HashingTF() is created. This can be used to transform the value and converted to NumPy array.\n",
    "- The .HashingTF() has a parameter that specifies the number of output elements, where in this case, half of the number of distinct values, but by doing so, there will be hashing collisions. \n",
    "\n",
    "\n",
    "\n",
    "## 6.1 Transform by reducing the dimensionality of the Dataset by Half:"
   ]
  },
  {
   "cell_type": "code",
   "execution_count": 50,
   "metadata": {},
   "outputs": [
    {
     "data": {
      "application/vnd.jupyter.widget-view+json": {
       "model_id": "",
       "version_major": 2,
       "version_minor": 0
      },
      "text/plain": [
       "FloatProgress(value=0.0, bar_style='info', description='Progress:', layout=Layout(height='25px', width='50%'),…"
      ]
     },
     "metadata": {},
     "output_type": "display_data"
    }
   ],
   "source": [
    "# Extract the total number of distinct values in each column:\n",
    "len_features = []\n",
    "\n",
    "for col in cols_cat:\n",
    "    (\n",
    "        len_features\n",
    "        .append( (col, census_income_dat.select(col).distinct().count()) )\n",
    "    )\n",
    "\n",
    "len_features = dict(len_features)"
   ]
  },
  {
   "cell_type": "code",
   "execution_count": 54,
   "metadata": {},
   "outputs": [
    {
     "data": {
      "application/vnd.jupyter.widget-view+json": {
       "model_id": "",
       "version_major": 2,
       "version_minor": 0
      },
      "text/plain": [
       "FloatProgress(value=0.0, bar_style='info', description='Progress:', layout=Layout(height='25px', width='50%'),…"
      ]
     },
     "metadata": {},
     "output_type": "display_data"
    },
    {
     "name": "stdout",
     "output_type": "stream",
     "text": [
      "{'label': 2, 'workclass': 9, 'education': 16, 'marital-status': 7, 'occupation': 15, 'relationship': 6, 'race': 5, 'sex': 2, 'native-country': 42}"
     ]
    }
   ],
   "source": [
    "# Inspect:\n",
    "len_features"
   ]
  },
  {
   "cell_type": "code",
   "execution_count": 51,
   "metadata": {},
   "outputs": [
    {
     "data": {
      "application/vnd.jupyter.widget-view+json": {
       "model_id": "",
       "version_major": 2,
       "version_minor": 0
      },
      "text/plain": [
       "FloatProgress(value=0.0, bar_style='info', description='Progress:', layout=Layout(height='25px', width='50%'),…"
      ]
     },
     "metadata": {},
     "output_type": "display_data"
    }
   ],
   "source": [
    "# For each feautre, use Hashing trick to encode the data:\n",
    "\n",
    "# Import the required libraries:\n",
    "import pyspark.mllib.feature as feat"
   ]
  },
  {
   "cell_type": "code",
   "execution_count": 55,
   "metadata": {},
   "outputs": [
    {
     "data": {
      "application/vnd.jupyter.widget-view+json": {
       "model_id": "",
       "version_major": 2,
       "version_minor": 0
      },
      "text/plain": [
       "FloatProgress(value=0.0, bar_style='info', description='Progress:', layout=Layout(height='25px', width='50%'),…"
      ]
     },
     "metadata": {},
     "output_type": "display_data"
    },
    {
     "name": "stdout",
     "output_type": "stream",
     "text": [
      "['label', 'age', 'capital-gain', 'capital-loss', 'hours-per-week', 'workclass', 'education', 'marital-status', 'occupation', 'relationship', 'race', 'sex', 'native-country']"
     ]
    }
   ],
   "source": [
    "# Categorical Columns:\n",
    "cols_keep"
   ]
  },
  {
   "cell_type": "code",
   "execution_count": 52,
   "metadata": {},
   "outputs": [
    {
     "data": {
      "application/vnd.jupyter.widget-view+json": {
       "model_id": "",
       "version_major": 2,
       "version_minor": 0
      },
      "text/plain": [
       "FloatProgress(value=0.0, bar_style='info', description='Progress:', layout=Layout(height='25px', width='50%'),…"
      ]
     },
     "metadata": {},
     "output_type": "display_data"
    }
   ],
   "source": [
    "final_data = (\n",
    "    census_income_dat\n",
    "    .select(cols_keep)\n",
    "    .rdd\n",
    "    .map(lambda row: [\n",
    "        list( feat.HashingTF( int(len_features[col] / 2.0) ).transform(row[i]).toArray()\n",
    "        ) if i >= 5 else [row[i]] for i, col in enumerate(cols_keep)\n",
    "    ])\n",
    ")"
   ]
  },
  {
   "cell_type": "code",
   "execution_count": 53,
   "metadata": {},
   "outputs": [
    {
     "data": {
      "application/vnd.jupyter.widget-view+json": {
       "model_id": "",
       "version_major": 2,
       "version_minor": 0
      },
      "text/plain": [
       "FloatProgress(value=0.0, bar_style='info', description='Progress:', layout=Layout(height='25px', width='50%'),…"
      ]
     },
     "metadata": {},
     "output_type": "display_data"
    },
    {
     "name": "stdout",
     "output_type": "stream",
     "text": [
      "[[['<=50K'], [39], [2174], [0], [40], [1.0, 2.0, 1.0, 5.0], [3.0, 3.0, 0.0, 0.0, 1.0, 0.0, 1.0, 1.0], [2.0, 3.0, 8.0], [0.0, 3.0, 3.0, 1.0, 4.0, 1.0, 0.0], [5.0, 5.0, 3.0], [3.0, 2.0], [4.0], [1.0, 0.0, 0.0, 3.0, 0.0, 1.0, 0.0, 0.0, 0.0, 0.0, 0.0, 2.0, 0.0, 0.0, 0.0, 1.0, 1.0, 2.0, 1.0, 1.0, 0.0]], [['<=50K'], [50], [0], [0], [13], [4.0, 3.0, 1.0, 8.0], [3.0, 3.0, 0.0, 0.0, 1.0, 0.0, 1.0, 1.0], [5.0, 5.0, 8.0], [0.0, 1.0, 2.0, 2.0, 8.0, 1.0, 1.0], [4.0, 2.0, 1.0], [3.0, 2.0], [4.0], [1.0, 0.0, 0.0, 3.0, 0.0, 1.0, 0.0, 0.0, 0.0, 0.0, 0.0, 2.0, 0.0, 0.0, 0.0, 1.0, 1.0, 2.0, 1.0, 1.0, 0.0]], [['<=50K'], [38], [0], [0], [40], [2.0, 2.0, 0.0, 3.0], [2.0, 2.0, 0.0, 0.0, 0.0, 0.0, 2.0, 1.0], [3.0, 2.0, 3.0], [2.0, 3.0, 1.0, 3.0, 7.0, 0.0, 1.0], [5.0, 5.0, 3.0], [3.0, 2.0], [4.0], [1.0, 0.0, 0.0, 3.0, 0.0, 1.0, 0.0, 0.0, 0.0, 0.0, 0.0, 2.0, 0.0, 0.0, 0.0, 1.0, 1.0, 2.0, 1.0, 1.0, 0.0]]]"
     ]
    }
   ],
   "source": [
    "# Inspect:\n",
    "final_data.take(3)"
   ]
  },
  {
   "cell_type": "markdown",
   "metadata": {},
   "source": [
    "## 6.2 Encode the Label:\n",
    "\n",
    "The label is still a categorical variable which also needs to be transformed. The label has only two values and can be seen to be the first column of each row.\n",
    "\n",
    "To do this:\n",
    "- First, the UDF encode_label() function takes an input that is the label, and checks if it is \">50k\", where if yes, it will return a Boolean true or otherwise false.\n",
    "- This is then also converted to integers.\n",
    "- Next, map the data with this encode_label function by using the .map() method. The first element to pass is the label in each row. \n",
    "- Then, in addition to the label data, lopp through the remaining lists of row data and combine them together."
   ]
  },
  {
   "cell_type": "code",
   "execution_count": 56,
   "metadata": {},
   "outputs": [
    {
     "data": {
      "application/vnd.jupyter.widget-view+json": {
       "model_id": "",
       "version_major": 2,
       "version_minor": 0
      },
      "text/plain": [
       "FloatProgress(value=0.0, bar_style='info', description='Progress:', layout=Layout(height='25px', width='50%'),…"
      ]
     },
     "metadata": {},
     "output_type": "display_data"
    }
   ],
   "source": [
    "# User Define func:\n",
    "def encode_label(label):\n",
    "    return [int(label[0] == '>50K')]"
   ]
  },
  {
   "cell_type": "code",
   "execution_count": 57,
   "metadata": {},
   "outputs": [
    {
     "data": {
      "application/vnd.jupyter.widget-view+json": {
       "model_id": "",
       "version_major": 2,
       "version_minor": 0
      },
      "text/plain": [
       "FloatProgress(value=0.0, bar_style='info', description='Progress:', layout=Layout(height='25px', width='50%'),…"
      ]
     },
     "metadata": {},
     "output_type": "display_data"
    }
   ],
   "source": [
    "# Apple the UDF:\n",
    "final_data = (\n",
    "    final_data\n",
    "    .map(lambda row: encode_label(row[0]) + [item for sublist in row[1:] for item in sublist])\n",
    ")"
   ]
  },
  {
   "cell_type": "markdown",
   "metadata": {},
   "source": [
    "## 7 Standardising the data:\n",
    "\n"
   ]
  },
  {
   "cell_type": "code",
   "execution_count": null,
   "metadata": {},
   "outputs": [],
   "source": []
  },
  {
   "cell_type": "code",
   "execution_count": null,
   "metadata": {},
   "outputs": [],
   "source": []
  },
  {
   "cell_type": "code",
   "execution_count": null,
   "metadata": {},
   "outputs": [],
   "source": []
  },
  {
   "cell_type": "code",
   "execution_count": null,
   "metadata": {},
   "outputs": [],
   "source": []
  },
  {
   "cell_type": "code",
   "execution_count": null,
   "metadata": {},
   "outputs": [],
   "source": []
  },
  {
   "cell_type": "code",
   "execution_count": null,
   "metadata": {},
   "outputs": [],
   "source": []
  },
  {
   "cell_type": "code",
   "execution_count": null,
   "metadata": {},
   "outputs": [],
   "source": []
  },
  {
   "cell_type": "code",
   "execution_count": null,
   "metadata": {},
   "outputs": [],
   "source": []
  },
  {
   "cell_type": "code",
   "execution_count": null,
   "metadata": {},
   "outputs": [],
   "source": []
  },
  {
   "cell_type": "code",
   "execution_count": null,
   "metadata": {},
   "outputs": [],
   "source": []
  },
  {
   "cell_type": "code",
   "execution_count": null,
   "metadata": {},
   "outputs": [],
   "source": []
  },
  {
   "cell_type": "code",
   "execution_count": null,
   "metadata": {},
   "outputs": [],
   "source": []
  },
  {
   "cell_type": "code",
   "execution_count": null,
   "metadata": {},
   "outputs": [],
   "source": []
  },
  {
   "cell_type": "code",
   "execution_count": null,
   "metadata": {},
   "outputs": [],
   "source": []
  },
  {
   "cell_type": "code",
   "execution_count": null,
   "metadata": {},
   "outputs": [],
   "source": []
  }
 ],
 "metadata": {
  "kernelspec": {
   "display_name": "PySpark",
   "language": "",
   "name": "pysparkkernel"
  },
  "language_info": {
   "codemirror_mode": {
    "name": "python",
    "version": 3
   },
   "mimetype": "text/x-python",
   "name": "pyspark",
   "pygments_lexer": "python3"
  }
 },
 "nbformat": 4,
 "nbformat_minor": 4
}
