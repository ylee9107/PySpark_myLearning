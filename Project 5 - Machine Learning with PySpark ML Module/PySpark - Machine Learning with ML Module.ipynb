{
 "cells": [
  {
   "cell_type": "markdown",
   "metadata": {},
   "source": [
    "# PySpark - Machine Learning with ML Module\n",
    "\n",
    "## Introduction\n",
    "\n",
    "In the previous Project 4, the topics covered were from the MLlib Module, however this has be deprecated recently. Therefore in this project 5, the currently support machine learning module will be explored and is called the ML module. Similar to the MLlib, this ML module consists of a wide variety of machine learning models, with the exception that it operates on Spark DataFrames. This also means that it can leverage the tungsten execution optimisations. \n",
    "\n",
    "## Breakdown of this Notebook\n",
    "\n",
    "- Transformers introduction\n",
    "- Estimators introduction\n",
    "- Pipelines introduction\n",
    "- Selecting the most predictable features\n",
    "- Predicting forest coverage types\n",
    "- Estimating forest elevations\n",
    "- Clustering forest cover types\n",
    "- Tuning Hyperparameters\n",
    "- Extracting features from text\n",
    "- Discretising conitnuous variables\n",
    "- Standardising continuous variables\n",
    "- Topic Mining\n",
    "\n",
    "## Dataset:\n",
    "\n",
    "The dataset used for this project is the forest cover type dataset. It is used to predict the forest cover type from cartographic variables, meaning that there is no remote sensed data. The forest area included in this dataset are the four wilderness areas (Rawah (area 1), Neota (area 2), Comanche Peak (area 3), Cache la Poudre (area 4)) that is located in Roosevelt National Forest of Northern Colorado.\n",
    "\n",
    "Source: https://archive.ics.uci.edu/ml/datasets/covertype or https://www.kaggle.com/uciml/forest-cover-type-dataset\n",
    "\n",
    "\n",
    "## 1 PySpark Machine Configuration:\n",
    "\n",
    "Here it only uses 4 processing cores from the CPU, and it set up by the following code."
   ]
  },
  {
   "cell_type": "code",
   "execution_count": 1,
   "metadata": {},
   "outputs": [
    {
     "data": {
      "text/html": [
       "Current session configs: <tt>{'executorCores': 4, 'kind': 'pyspark'}</tt><br>"
      ],
      "text/plain": [
       "<IPython.core.display.HTML object>"
      ]
     },
     "metadata": {},
     "output_type": "display_data"
    },
    {
     "data": {
      "text/html": [
       "No active sessions."
      ],
      "text/plain": [
       "<IPython.core.display.HTML object>"
      ]
     },
     "metadata": {},
     "output_type": "display_data"
    }
   ],
   "source": [
    "%%configure\n",
    "{\n",
    "    \"executorCores\" : 4\n",
    "}"
   ]
  },
  {
   "cell_type": "code",
   "execution_count": 2,
   "metadata": {},
   "outputs": [
    {
     "name": "stdout",
     "output_type": "stream",
     "text": [
      "Starting Spark application\n"
     ]
    },
    {
     "data": {
      "text/html": [
       "<table>\n",
       "<tr><th>ID</th><th>YARN Application ID</th><th>Kind</th><th>State</th><th>Spark UI</th><th>Driver log</th><th>Current session?</th></tr><tr><td>3</td><td>None</td><td>pyspark</td><td>idle</td><td></td><td></td><td>✔</td></tr></table>"
      ],
      "text/plain": [
       "<IPython.core.display.HTML object>"
      ]
     },
     "metadata": {},
     "output_type": "display_data"
    },
    {
     "data": {
      "application/vnd.jupyter.widget-view+json": {
       "model_id": "",
       "version_major": 2,
       "version_minor": 0
      },
      "text/plain": [
       "FloatProgress(value=0.0, bar_style='info', description='Progress:', layout=Layout(height='25px', width='50%'),…"
      ]
     },
     "metadata": {},
     "output_type": "display_data"
    },
    {
     "name": "stdout",
     "output_type": "stream",
     "text": [
      "SparkSession available as 'spark'.\n"
     ]
    },
    {
     "data": {
      "application/vnd.jupyter.widget-view+json": {
       "model_id": "",
       "version_major": 2,
       "version_minor": 0
      },
      "text/plain": [
       "FloatProgress(value=0.0, bar_style='info', description='Progress:', layout=Layout(height='25px', width='50%'),…"
      ]
     },
     "metadata": {},
     "output_type": "display_data"
    }
   ],
   "source": [
    "from pyspark.sql.types import *"
   ]
  },
  {
   "cell_type": "markdown",
   "metadata": {},
   "source": [
    "## 2 Setup the Correct Directory:"
   ]
  },
  {
   "cell_type": "code",
   "execution_count": 3,
   "metadata": {},
   "outputs": [
    {
     "data": {
      "application/vnd.jupyter.widget-view+json": {
       "model_id": "",
       "version_major": 2,
       "version_minor": 0
      },
      "text/plain": [
       "FloatProgress(value=0.0, bar_style='info', description='Progress:', layout=Layout(height='25px', width='50%'),…"
      ]
     },
     "metadata": {},
     "output_type": "display_data"
    }
   ],
   "source": [
    "import os\n",
    "\n",
    "# Change the Path:\n",
    "path = '++++your working directory here++++/Datasets/'\n",
    "os.chdir(path)\n",
    "folder_pathway = os.getcwd()\n",
    "\n",
    "# print(folder_pathway)"
   ]
  },
  {
   "cell_type": "markdown",
   "metadata": {},
   "source": [
    "## 3 Load in the Dataset:\n",
    "\n",
    "There should be a folder called \"Datasets\" included for the CSV file."
   ]
  },
  {
   "cell_type": "code",
   "execution_count": 4,
   "metadata": {},
   "outputs": [
    {
     "data": {
      "application/vnd.jupyter.widget-view+json": {
       "model_id": "",
       "version_major": 2,
       "version_minor": 0
      },
      "text/plain": [
       "FloatProgress(value=0.0, bar_style='info', description='Progress:', layout=Layout(height='25px', width='50%'),…"
      ]
     },
     "metadata": {},
     "output_type": "display_data"
    }
   ],
   "source": [
    "forest_dat = spark.read.csv(folder_pathway + '/Datasets/forest_covtype.csv', header = True, inferSchema = True)"
   ]
  },
  {
   "cell_type": "code",
   "execution_count": 5,
   "metadata": {},
   "outputs": [
    {
     "data": {
      "application/vnd.jupyter.widget-view+json": {
       "model_id": "",
       "version_major": 2,
       "version_minor": 0
      },
      "text/plain": [
       "FloatProgress(value=0.0, bar_style='info', description='Progress:', layout=Layout(height='25px', width='50%'),…"
      ]
     },
     "metadata": {},
     "output_type": "display_data"
    },
    {
     "name": "stdout",
     "output_type": "stream",
     "text": [
      "root\n",
      " |-- Elevation: integer (nullable = true)\n",
      " |-- Aspect: integer (nullable = true)\n",
      " |-- Slope: integer (nullable = true)\n",
      " |-- Horizontal_Distance_To_Hydrology: integer (nullable = true)\n",
      " |-- Vertical_Distance_To_Hydrology: integer (nullable = true)\n",
      " |-- Horizontal_Distance_To_Roadways: integer (nullable = true)\n",
      " |-- Hillshade_9am: integer (nullable = true)\n",
      " |-- Hillshade_Noon: integer (nullable = true)\n",
      " |-- Hillshade_3pm: integer (nullable = true)\n",
      " |-- Horizontal_Distance_To_Fire_Points: integer (nullable = true)\n",
      " |-- Wilderness_Area1: integer (nullable = true)\n",
      " |-- Wilderness_Area2: integer (nullable = true)\n",
      " |-- Wilderness_Area3: integer (nullable = true)\n",
      " |-- Wilderness_Area4: integer (nullable = true)\n",
      " |-- Soil_Type1: integer (nullable = true)\n",
      " |-- Soil_Type2: integer (nullable = true)\n",
      " |-- Soil_Type3: integer (nullable = true)\n",
      " |-- Soil_Type4: integer (nullable = true)\n",
      " |-- Soil_Type5: integer (nullable = true)\n",
      " |-- Soil_Type6: integer (nullable = true)\n",
      " |-- Soil_Type7: integer (nullable = true)\n",
      " |-- Soil_Type8: integer (nullable = true)\n",
      " |-- Soil_Type9: integer (nullable = true)\n",
      " |-- Soil_Type10: integer (nullable = true)\n",
      " |-- Soil_Type11: integer (nullable = true)\n",
      " |-- Soil_Type12: integer (nullable = true)\n",
      " |-- Soil_Type13: integer (nullable = true)\n",
      " |-- Soil_Type14: integer (nullable = true)\n",
      " |-- Soil_Type15: integer (nullable = true)\n",
      " |-- Soil_Type16: integer (nullable = true)\n",
      " |-- Soil_Type17: integer (nullable = true)\n",
      " |-- Soil_Type18: integer (nullable = true)\n",
      " |-- Soil_Type19: integer (nullable = true)\n",
      " |-- Soil_Type20: integer (nullable = true)\n",
      " |-- Soil_Type21: integer (nullable = true)\n",
      " |-- Soil_Type22: integer (nullable = true)\n",
      " |-- Soil_Type23: integer (nullable = true)\n",
      " |-- Soil_Type24: integer (nullable = true)\n",
      " |-- Soil_Type25: integer (nullable = true)\n",
      " |-- Soil_Type26: integer (nullable = true)\n",
      " |-- Soil_Type27: integer (nullable = true)\n",
      " |-- Soil_Type28: integer (nullable = true)\n",
      " |-- Soil_Type29: integer (nullable = true)\n",
      " |-- Soil_Type30: integer (nullable = true)\n",
      " |-- Soil_Type31: integer (nullable = true)\n",
      " |-- Soil_Type32: integer (nullable = true)\n",
      " |-- Soil_Type33: integer (nullable = true)\n",
      " |-- Soil_Type34: integer (nullable = true)\n",
      " |-- Soil_Type35: integer (nullable = true)\n",
      " |-- Soil_Type36: integer (nullable = true)\n",
      " |-- Soil_Type37: integer (nullable = true)\n",
      " |-- Soil_Type38: integer (nullable = true)\n",
      " |-- Soil_Type39: integer (nullable = true)\n",
      " |-- Soil_Type40: integer (nullable = true)\n",
      " |-- Cover_Type: integer (nullable = true)"
     ]
    }
   ],
   "source": [
    "forest_dat.printSchema()"
   ]
  },
  {
   "cell_type": "markdown",
   "metadata": {},
   "source": [
    "## 4 Transformers introduction:\n",
    "\n",
    "A Transformer performs a transform() method that converts one DataFrame into another, usually appending a single or more columns. It is also an abstraction that includes feature transformaers and learned models.\n",
    "\n",
    "- A feature transformer will take a DataFrame, read a column (like text), and then map it into a new column (feature vectors), once done, it will output a new DataFrame with the mapped column appended.\n",
    "\n",
    "- A learning model will take a DataFrame, read the feature vectors column, predict the label for each feature vector, and then it will output a new DataFrame with predicted label results appended as a column.\n",
    "\n",
    "Source: https://spark.apache.org/docs/1.6.0/ml-guide.html#transformers and https://spark.apache.org/docs/1.6.0/ml-features.html\n",
    "\n",
    "### The following diagram shows a list of other types of Transformers that is able to convert one feature to another:"
   ]
  },
  {
   "cell_type": "code",
   "execution_count": 6,
   "metadata": {},
   "outputs": [
    {
     "name": "stdout",
     "output_type": "stream",
     "text": [
      "Image source -> https://spark.apache.org/docs/2.2.0/ml-features.html\n"
     ]
    },
    {
     "data": {
      "image/png": "[encoded data removed]",
      "text/plain": [
       "<Figure size 1152x720 with 1 Axes>"
      ]
     },
     "metadata": {
      "needs_background": "light"
     },
     "output_type": "display_data"
    }
   ],
   "source": [
    "%%local\n",
    "\n",
    "# Import the required library and set to use ggplot:\n",
    "import os\n",
    "import matplotlib.pyplot as plt\n",
    "import matplotlib.image as mpimg\n",
    "%matplotlib inline\n",
    "\n",
    "folder_pathway = os.getcwd()\n",
    "# print(folder_pathway)\n",
    "image_path = folder_pathway + \"/Description Images/\"\n",
    "\n",
    "# plot the image\n",
    "fig, ax1 = plt.subplots(figsize=(16,10))\n",
    "image = mpimg.imread(image_path + 'Spark Transformer types.png')\n",
    "plt.imshow(image);\n",
    "\n",
    "print('Image source -> https://spark.apache.org/docs/2.2.0/ml-features.html')"
   ]
  },
  {
   "cell_type": "markdown",
   "metadata": {},
   "source": [
    "### In this section, the Bucketizer and VectorAssembler will be explored.\n",
    "\n",
    "## 4.1 Bucketiser:\n",
    "\n",
    "This will transform the \"Horizontal_Distance_To_Hydrology\" column into 10 equidistant buckets. The Horizontal_Distance_To_Hydrology column is quantitative, measured in meters and can be described as the __Horizontal Distance to nearest surface water features__.\n",
    "\n",
    "Bucketizer uses a list of thresholds to transform a continuous numerical variable into a discrete one (with as many levels as the length of the list of thresholds plus one).\n",
    "\n",
    "To do this:\n",
    "- First, load in the required packages.\n",
    "- Next, bucketise the numerical variables into 10 buckets.\n",
    "- Calculate the minimum and maximum values for the \"Horizontal_Distance_To_Hydrology\" feature and it will return these 2 values to the driver node. \n",
    "- When on the driver, a list of thresholds is created that takes in 3 parameters. The first parameter is np.arrange() is the minimum, the second is the maximum and the last one is the size of each step. This should define the \"splits\" list.\n",
    "- Pass the splits list to the .Bucketizer() method. \n",
    "- Lastly, the bucketizer object will transform the DataFrame accordingly."
   ]
  },
  {
   "cell_type": "code",
   "execution_count": 7,
   "metadata": {},
   "outputs": [
    {
     "data": {
      "application/vnd.jupyter.widget-view+json": {
       "model_id": "",
       "version_major": 2,
       "version_minor": 0
      },
      "text/plain": [
       "FloatProgress(value=0.0, bar_style='info', description='Progress:', layout=Layout(height='25px', width='50%'),…"
      ]
     },
     "metadata": {},
     "output_type": "display_data"
    }
   ],
   "source": [
    "# Import the required package:\n",
    "import pyspark.sql.functions as f\n",
    "import pyspark.ml.feature as feat\n",
    "import numpy as np"
   ]
  },
  {
   "cell_type": "code",
   "execution_count": 8,
   "metadata": {},
   "outputs": [
    {
     "data": {
      "application/vnd.jupyter.widget-view+json": {
       "model_id": "",
       "version_major": 2,
       "version_minor": 0
      },
      "text/plain": [
       "FloatProgress(value=0.0, bar_style='info', description='Progress:', layout=Layout(height='25px', width='50%'),…"
      ]
     },
     "metadata": {},
     "output_type": "display_data"
    },
    {
     "name": "stdout",
     "output_type": "stream",
     "text": [
      "+--------------------------------+------------------------------------+\n",
      "|Horizontal_Distance_To_Hydrology|Horizontal_Distance_To_Hydrology_Bkt|\n",
      "+--------------------------------+------------------------------------+\n",
      "|                             258|                                 2.0|\n",
      "|                             212|                                 1.0|\n",
      "|                             268|                                 2.0|\n",
      "|                             242|                                 1.0|\n",
      "|                             153|                                 1.0|\n",
      "+--------------------------------+------------------------------------+\n",
      "only showing top 5 rows"
     ]
    }
   ],
   "source": [
    "# Define the number of numerical variables to bucketise:\n",
    "buckets_nb = 10\n",
    "\n",
    "# Calculate the min and max values of \"Horizontal_Distance_To_Hydrology\" feature:\n",
    "dist_minMax = (\n",
    "    forest_dat.agg(\n",
    "        f.min('Horizontal_Distance_To_Hydrology').alias('min'),\n",
    "        f.max('Horizontal_Distance_To_Hydrology').alias('max')\n",
    "    )\n",
    "    .rdd\n",
    "    .map(lambda row: (row.min, row.max))\n",
    "    .collect()[0]\n",
    ")\n",
    "\n",
    "# Calc the range between max and min distance:\n",
    "rng_dist = dist_minMax[1] - dist_minMax[0]\n",
    "\n",
    "# Create a Splits Lists:\n",
    "splits_list = list(np.arange(\n",
    "    dist_minMax[0],\n",
    "    dist_minMax[1],\n",
    "    rng_dist / (buckets_nb + 1)\n",
    "))\n",
    "\n",
    "# Using the Split list for the Bucketiser method:\n",
    "bucketiser = feat.Bucketizer(\n",
    "    splits = splits_list,\n",
    "    inputCol = 'Horizontal_Distance_To_Hydrology',\n",
    "    outputCol = 'Horizontal_Distance_To_Hydrology_Bkt'\n",
    ")\n",
    "\n",
    "# Transform the DataFrame:\n",
    "(\n",
    "    bucketiser\n",
    "    .transform(forest_dat)\n",
    "    .select('Horizontal_Distance_To_Hydrology', 'Horizontal_Distance_To_Hydrology_Bkt')\n",
    "    .show(5)\n",
    ")\n"
   ]
  },
  {
   "cell_type": "markdown",
   "metadata": {},
   "source": [
    "## 4.2 VectorAssembler:\n",
    "\n",
    "This section will combine multiple columns into a single column, then be used for PCA to find the principal components from the dataset. This will reduce the dimensionality/complexity as well.\n",
    "\n",
    "The VectorAssembler collates multiple columns of features into a single column or in other words, it combines the specified (separate) features into a single feature. Unlike other Transformers, it has the inputCols (with an \"s\") parameter that accepts a list of columns rather than a single column.\n",
    "\n",
    "To do this:\n",
    "- Use the .VectorAssembler() to collate all of the columns from the dataFrame.\n",
    "- Extract the top 5 most significatn principal components by using the \"feat\" column ( new a SparseVector containing all the features) in the PCA() method."
   ]
  },
  {
   "cell_type": "code",
   "execution_count": 9,
   "metadata": {},
   "outputs": [
    {
     "data": {
      "application/vnd.jupyter.widget-view+json": {
       "model_id": "",
       "version_major": 2,
       "version_minor": 0
      },
      "text/plain": [
       "FloatProgress(value=0.0, bar_style='info', description='Progress:', layout=Layout(height='25px', width='50%'),…"
      ]
     },
     "metadata": {},
     "output_type": "display_data"
    },
    {
     "name": "stdout",
     "output_type": "stream",
     "text": [
      "[Row(feat=SparseVector(55, {0: 2596.0, 1: 51.0, 2: 3.0, 3: 258.0, 5: 510.0, 6: 221.0, 7: 232.0, 8: 148.0, 9: 6279.0, 10: 1.0, 42: 1.0, 54: 5.0}), pca_feat=DenseVector([-3887.7711, 4996.8103, 2323.0932, 1014.5873, -135.1702]))]"
     ]
    }
   ],
   "source": [
    "# Instantise the VectorAssembler and input the dataset for collation of the columns:\n",
    "vectorAssembler = (\n",
    "    feat.VectorAssembler(inputCols = forest_dat.columns, outputCol = 'feat')\n",
    ")\n",
    "\n",
    "# Perform PCA:\n",
    "nb_PC = 5\n",
    "\n",
    "pca_dat = (\n",
    "    feat.PCA(k = nb_PC, inputCol = vectorAssembler.getOutputCol(), outputCol = 'pca_feat')\n",
    ")\n",
    "\n",
    "# Fit and transfrom the dataset with the calculated PCA mapping:\n",
    "(\n",
    "    pca_dat\n",
    "    .fit(vectorAssembler.transform(forest_dat))\n",
    "    .transform(vectorAssembler.transform(forest_dat))\n",
    "    .select('feat', 'pca_feat')\n",
    "    .take(1)\n",
    ")"
   ]
  },
  {
   "cell_type": "markdown",
   "metadata": {},
   "source": [
    "## 5 Estimators introduction:\n",
    "\n",
    "Estimators can be described as an abstraction of a learning algorithm (or any algorithm) that will fit/train on the dataset. More specifically, an Estimator that implements a fit() method that accepts a DataFrame to produce a Model. This Model is a Transformer. For example, for Logistic Regression where it is an Estimator and that calling fit() method will train the LogisticRegressionModel, where it is a Model and hence a Transformer.\n",
    "\n",
    "Source: https://spark.apache.org/docs/1.6.0/ml-guide.html#estimators, https://spark.apache.org/docs/1.6.0/ml-classification-regression.html and https://spark.apache.org/docs/1.6.0/ml-clustering.html\n",
    "\n",
    "\n",
    "### The following diagrams shows a list of other types of Estimators (Machine Learning Models):\n",
    "\n",
    "#### For Classification and Regression models:"
   ]
  },
  {
   "cell_type": "code",
   "execution_count": 10,
   "metadata": {},
   "outputs": [
    {
     "name": "stdout",
     "output_type": "stream",
     "text": [
      "Image source -> https://spark.apache.org/docs/1.6.0/ml-classification-regression.html\n"
     ]
    },
    {
     "data": {
      "image/png": "[encoded data removed]",
      "text/plain": [
       "<Figure size 1152x720 with 1 Axes>"
      ]
     },
     "metadata": {
      "needs_background": "light"
     },
     "output_type": "display_data"
    }
   ],
   "source": [
    "%%local\n",
    "\n",
    "# plot the image\n",
    "fig, ax1 = plt.subplots(figsize=(16, 10))\n",
    "image = mpimg.imread(image_path + 'Spark Estimator types_1.png')\n",
    "plt.imshow(image);\n",
    "\n",
    "print('Image source -> https://spark.apache.org/docs/1.6.0/ml-classification-regression.html')"
   ]
  },
  {
   "cell_type": "markdown",
   "metadata": {},
   "source": [
    "#### For Clustering models:"
   ]
  },
  {
   "cell_type": "code",
   "execution_count": 11,
   "metadata": {},
   "outputs": [
    {
     "name": "stdout",
     "output_type": "stream",
     "text": [
      "Image source -> https://spark.apache.org/docs/1.6.0/ml-clustering.html\n"
     ]
    },
    {
     "data": {
      "image/png": "[encoded data removed]",
      "text/plain": [
       "<Figure size 1152x252 with 1 Axes>"
      ]
     },
     "metadata": {
      "needs_background": "light"
     },
     "output_type": "display_data"
    }
   ],
   "source": [
    "%%local\n",
    "\n",
    "# plot the image\n",
    "fig, ax1 = plt.subplots(figsize=(16, 3.5))\n",
    "image = mpimg.imread(image_path + 'Spark Estimator types_2.png')\n",
    "plt.imshow(image);\n",
    "\n",
    "print('Image source -> https://spark.apache.org/docs/1.6.0/ml-clustering.html')"
   ]
  },
  {
   "cell_type": "markdown",
   "metadata": {},
   "source": [
    "## 5.1 Estimator Type: Support Vector Machine (SVM)\n",
    "\n",
    "This section will explore on building a SVM model.\n",
    "\n",
    "To do this:\n",
    "- First, load in the necessary libraries.\n",
    "- Next, use the .VectorAssembler() method to extract all the columns from the dataFrame, except for the last column that is the \"CoverType\" which will be the __Label__.\n",
    "    - The label here is the \"Spruce-fir\" type which is equal to 1 in the dataset. \n",
    "    - To find these values, check whether the \"Cover_Type\" == 1 and casting the resulting Boolean as an Integer.\n",
    "- Next, select the label and features.\n",
    "- Next, create a LinearSVC object for the SVM model.\n",
    "    - Specify the max iterations as 10,\n",
    "    - Set it to have L2 (or Ridge) regularisation and to be 1%.\n",
    "- Finally, use the .fit() method the SVM object on the dataset, and once completed, extract the estimated coefficients.\n",
    "\n",
    "Other parameters can be:\n",
    "- featuresCol, set as the name of the feature columns -> Default is \"features\"\n",
    "- labelCol, set as the name of the label column\n",
    "- predictionCol, set as the name of the prediction column, if there is a need to rename it to something else other than \"prediction\".\n",
    "- tol, stopping parameter defining the minimum change between iterations in terms of the cost function. -> Default is \"10^-6\", if it is changed to a smaller value then it will be assumed to have converged.\n",
    "- rawPredictionCol, returns the raw value from the generating function.\n",
    "- fitIntercept, the model will fit the intercept as well -> Default is set to True.\n",
    "- standardization, it standardises the features prior to fitting the model -> Default is set to True\n",
    "- threshold, it decided what will be classified into either 1 or 0 -> Default is \"0.0\"\n",
    "- weightCol, Each observation's column (set as Column names) will be weighted differently.\n",
    "- aggregationDepth, this would be the tree-depth parameter used for the aggregation."
   ]
  },
  {
   "cell_type": "code",
   "execution_count": 12,
   "metadata": {},
   "outputs": [
    {
     "data": {
      "application/vnd.jupyter.widget-view+json": {
       "model_id": "",
       "version_major": 2,
       "version_minor": 0
      },
      "text/plain": [
       "FloatProgress(value=0.0, bar_style='info', description='Progress:', layout=Layout(height='25px', width='50%'),…"
      ]
     },
     "metadata": {},
     "output_type": "display_data"
    }
   ],
   "source": [
    "# Import the relevant libraries:\n",
    "import pyspark.ml.classification as cl"
   ]
  },
  {
   "cell_type": "code",
   "execution_count": 13,
   "metadata": {},
   "outputs": [
    {
     "data": {
      "application/vnd.jupyter.widget-view+json": {
       "model_id": "",
       "version_major": 2,
       "version_minor": 0
      },
      "text/plain": [
       "FloatProgress(value=0.0, bar_style='info', description='Progress:', layout=Layout(height='25px', width='50%'),…"
      ]
     },
     "metadata": {},
     "output_type": "display_data"
    }
   ],
   "source": [
    "# Collate the set of columns into a single feature column:\n",
    "vectorAssembler = feat.VectorAssembler(\n",
    "    inputCols = forest_dat.columns[0:-1],\n",
    "    outputCol = 'features'\n",
    ")\n",
    "\n",
    "# Select only the Spruce-fir type to be the labels:\n",
    "Spruce_fir_dat = (\n",
    "    vectorAssembler\n",
    "    .transform(forest_dat)\n",
    "    .withColumn('label', (f.col('Cover_Type') == 1).cast('Integer') )\n",
    "    .select('label', 'features')\n",
    ")\n",
    "\n",
    "# Instantise the SVM object:\n",
    "svc_obj= cl.LinearSVC(maxIter = 10, regParam = 0.01)\n",
    "\n",
    "# Fit the model to the dataset:\n",
    "svc_model = svc_obj.fit(Spruce_fir_dat)"
   ]
  },
  {
   "cell_type": "code",
   "execution_count": 14,
   "metadata": {},
   "outputs": [
    {
     "data": {
      "application/vnd.jupyter.widget-view+json": {
       "model_id": "",
       "version_major": 2,
       "version_minor": 0
      },
      "text/plain": [
       "FloatProgress(value=0.0, bar_style='info', description='Progress:', layout=Layout(height='25px', width='50%'),…"
      ]
     },
     "metadata": {},
     "output_type": "display_data"
    },
    {
     "name": "stdout",
     "output_type": "stream",
     "text": [
      "DenseVector([-0.0001, -0.0, -0.0023, -0.0, -0.0001, 0.0, -0.001, -0.0017, -0.0003, -0.0, 0.0, 0.0401, -0.0071, -0.0958, -0.0901, -0.0653, -0.0655, -0.0437, -0.0928, -0.0848, -0.0211, -0.0045, -0.0498, -0.0829, -0.0522, -0.0325, -0.0263, -0.0923, -0.0889, -0.0275, -0.0606, -0.0595, 0.0341, -0.003, 0.0822, 0.0607, 0.0351, 0.0093, 0.0048, -0.0154, 0.0422, -0.0673, -0.0039, -0.0142, 0.0036, 0.0078, 0.0, -0.0117, 0.0283, -0.0002, -0.0463, 0.0394, 0.0292, 0.0358])"
     ]
    }
   ],
   "source": [
    "# Extract the estimated coefficients from the model:\n",
    "svc_model.coefficients"
   ]
  },
  {
   "cell_type": "markdown",
   "metadata": {},
   "source": [
    "## 5.2 Estimator Type: Linear Regression\n",
    "\n",
    "This section will explore on building a Linear Regression model. It has a similar set up to the above SVM model, however the Label used here is different. The Label chosen is the \"Elevation\" column and it will be cast as Float (for regression problems)."
   ]
  },
  {
   "cell_type": "code",
   "execution_count": 15,
   "metadata": {},
   "outputs": [
    {
     "data": {
      "application/vnd.jupyter.widget-view+json": {
       "model_id": "",
       "version_major": 2,
       "version_minor": 0
      },
      "text/plain": [
       "FloatProgress(value=0.0, bar_style='info', description='Progress:', layout=Layout(height='25px', width='50%'),…"
      ]
     },
     "metadata": {},
     "output_type": "display_data"
    }
   ],
   "source": [
    "# Import the required Libraries:\n",
    "import pyspark.ml.regression as rg"
   ]
  },
  {
   "cell_type": "code",
   "execution_count": 16,
   "metadata": {},
   "outputs": [
    {
     "data": {
      "application/vnd.jupyter.widget-view+json": {
       "model_id": "",
       "version_major": 2,
       "version_minor": 0
      },
      "text/plain": [
       "FloatProgress(value=0.0, bar_style='info', description='Progress:', layout=Layout(height='25px', width='50%'),…"
      ]
     },
     "metadata": {},
     "output_type": "display_data"
    }
   ],
   "source": [
    "# Collate the set of columns into a single feature column:\n",
    "vectorAssembler = feat.VectorAssembler(\n",
    "    inputCols = forest_dat.columns[1:],\n",
    "    outputCol = 'features'\n",
    ")\n",
    "\n",
    "# Select only the label to be \"Elevations\":\n",
    "elevation_dat = (\n",
    "    vectorAssembler\n",
    "    .transform(forest_dat)\n",
    "    .withColumn('label', f.col('Elevation').cast('Float') )\n",
    "    .select('label', 'features')\n",
    ")\n",
    "\n",
    "# Instantise the SVM object:\n",
    "lr_obj= rg.LinearRegression( maxIter = 10, regParam = 0.01, elasticNetParam = 1.00 )\n",
    "\n",
    "# Fit the model to the dataset:\n",
    "lr_model = lr_obj.fit(elevation_dat)"
   ]
  },
  {
   "cell_type": "code",
   "execution_count": 17,
   "metadata": {},
   "outputs": [
    {
     "data": {
      "application/vnd.jupyter.widget-view+json": {
       "model_id": "",
       "version_major": 2,
       "version_minor": 0
      },
      "text/plain": [
       "FloatProgress(value=0.0, bar_style='info', description='Progress:', layout=Layout(height='25px', width='50%'),…"
      ]
     },
     "metadata": {},
     "output_type": "display_data"
    },
    {
     "name": "stdout",
     "output_type": "stream",
     "text": [
      "DenseVector([0.0309, 0.6522, 0.1911, 0.1424, 0.0342, 0.7402, 1.053, -0.0017, -0.0041, 2.7163, 189.0362, 27.8238, -265.8505, -407.4379, -346.0612, -364.3841, -302.6788, -400.5852, -212.9918, -126.1329, -117.7423, -312.0478, -248.7118, -221.4788, -155.1459, -84.5129, -398.0433, -387.8102, -179.4485, -261.3875, -337.7875, 48.0629, -94.7813, 149.8043, 135.144, 80.0901, 64.3659, 124.0233, -115.0126, 119.1285, -181.7498, 10.8056, -42.7849, 65.5441, 102.2562, 36.9865, -48.1163, 379.2091, 256.0169, 497.1714, 313.0607, 337.172, 397.0758, -14.4551])"
     ]
    }
   ],
   "source": [
    "# Extract the estimated coefficients from the model:\n",
    "lr_model.coefficients"
   ]
  },
  {
   "cell_type": "markdown",
   "metadata": {},
   "source": [
    "### This Linear Regression model also calculates the summary which returns the basic performance statistics:"
   ]
  },
  {
   "cell_type": "code",
   "execution_count": 18,
   "metadata": {},
   "outputs": [
    {
     "data": {
      "application/vnd.jupyter.widget-view+json": {
       "model_id": "",
       "version_major": 2,
       "version_minor": 0
      },
      "text/plain": [
       "FloatProgress(value=0.0, bar_style='info', description='Progress:', layout=Layout(height='25px', width='50%'),…"
      ]
     },
     "metadata": {},
     "output_type": "display_data"
    },
    {
     "name": "stdout",
     "output_type": "stream",
     "text": [
      " R-Squared: 0.786\n",
      " RMSE: 129.5087\n",
      " MAE: 103.3408"
     ]
    }
   ],
   "source": [
    "summary_lr = lr_model.summary\n",
    "\n",
    "print(\n",
    "    ' R-Squared: ' + str(round(summary_lr.r2, 4)) + '\\n',\n",
    "    'RMSE: ' + str(round(summary_lr.rootMeanSquaredError, 4)) + '\\n',\n",
    "    'MAE: ' + str(round(summary_lr.meanAbsoluteError, 4))\n",
    ")"
   ]
  },
  {
   "cell_type": "markdown",
   "metadata": {},
   "source": [
    "### Observation:\n",
    "\n",
    "By examining the R-Squared value of 78%, it indicates that 78% of all the variability of the data is around its mean meaning that the model is quite well fitted to the data. R-squared is a measure of how close the data are to the fitted regression line.\n",
    "\n",
    "Source: https://blog.minitab.com/blog/adventures-in-statistics-2/regression-analysis-how-do-i-interpret-r-squared-and-assess-the-goodness-of-fit\n",
    "\n",
    "## 6 Pipelines Introduction:\n",
    "\n",
    "A ML project would typically consists of several steps such as data preprocessing, feature extractions, fitting/training the model and evaluation of the results. Throughout these steps, a lot of transformations were performed on the data in sequence. For this, the Pipeline class can be very helpful to sequence each execution steps (stages) that would lead to an estimated model. It is able to chain multiple Transformers and Estimators forming a sequencial execution workflow. This will make the code more readable, debuggable and maintainable as it provides a higher abstraction of the overall system. It also helps to avoid explicitly create multiple transformed datasets as the data goes through different parts of the process.\n",
    "\n",
    "Source: https://www.analyticsvidhya.com/blog/2019/11/build-machine-learning-pipelines-pyspark/\n",
    "\n",
    "\n",
    "\n",
    "### The diagram below shows an example of a Pipeline:"
   ]
  },
  {
   "cell_type": "code",
   "execution_count": 19,
   "metadata": {},
   "outputs": [
    {
     "name": "stdout",
     "output_type": "stream",
     "text": [
      "Image source -> https://www.analyticsvidhya.com/blog/2019/11/build-machine-learning-pipelines-pyspark/\n"
     ]
    },
    {
     "data": {
      "image/png": "[encoded data removed]",
      "text/plain": [
       "<Figure size 1152x1440 with 1 Axes>"
      ]
     },
     "metadata": {
      "needs_background": "light"
     },
     "output_type": "display_data"
    }
   ],
   "source": [
    "%%local\n",
    "\n",
    "# plot the image\n",
    "fig, ax1 = plt.subplots(figsize=(16, 20))\n",
    "image = mpimg.imread(image_path + 'Pipeline Example.png')\n",
    "plt.imshow(image);\n",
    "\n",
    "print('Image source -> https://www.analyticsvidhya.com/blog/2019/11/build-machine-learning-pipelines-pyspark/')"
   ]
  },
  {
   "cell_type": "markdown",
   "metadata": {},
   "source": [
    "## 6.1 Pipeline implementation:\n",
    "\n",
    "This section will show how to streamline the execution of a generalised linear regression model (GLM)\n",
    "\n",
    "To do this:\n",
    "- First, import the Pipeline package.\n",
    "- Create a VectorAssembler object to collate the dataset columns.\n",
    "- Create a GLM object and set the parameters.\n",
    "- Place each of these objects into the Pipeline and run it.\n",
    "- Lastly, fit and transform the dataset with the pipeline object and use the \" .show() \" method to preview the results.\n",
    "\n",
    "After fitting the model to the data, plot the distribution:\n",
    "- Select the \"Elevation\" column from the transformed dataset.\n",
    "- Convert it to a Pandas format with the \" .toPandas() \" so that it can be plotted as a histogram.\n",
    "\n",
    "\n",
    "### However, before the prediction can be done, Ddo Step 6.2 first:\n",
    " \n",
    "In the GLM object for prediction code block, there are __two parameters__ called \"link\" and \"family\" to specify. \\\n",
    "\n",
    "The __\"link\" parameter__ is function that transform the probabilities of the levels of categorical response variable into a scontinuous scale which is unbounded. This ensures that the relationship between the predictors and reponse can be modeled as a linear regression problem. \\\n",
    "\n",
    "The __\"family\" parameter__ is to select the kind of of the error distribution to be used in the model. The supported options: \"gaussian\", \"binomial\", \"poisson\", \"gamma\" and \"tweedie\". Default is \"gaussian\".\n",
    "\n",
    "#### To decide for both Parameters, plot the distribution of the Elevation, as seen below.\n",
    "\n",
    "For more information:\n",
    "- https://online.stat.psu.edu/stat504/node/216/\n",
    "- http://web.pdx.edu/~newsomj/cdaclass/ho_glm.pdf\n",
    "- https://support.minitab.com/en-us/minitab/19/help-and-how-to/modeling-statistics/regression/supporting-topics/logistic-regression/link-function/\n",
    "- https://spark.rstudio.com/reference/ml_generalized_linear_regression/"
   ]
  },
  {
   "cell_type": "markdown",
   "metadata": {},
   "source": [
    "## 6.2 Plot the distribution of the Elevation:"
   ]
  },
  {
   "cell_type": "code",
   "execution_count": 20,
   "metadata": {},
   "outputs": [
    {
     "data": {
      "application/vnd.jupyter.widget-view+json": {
       "model_id": "",
       "version_major": 2,
       "version_minor": 0
      },
      "text/plain": [
       "FloatProgress(value=0.0, bar_style='info', description='Progress:', layout=Layout(height='25px', width='50%'),…"
      ]
     },
     "metadata": {},
     "output_type": "display_data"
    }
   ],
   "source": [
    "# Import the required package:\n",
    "import matplotlib.pyplot as plt"
   ]
  },
  {
   "cell_type": "code",
   "execution_count": 21,
   "metadata": {},
   "outputs": [
    {
     "data": {
      "application/vnd.jupyter.widget-view+json": {
       "model_id": "",
       "version_major": 2,
       "version_minor": 0
      },
      "text/plain": [
       "FloatProgress(value=0.0, bar_style='info', description='Progress:', layout=Layout(height='25px', width='50%'),…"
      ]
     },
     "metadata": {},
     "output_type": "display_data"
    }
   ],
   "source": [
    "# Select the Elevation column:\n",
    "transformed_df = forest_dat.select('Elevation')\n",
    "\n",
    "# Convert to Pandas format:\n",
    "transformed_df.toPandas().hist()\n",
    "\n",
    "# Save the plot:\n",
    "folder_pathway = os.getcwd()\n",
    "# print(folder_pathway)\n",
    "image_path = folder_pathway + \"/Description Images/\"\n",
    "\n",
    "plt.savefig(image_path + 'Elevation Histogram.png')\n",
    "plt.close('all')"
   ]
  },
  {
   "cell_type": "code",
   "execution_count": 22,
   "metadata": {},
   "outputs": [
    {
     "data": {
      "image/png": "[encoded data removed]",
      "text/plain": [
       "<Figure size 1152x720 with 1 Axes>"
      ]
     },
     "metadata": {
      "needs_background": "light"
     },
     "output_type": "display_data"
    }
   ],
   "source": [
    "%%local\n",
    "\n",
    "# plot the image\n",
    "fig, ax1 = plt.subplots(figsize=(16, 10))\n",
    "image = mpimg.imread(image_path + 'Elevation Histogram.png')\n",
    "plt.imshow(image);"
   ]
  },
  {
   "cell_type": "markdown",
   "metadata": {},
   "source": [
    "### Observation:\n",
    "\n",
    "From the chart above, it can be seen that the distribution is slight skewed to the left (negative skewness). However, it can still be assumed to follow a normal distribution and therefore the two parameters can be set as:\n",
    "- family = 'gaussian' (which is the default setting)\n",
    "- link = 'identity'\n",
    "\n",
    "source: https://www.statisticshowto.datasciencecentral.com/probability-and-statistics/skewed-distribution/\n",
    "\n",
    "## 6.1 (Continue) Pipeline implementation:"
   ]
  },
  {
   "cell_type": "code",
   "execution_count": 23,
   "metadata": {},
   "outputs": [
    {
     "data": {
      "application/vnd.jupyter.widget-view+json": {
       "model_id": "",
       "version_major": 2,
       "version_minor": 0
      },
      "text/plain": [
       "FloatProgress(value=0.0, bar_style='info', description='Progress:', layout=Layout(height='25px', width='50%'),…"
      ]
     },
     "metadata": {},
     "output_type": "display_data"
    }
   ],
   "source": [
    "# Import the Libraries:\n",
    "from pyspark.ml import Pipeline"
   ]
  },
  {
   "cell_type": "code",
   "execution_count": 24,
   "metadata": {},
   "outputs": [
    {
     "data": {
      "application/vnd.jupyter.widget-view+json": {
       "model_id": "",
       "version_major": 2,
       "version_minor": 0
      },
      "text/plain": [
       "FloatProgress(value=0.0, bar_style='info', description='Progress:', layout=Layout(height='25px', width='50%'),…"
      ]
     },
     "metadata": {},
     "output_type": "display_data"
    },
    {
     "name": "stdout",
     "output_type": "stream",
     "text": [
      "+---------+------------------+\n",
      "|Elevation|        prediction|\n",
      "+---------+------------------+\n",
      "|     2596|2840.7801831411316|\n",
      "|     2590|2828.7464246669683|\n",
      "|     2804| 2842.761272955131|\n",
      "|     2785| 2966.057500325109|\n",
      "|     2595|2817.1687155114637|\n",
      "+---------+------------------+\n",
      "only showing top 5 rows"
     ]
    }
   ],
   "source": [
    "# Collate all the feature columns into a single column:\n",
    "vectorAssembler = feat.VectorAssembler(\n",
    "    inputCols = forest_dat.columns[1:],\n",
    "    outputCol = 'features'\n",
    ")\n",
    "\n",
    "# Create the GLM model:\n",
    "lr_obj = rg.GeneralizedLinearRegression(\n",
    "    labelCol = 'Elevation',\n",
    "    maxIter = 10,\n",
    "    regParam = 0.01,\n",
    "    link = 'identity',\n",
    "    linkPredictionCol = 'p'\n",
    ")\n",
    "\n",
    "# Create a Pipeline:\n",
    "pipeline_set = Pipeline(stages = [vectorAssembler, lr_obj])\n",
    "\n",
    "# Fit and Transform the data, select the Elevation and prediction column then print out the results:\n",
    "(\n",
    "    pipeline_set\n",
    "    .fit(forest_dat)\n",
    "    .transform(forest_dat)\n",
    "    .select('Elevation', 'prediction')\n",
    "    .show(5)\n",
    ")\n"
   ]
  },
  {
   "cell_type": "markdown",
   "metadata": {},
   "source": [
    "### Observation:\n",
    "\n",
    "From the results above, it can be seen that the prediction of elevation values are close to the actual values.\n",
    "\n",
    "## 7 Selecting the most Predictable Features from the dataset:\n",
    "\n",
    "This section will cover how to select the best predicting model during the process of building either a classification or regression prediction model.\n",
    "\n",
    "Utilising all the features from the data to build the model can results in a highly complex model that would be prone to overfitting. It may have collinearity problems where other variables would explain the same portion of variance, or that if one of the variable is missing and this would result in an errorneous output.\n",
    "\n",
    "## 7.1 Select the Top 10 Features:\n",
    "\n",
    "The idea is to choose the top 10 features that would results in the greatest predictive power for the model.\n",
    "\n",
    "To do this:\n",
    "- Collate all the feature columns into a single column (single vector), without using the label column (Cover_Type).\n",
    "- Next, use the .ChiSqSelector() function to find and select the best features based on pariwise chi-squaared test between the each of the features and the target variable."
   ]
  },
  {
   "cell_type": "code",
   "execution_count": 25,
   "metadata": {},
   "outputs": [
    {
     "data": {
      "application/vnd.jupyter.widget-view+json": {
       "model_id": "",
       "version_major": 2,
       "version_minor": 0
      },
      "text/plain": [
       "FloatProgress(value=0.0, bar_style='info', description='Progress:', layout=Layout(height='25px', width='50%'),…"
      ]
     },
     "metadata": {},
     "output_type": "display_data"
    }
   ],
   "source": [
    "# Collate the columns to a single column:\n",
    "vectorAsssembler = feat.VectorAssembler(\n",
    "    inputCols = forest_dat.columns[0:-1],\n",
    "    outputCol = 'features'\n",
    ")\n",
    "\n",
    "# Select the best features:\n",
    "selected_features = feat.ChiSqSelector(\n",
    "    labelCol = 'Cover_Type',\n",
    "    numTopFeatures = 10,\n",
    "    outputCol = 'selected'\n",
    ")\n",
    "\n",
    "# Pipeline:\n",
    "pipeline_selectedFeatures = Pipeline(stages = [vectorAsssembler, selected_features])"
   ]
  },
  {
   "cell_type": "code",
   "execution_count": 26,
   "metadata": {},
   "outputs": [
    {
     "data": {
      "application/vnd.jupyter.widget-view+json": {
       "model_id": "",
       "version_major": 2,
       "version_minor": 0
      },
      "text/plain": [
       "FloatProgress(value=0.0, bar_style='info', description='Progress:', layout=Layout(height='25px', width='50%'),…"
      ]
     },
     "metadata": {},
     "output_type": "display_data"
    },
    {
     "name": "stdout",
     "output_type": "stream",
     "text": [
      "+--------------------+\n",
      "|            selected|\n",
      "+--------------------+\n",
      "|(10,[0,1,2,3,5,6,...|\n",
      "|(10,[0,1,2,3,4,5,...|\n",
      "|(10,[0,1,2,3,4,5,...|\n",
      "|(10,[0,1,2,3,4,5,...|\n",
      "|(10,[0,1,2,3,4,5,...|\n",
      "|(10,[0,1,2,3,4,5,...|\n",
      "+--------------------+\n",
      "only showing top 6 rows"
     ]
    }
   ],
   "source": [
    "# Inspect the results:\n",
    "(\n",
    "    pipeline_selectedFeatures\n",
    "    .fit(forest_dat)\n",
    "    .transform(forest_dat)\n",
    "    .select(selected_features.getOutputCol())\n",
    "    .show(6)\n",
    ")"
   ]
  },
  {
   "cell_type": "markdown",
   "metadata": {},
   "source": [
    "### Observation:\n",
    "\n",
    "The resulting SparseVector has a length of 10 and that it consists of the top 10 most predictable features.\n",
    "\n",
    "## 7.3 Correlation Matrix:\n",
    "\n",
    "For regression problems, it is advisable to choose a different method than the .ChiSqSelector() to find the the top features against continuous targets. Therefore, the approach taken would be to check for __correlations__ between every feature. This will then be used to select the most highly correlated features with the target, but these features should not be correlated with each other.\n",
    "\n",
    "To do this:\n",
    "- First, is to collate the columns.\n",
    "- Pass the dataFrame into the Correlation class by using the Transformer. There are 3 parameters here, the first one is the data, the second one is the 'features' column, and the third one is the type of correlation that is set to 'pearson'."
   ]
  },
  {
   "cell_type": "code",
   "execution_count": 27,
   "metadata": {},
   "outputs": [
    {
     "data": {
      "application/vnd.jupyter.widget-view+json": {
       "model_id": "",
       "version_major": 2,
       "version_minor": 0
      },
      "text/plain": [
       "FloatProgress(value=0.0, bar_style='info', description='Progress:', layout=Layout(height='25px', width='50%'),…"
      ]
     },
     "metadata": {},
     "output_type": "display_data"
    }
   ],
   "source": [
    "# Import the required library:\n",
    "import pyspark.ml.stat as st"
   ]
  },
  {
   "cell_type": "code",
   "execution_count": 28,
   "metadata": {},
   "outputs": [
    {
     "data": {
      "application/vnd.jupyter.widget-view+json": {
       "model_id": "",
       "version_major": 2,
       "version_minor": 0
      },
      "text/plain": [
       "FloatProgress(value=0.0, bar_style='info', description='Progress:', layout=Layout(height='25px', width='50%'),…"
      ]
     },
     "metadata": {},
     "output_type": "display_data"
    },
    {
     "name": "stdout",
     "output_type": "stream",
     "text": [
      "[Row(pearson(features)=DenseMatrix(55, 55, [1.0, 0.0157, -0.2427, 0.3062, 0.0933, 0.3656, 0.1122, 0.2059, ..., 0.0046, 0.0803, 0.0254, 0.0803, 0.1602, 0.1557, 0.1284, 1.0], False))]"
     ]
    }
   ],
   "source": [
    "# Collate the columns into a single column of features:\n",
    "features_n_label = feat.VectorAssembler(\n",
    "    inputCols = forest_dat.columns,\n",
    "    outputCol = 'features'\n",
    ")\n",
    "\n",
    "# Find the correlations:\n",
    "corr = st.Correlation.corr(\n",
    "    features_n_label\n",
    "    .transform(forest_dat),\n",
    "    'features',\n",
    "    'pearson'\n",
    ")\n",
    "\n",
    "# Inspect:\n",
    "print(str(corr.collect()))"
   ]
  },
  {
   "cell_type": "code",
   "execution_count": 29,
   "metadata": {},
   "outputs": [
    {
     "data": {
      "application/vnd.jupyter.widget-view+json": {
       "model_id": "",
       "version_major": 2,
       "version_minor": 0
      },
      "text/plain": [
       "FloatProgress(value=0.0, bar_style='info', description='Progress:', layout=Layout(height='25px', width='50%'),…"
      ]
     },
     "metadata": {},
     "output_type": "display_data"
    },
    {
     "name": "stdout",
     "output_type": "stream",
     "text": [
      "DenseMatrix([[ 1.        ,  0.01573494, -0.24269664, ...,  0.19359464,\n",
      "               0.21261232, -0.26955378],\n",
      "             [ 0.01573494,  1.        ,  0.07872841, ...,  0.00829428,\n",
      "              -0.00586558,  0.0170798 ],\n",
      "             [-0.24269664,  0.07872841,  1.        , ...,  0.09360193,\n",
      "               0.02563691,  0.14828541],\n",
      "             ...,\n",
      "             [ 0.19359464,  0.00829428,  0.09360193, ...,  1.        ,\n",
      "              -0.01929168,  0.15566826],\n",
      "             [ 0.21261232, -0.00586558,  0.02563691, ..., -0.01929168,\n",
      "               1.        ,  0.1283513 ],\n",
      "             [-0.26955378,  0.0170798 ,  0.14828541, ...,  0.15566826,\n",
      "               0.1283513 ,  1.        ]])"
     ]
    }
   ],
   "source": [
    "# Inspect:\n",
    "print(str(corr.collect()[0][0]))"
   ]
  },
  {
   "cell_type": "markdown",
   "metadata": {},
   "source": [
    "### With the above Correlation Matrix, it is now possible to extract the top 10 most correlated features with the label: FOR ELEVATION (Continuous), NOT COVER TYPE (Discrete).\n",
    "\n",
    "To do this:\n",
    "- First, set the number of features to extract, where it will create a dictionary with all the columns from the data.\n",
    "- Next, select the first column which is the target ('Elevation' feature) from the correlation matrix. Convert it from a DenseMatrix to a NumPy array with the .toArray() method. The index to the elements of this array is also appended, as it informs which element is most correlated to the target variable.\n",
    "- Next, sort the list in descending order in terms of the absolute values of the correlation coefficients.\n",
    "- Next, loop through the top 10 elements of the list and select the column (from the cols dictionary) that corresponds with the selected index.\n",
    "- Print out the results.\n",
    "\n",
    "For more information on \"np.ndenumerate\": https://docs.scipy.org/doc/numpy/reference/generated/numpy.ndenumerate.html"
   ]
  },
  {
   "cell_type": "code",
   "execution_count": 30,
   "metadata": {},
   "outputs": [
    {
     "data": {
      "application/vnd.jupyter.widget-view+json": {
       "model_id": "",
       "version_major": 2,
       "version_minor": 0
      },
      "text/plain": [
       "FloatProgress(value=0.0, bar_style='info', description='Progress:', layout=Layout(height='25px', width='50%'),…"
      ]
     },
     "metadata": {},
     "output_type": "display_data"
    }
   ],
   "source": [
    "# Set the number of features:\n",
    "nb_features = 10\n",
    "\n",
    "# Create a dictionary for the columns: key (i) is the number of the column, and value (e) is the name of the column.\n",
    "cols = dict([\n",
    "    (i, e) for i, e in enumerate(forest_dat.columns)\n",
    "    ])\n",
    "\n",
    "# Extract the correlation matrix:\n",
    "corr_mat = corr.collect()[0][0]\n",
    "\n",
    "# Label the correlation matrix with index:\n",
    "label_corr_with_idx = [\n",
    "    (i[0], e) for i, e in np.ndenumerate(corr_mat.toArray()[:,0])   \n",
    "][1:]\n",
    "\n",
    "# Sort the list:\n",
    "label_corr_with_idx_sorted = sorted( label_corr_with_idx, key = lambda el: -abs(el[1]) )\n",
    "\n",
    "# Select only the top 10 features:\n",
    "features_selected = np.array([\n",
    "    cols[el[0]] for el in label_corr_with_idx_sorted    \n",
    "])[0:nb_features]"
   ]
  },
  {
   "cell_type": "markdown",
   "metadata": {},
   "source": [
    "### Let's inspect each part of the code:"
   ]
  },
  {
   "cell_type": "code",
   "execution_count": 31,
   "metadata": {},
   "outputs": [
    {
     "data": {
      "application/vnd.jupyter.widget-view+json": {
       "model_id": "",
       "version_major": 2,
       "version_minor": 0
      },
      "text/plain": [
       "FloatProgress(value=0.0, bar_style='info', description='Progress:', layout=Layout(height='25px', width='50%'),…"
      ]
     },
     "metadata": {},
     "output_type": "display_data"
    },
    {
     "name": "stdout",
     "output_type": "stream",
     "text": [
      "{0: 'Elevation', 1: 'Aspect', 2: 'Slope', 3: 'Horizontal_Distance_To_Hydrology', 4: 'Vertical_Distance_To_Hydrology', 5: 'Horizontal_Distance_To_Roadways', 6: 'Hillshade_9am', 7: 'Hillshade_Noon', 8: 'Hillshade_3pm', 9: 'Horizontal_Distance_To_Fire_Points', 10: 'Wilderness_Area1', 11: 'Wilderness_Area2', 12: 'Wilderness_Area3', 13: 'Wilderness_Area4', 14: 'Soil_Type1', 15: 'Soil_Type2', 16: 'Soil_Type3', 17: 'Soil_Type4', 18: 'Soil_Type5', 19: 'Soil_Type6', 20: 'Soil_Type7', 21: 'Soil_Type8', 22: 'Soil_Type9', 23: 'Soil_Type10', 24: 'Soil_Type11', 25: 'Soil_Type12', 26: 'Soil_Type13', 27: 'Soil_Type14', 28: 'Soil_Type15', 29: 'Soil_Type16', 30: 'Soil_Type17', 31: 'Soil_Type18', 32: 'Soil_Type19', 33: 'Soil_Type20', 34: 'Soil_Type21', 35: 'Soil_Type22', 36: 'Soil_Type23', 37: 'Soil_Type24', 38: 'Soil_Type25', 39: 'Soil_Type26', 40: 'Soil_Type27', 41: 'Soil_Type28', 42: 'Soil_Type29', 43: 'Soil_Type30', 44: 'Soil_Type31', 45: 'Soil_Type32', 46: 'Soil_Type33', 47: 'Soil_Type34', 48: 'Soil_Type35', 49: 'Soil_Type36', 50: 'Soil_Type37', 51: 'Soil_Type38', 52: 'Soil_Type39', 53: 'Soil_Type40', 54: 'Cover_Type'}"
     ]
    }
   ],
   "source": [
    "cols"
   ]
  },
  {
   "cell_type": "code",
   "execution_count": 32,
   "metadata": {},
   "outputs": [
    {
     "data": {
      "application/vnd.jupyter.widget-view+json": {
       "model_id": "",
       "version_major": 2,
       "version_minor": 0
      },
      "text/plain": [
       "FloatProgress(value=0.0, bar_style='info', description='Progress:', layout=Layout(height='25px', width='50%'),…"
      ]
     },
     "metadata": {},
     "output_type": "display_data"
    },
    {
     "name": "stdout",
     "output_type": "stream",
     "text": [
      "DenseMatrix(55, 55, [1.0, 0.0157, -0.2427, 0.3062, 0.0933, 0.3656, 0.1122, 0.2059, ..., 0.0046, 0.0803, 0.0254, 0.0803, 0.1602, 0.1557, 0.1284, 1.0], False)"
     ]
    }
   ],
   "source": [
    "corr_mat"
   ]
  },
  {
   "cell_type": "code",
   "execution_count": 33,
   "metadata": {},
   "outputs": [
    {
     "data": {
      "application/vnd.jupyter.widget-view+json": {
       "model_id": "",
       "version_major": 2,
       "version_minor": 0
      },
      "text/plain": [
       "FloatProgress(value=0.0, bar_style='info', description='Progress:', layout=Layout(height='25px', width='50%'),…"
      ]
     },
     "metadata": {},
     "output_type": "display_data"
    },
    {
     "name": "stdout",
     "output_type": "stream",
     "text": [
      "[(1, 0.01573493829041497), (2, -0.2426966393141449), (3, 0.30622893934768924), (4, 0.09330643500380469), (5, 0.36555927531252375), (6, 0.1121793041169593), (7, 0.20588691351871527), (8, 0.05914777781607197), (9, 0.14802156018835516), (10, 0.13183762021052192), (11, 0.23816355973517817), (12, 0.06655009338231924), (13, -0.6193739227941123), (14, -0.20451180949907208), (15, -0.1876765133745695), (16, -0.18246332703926604), (17, -0.18352088612288195), (18, -0.15037632288675432), (19, -0.21460630519757465), (20, -0.0022515383870956042), (21, -0.0030205903557226346), (22, -0.060915169933591085), (23, -0.42874573436438096), (24, -0.13422660464765226), (25, -0.11890455195298559), (26, -0.04398427260061098), (27, -0.08082502997338305), (28, -0.007153048451369679), (29, -0.05944628333685027), (30, -0.11102797462726256), (31, -0.08181069833846362), (32, 0.033144348009875), (33, -0.04312848360452678), (34, 0.01755745734673338), (35, 0.15895894470649016), (36, 0.12435646789180124), (37, 0.05358174482272523), (38, 0.028752502653669947), (39, -0.016657250806505368), (40, 0.03525432155266173), (41, -0.029270489497608087), (42, 0.07432711378559864), (43, -0.0266673906968572), (44, 0.07040457599193775), (45, 0.16707664476407133), (46, 0.07063253973463456), (47, 0.011731354940154648), (48, 0.08300546275594226), (49, 0.021107231243406785), (50, 0.035432709138607625), (51, 0.2171789045726661), (52, 0.19359464488563147), (53, 0.21261232406702385), (54, -0.2695537776308144)]"
     ]
    }
   ],
   "source": [
    "label_corr_with_idx"
   ]
  },
  {
   "cell_type": "code",
   "execution_count": 34,
   "metadata": {},
   "outputs": [
    {
     "data": {
      "application/vnd.jupyter.widget-view+json": {
       "model_id": "",
       "version_major": 2,
       "version_minor": 0
      },
      "text/plain": [
       "FloatProgress(value=0.0, bar_style='info', description='Progress:', layout=Layout(height='25px', width='50%'),…"
      ]
     },
     "metadata": {},
     "output_type": "display_data"
    },
    {
     "name": "stdout",
     "output_type": "stream",
     "text": [
      "[(13, -0.6193739227941123), (23, -0.42874573436438096), (5, 0.36555927531252375), (3, 0.30622893934768924), (54, -0.2695537776308144), (2, -0.2426966393141449), (11, 0.23816355973517817), (51, 0.2171789045726661), (19, -0.21460630519757465), (53, 0.21261232406702385), (7, 0.20588691351871527), (14, -0.20451180949907208), (52, 0.19359464488563147), (15, -0.1876765133745695), (17, -0.18352088612288195), (16, -0.18246332703926604), (45, 0.16707664476407133), (35, 0.15895894470649016), (18, -0.15037632288675432), (9, 0.14802156018835516), (24, -0.13422660464765226), (10, 0.13183762021052192), (36, 0.12435646789180124), (25, -0.11890455195298559), (6, 0.1121793041169593), (30, -0.11102797462726256), (4, 0.09330643500380469), (48, 0.08300546275594226), (31, -0.08181069833846362), (27, -0.08082502997338305), (42, 0.07432711378559864), (46, 0.07063253973463456), (44, 0.07040457599193775), (12, 0.06655009338231924), (22, -0.060915169933591085), (29, -0.05944628333685027), (8, 0.05914777781607197), (37, 0.05358174482272523), (26, -0.04398427260061098), (33, -0.04312848360452678), (50, 0.035432709138607625), (40, 0.03525432155266173), (32, 0.033144348009875), (41, -0.029270489497608087), (38, 0.028752502653669947), (43, -0.0266673906968572), (49, 0.021107231243406785), (34, 0.01755745734673338), (39, -0.016657250806505368), (1, 0.01573493829041497), (47, 0.011731354940154648), (28, -0.007153048451369679), (21, -0.0030205903557226346), (20, -0.0022515383870956042)]"
     ]
    }
   ],
   "source": [
    "label_corr_with_idx_sorted"
   ]
  },
  {
   "cell_type": "code",
   "execution_count": 35,
   "metadata": {},
   "outputs": [
    {
     "data": {
      "application/vnd.jupyter.widget-view+json": {
       "model_id": "",
       "version_major": 2,
       "version_minor": 0
      },
      "text/plain": [
       "FloatProgress(value=0.0, bar_style='info', description='Progress:', layout=Layout(height='25px', width='50%'),…"
      ]
     },
     "metadata": {},
     "output_type": "display_data"
    },
    {
     "name": "stdout",
     "output_type": "stream",
     "text": [
      "array(['Wilderness_Area4', 'Soil_Type10',\n",
      "       'Horizontal_Distance_To_Roadways',\n",
      "       'Horizontal_Distance_To_Hydrology', 'Cover_Type', 'Slope',\n",
      "       'Wilderness_Area2', 'Soil_Type38', 'Soil_Type6', 'Soil_Type40'],\n",
      "      dtype='<U34')"
     ]
    }
   ],
   "source": [
    "# The list of top 10 prediction features: FOR ELEVATION (Continuous), NOT COVER TYPE (Discrete).\n",
    "features_selected"
   ]
  },
  {
   "cell_type": "markdown",
   "metadata": {},
   "source": [
    "### Observation:\n",
    "\n",
    "These are the list of useful features that can be used to predict the forest elevations.\n",
    "\n",
    "## 8 Predicting the Forest Coverage Types:\n",
    "\n",
    "The prediction of Forest Coverage types shifts from a binary classification problem to a multinomial classification problem. This is to say that there are more than 2 classes to predict for, where here there will be 7 classes of coverage types. This section will cover the processing of the dataset to be used for the two classification models.\n",
    "\n",
    "The two classification models are:\n",
    "- Logistic Regression (baseline)\n",
    "- Random Forest Classifier\n",
    "\n",
    "## 8.1 For Logistic Regression - Data processing:\n",
    "\n",
    "To do this:\n",
    "- Split the dataset into two shubsets where the training set is 70% portion and the testing set is 30% portion.\n",
    "- Collate the columns of features into a single column.\n",
    "- Perform the Chi-Square test to identify the top 10 best features to use."
   ]
  },
  {
   "cell_type": "code",
   "execution_count": 36,
   "metadata": {},
   "outputs": [
    {
     "data": {
      "application/vnd.jupyter.widget-view+json": {
       "model_id": "",
       "version_major": 2,
       "version_minor": 0
      },
      "text/plain": [
       "FloatProgress(value=0.0, bar_style='info', description='Progress:', layout=Layout(height='25px', width='50%'),…"
      ]
     },
     "metadata": {},
     "output_type": "display_data"
    }
   ],
   "source": [
    "# Split the dataset into training and test sets: 70/30 split.\n",
    "forest_train, forest_test = (\n",
    "    forest_dat\n",
    "    .randomSplit([0.7, 0.3], seed = 101)\n",
    ")\n",
    "\n",
    "# Collate the columns:\n",
    "vectorAssembler = feat.VectorAssembler(\n",
    "    inputCols = forest_dat.columns[0:-1],\n",
    "    outputCol = 'features'\n",
    ")\n",
    "\n",
    "# Select the Top 10 best features: Chi-Sqr\n",
    "forest_Top10_feat = feat.ChiSqSelector(\n",
    "    labelCol = 'Cover_Type',\n",
    "    numTopFeatures = 10,\n",
    "    outputCol = 'selected'\n",
    ")\n"
   ]
  },
  {
   "cell_type": "markdown",
   "metadata": {},
   "source": [
    "## 8.2 For Logistic Regression - Build a Pipeline for Classification model training:\n",
    "\n",
    "To do this:\n",
    "- Set up the Logistic Regression object with its parameters set. Note that the regularisation method used is the elastic-net method which is the L1 regularisation. The 'family' parameter is also set to multinomial.\n",
    "- Build the pipeline "
   ]
  },
  {
   "cell_type": "code",
   "execution_count": 42,
   "metadata": {},
   "outputs": [
    {
     "data": {
      "application/vnd.jupyter.widget-view+json": {
       "model_id": "",
       "version_major": 2,
       "version_minor": 0
      },
      "text/plain": [
       "FloatProgress(value=0.0, bar_style='info', description='Progress:', layout=Layout(height='25px', width='50%'),…"
      ]
     },
     "metadata": {},
     "output_type": "display_data"
    }
   ],
   "source": [
    "# Logistic Regression Model/object:\n",
    "logReg_obj = cl.LogisticRegression(\n",
    "    labelCol = 'Cover_Type',\n",
    "    featuresCol = forest_Top10_feat.getOutputCol(),\n",
    "    regParam = 0.01,\n",
    "    elasticNetParam = 1.0,\n",
    "    family = 'multinomial'\n",
    ")\n",
    "\n",
    "\n",
    "# Define the Pipeline:\n",
    "pipeline_lr = Pipeline(\n",
    "    stages = [vectorAssembler, forest_Top10_feat, logReg_obj]\n",
    ")\n",
    "\n",
    "# Save and fit the trained model:\n",
    "lr_pModel = pipeline_lr.fit(forest_train) "
   ]
  },
  {
   "cell_type": "markdown",
   "metadata": {},
   "source": [
    "## 8.3 For Logistic Regression - Model evaluation:\n",
    "\n",
    "To do this:\n",
    "- Import the required evaluation package.\n",
    "- Use the testing dataset on the trained model and its weights, so see how it performs on unseen data.\n",
    "- Evaluate the model by calculating the performance metrics.\n",
    "\n",
    "For more information on metrics: https://turi.com/learn/userguide/evaluation/classification.html"
   ]
  },
  {
   "cell_type": "code",
   "execution_count": 43,
   "metadata": {},
   "outputs": [
    {
     "data": {
      "application/vnd.jupyter.widget-view+json": {
       "model_id": "",
       "version_major": 2,
       "version_minor": 0
      },
      "text/plain": [
       "FloatProgress(value=0.0, bar_style='info', description='Progress:', layout=Layout(height='25px', width='50%'),…"
      ]
     },
     "metadata": {},
     "output_type": "display_data"
    }
   ],
   "source": [
    "# Import the required Package:\n",
    "import pyspark.ml.evaluation as ev"
   ]
  },
  {
   "cell_type": "code",
   "execution_count": 44,
   "metadata": {},
   "outputs": [
    {
     "data": {
      "application/vnd.jupyter.widget-view+json": {
       "model_id": "",
       "version_major": 2,
       "version_minor": 0
      },
      "text/plain": [
       "FloatProgress(value=0.0, bar_style='info', description='Progress:', layout=Layout(height='25px', width='50%'),…"
      ]
     },
     "metadata": {},
     "output_type": "display_data"
    },
    {
     "name": "stdout",
     "output_type": "stream",
     "text": [
      "(0.592993479152608, 0.621493744361624, 0.6302676627095491, 0.6302676627095491)"
     ]
    }
   ],
   "source": [
    "# Prediction on unseen data with trained model:\n",
    "results_logReg = (\n",
    "    lr_pModel\n",
    "    .transform(forest_test)\n",
    "    .select('Cover_Type', 'probability', 'prediction')\n",
    ")\n",
    "\n",
    "# Evaluation of the model, by calculating the performance metrics:\n",
    "evaluator = ev.MulticlassClassificationEvaluator(\n",
    "    predictionCol = 'prediction',\n",
    "    labelCol = 'Cover_Type'\n",
    ")\n",
    "\n",
    "# Print out the metrics:\n",
    "(\n",
    "    evaluator.evaluate(results_logReg), # F1-score\n",
    "    evaluator.evaluate(results_logReg, {evaluator.metricName: 'weightedPrecision'}),\n",
    "    evaluator.evaluate(results_logReg, {evaluator.metricName: 'weightedRecall'}),\n",
    "    evaluator.evaluate(results_logReg, {evaluator.metricName: 'accuracy'})\n",
    ")"
   ]
  },
  {
   "cell_type": "markdown",
   "metadata": {},
   "source": [
    "### Observation:\n",
    "\n",
    "From the above, it can be seen that the model performed with 63% accuracy and 62% precision.\n",
    "\n",
    "## 8.4 For Random Forest Classifier - Data processing:\n",
    "\n",
    "#### As this part uses the same features from the before, it is only necessary to create a new pipeline for Random Forest Classifier.\n",
    "\n",
    "## 8.5 For Random Forest Classifier - Build a Pipeline for Classification model training:\n",
    "\n",
    "Here, the methodology is similar to the previous section where it utilises the smae objects again from the data processing stage. The Logistic regression is removed and replaced by the Random Forest classifier instead.\n",
    "\n",
    "The .RandomForestClassifier() has 4 parameters: \n",
    "- labelCol, select the label column from the dataset.\n",
    "- featuresCol, select the features column from the vectorAssembler.\n",
    "- minInstancesPerNode, is the minimum number of records that is still allowed to split the node into two sub-nodes.\n",
    "- numTrees, is the number of trees in the forest to estimate.\n",
    "\n",
    "Other parameters are:\n",
    "- impurity, is a criterion which is used for information gained. -> Default is set to 'gini', or it can be set to 'entropy'\n",
    "- maxDepth, is the maximum depth of any trees.\n",
    "- maxBins, is the maximum number of bins in any of the trees.\n",
    "- minInfoGains, is the minimum level of information gained between each iteration."
   ]
  },
  {
   "cell_type": "code",
   "execution_count": 45,
   "metadata": {},
   "outputs": [
    {
     "data": {
      "application/vnd.jupyter.widget-view+json": {
       "model_id": "",
       "version_major": 2,
       "version_minor": 0
      },
      "text/plain": [
       "FloatProgress(value=0.0, bar_style='info', description='Progress:', layout=Layout(height='25px', width='50%'),…"
      ]
     },
     "metadata": {},
     "output_type": "display_data"
    }
   ],
   "source": [
    "# Random Forest Classifier Model/Object:\n",
    "RandForest_obj =  cl.RandomForestClassifier(\n",
    "    labelCol = 'Cover_Type',\n",
    "    featuresCol = forest_Top10_feat.getOutputCol(),\n",
    "    minInstancesPerNode = 10,\n",
    "    numTrees = 10\n",
    ")\n",
    "\n",
    "# Create new pipeline:\n",
    "RandForest_pipeline = Pipeline(stages = [vectorAssembler, forest_Top10_feat, RandForest_obj])\n",
    "\n",
    "# Train the model:\n",
    "RandForest_pModel = RandForest_pipeline.fit(forest_train)"
   ]
  },
  {
   "cell_type": "markdown",
   "metadata": {},
   "source": [
    "## 8.4 For Random Forest Classifier - Model evaluation:"
   ]
  },
  {
   "cell_type": "code",
   "execution_count": 46,
   "metadata": {},
   "outputs": [
    {
     "data": {
      "application/vnd.jupyter.widget-view+json": {
       "model_id": "",
       "version_major": 2,
       "version_minor": 0
      },
      "text/plain": [
       "FloatProgress(value=0.0, bar_style='info', description='Progress:', layout=Layout(height='25px', width='50%'),…"
      ]
     },
     "metadata": {},
     "output_type": "display_data"
    },
    {
     "name": "stdout",
     "output_type": "stream",
     "text": [
      "(0.6545911191664161, 0.6611498161008652, 0.6850805045753575, 0.6850805045753576)"
     ]
    }
   ],
   "source": [
    "# Prediction on unseen data with trained model:\n",
    "results_RandForest = (\n",
    "    RandForest_pModel\n",
    "    .transform(forest_test)\n",
    "    .select('Cover_Type', 'probability', 'prediction')\n",
    ")\n",
    "\n",
    "# Evaluation of the model, by calculating the performance metrics:\n",
    "evaluator = ev.MulticlassClassificationEvaluator(\n",
    "    predictionCol = 'prediction',\n",
    "    labelCol = 'Cover_Type'\n",
    ")\n",
    "\n",
    "# Print out the metrics:\n",
    "(\n",
    "    evaluator.evaluate(results_RandForest), # F1-score\n",
    "    evaluator.evaluate(results_RandForest, {evaluator.metricName: 'weightedPrecision'}),\n",
    "    evaluator.evaluate(results_RandForest, {evaluator.metricName: 'weightedRecall'}),\n",
    "    evaluator.evaluate(results_RandForest, {evaluator.metricName: 'accuracy'})\n",
    ")"
   ]
  },
  {
   "cell_type": "markdown",
   "metadata": {},
   "source": [
    "### Observation:\n",
    "\n",
    "It can be seen that this model performs better with 68% accuracy and 66% Precision\n",
    "\n",
    "## 9 Estimating the Forest Elevations:\n",
    "\n",
    "The prediction of Forest Elevations will be modeled by the use of two Regression models. \n",
    "\n",
    "The two Regression models are:\n",
    "- Random Forest Regression model\n",
    "- Gradient-boosted trees regressor\n",
    "\n",
    "NOTE: This part will skip the stage of feature selection as it is required to be done manually.\n",
    "\n",
    "## 9.1 For Random Forest Regression - Build a Pipeline for Regression model training:\n",
    "\n",
    "To do this:\n",
    "- Collate the columns into a single column of features, where the columns are from the second column and onwards as the 1st column is the label.\n",
    "- Create the model object.\n",
    "- Pipeline the process."
   ]
  },
  {
   "cell_type": "code",
   "execution_count": 51,
   "metadata": {},
   "outputs": [
    {
     "data": {
      "application/vnd.jupyter.widget-view+json": {
       "model_id": "",
       "version_major": 2,
       "version_minor": 0
      },
      "text/plain": [
       "FloatProgress(value=0.0, bar_style='info', description='Progress:', layout=Layout(height='25px', width='50%'),…"
      ]
     },
     "metadata": {},
     "output_type": "display_data"
    }
   ],
   "source": [
    "# Collate the columns into a single column of features:\n",
    "vectorAssembler = feat.VectorAssembler(\n",
    "    inputCols = forest_dat.columns[1:],\n",
    "    outputCol = 'features'\n",
    ")\n",
    "\n",
    "# Create the RandomForest Regressor object/model:\n",
    "RandForestReg_obj = rg.RandomForestRegressor(\n",
    "    labelCol = 'Elevation',\n",
    "    maxDepth = 10,\n",
    "    minInstancesPerNode = 10,\n",
    "    minInfoGain = 0.1,\n",
    "    numTrees = 10\n",
    ")\n",
    "\n",
    "# Create the Pipeline:\n",
    "RandForestReg_pipeline = Pipeline(stages = [vectorAssembler, RandForestReg_obj])\n",
    "\n",
    "# Train the model:\n",
    "results_RandForestReg = (\n",
    "    RandForestReg_pipeline\n",
    "    .fit(forest_dat)\n",
    "    .transform(forest_dat)\n",
    "    .select('Elevation', 'prediction')\n",
    ")"
   ]
  },
  {
   "cell_type": "markdown",
   "metadata": {},
   "source": [
    "## 9.2 For Random Forest Regression - Model Evaluation:\n",
    "\n",
    "The .RegressionEvaluator() here calculates the performance metrics where as a Default, it calculates teh Root mean squared error (RMSE). Other metrics are:\n",
    "- mse, mean squared error.\n",
    "- r2, R2 metric.\n",
    "- mae, mean absolute error.\n",
    "\n",
    "### Linear Regression (Earlier, Section 5):"
   ]
  },
  {
   "cell_type": "code",
   "execution_count": 55,
   "metadata": {},
   "outputs": [
    {
     "data": {
      "application/vnd.jupyter.widget-view+json": {
       "model_id": "",
       "version_major": 2,
       "version_minor": 0
      },
      "text/plain": [
       "FloatProgress(value=0.0, bar_style='info', description='Progress:', layout=Layout(height='25px', width='50%'),…"
      ]
     },
     "metadata": {},
     "output_type": "display_data"
    },
    {
     "name": "stdout",
     "output_type": "stream",
     "text": [
      " R-Squared: 0.786\n",
      " RMSE: 129.5087\n",
      " MAE: 103.3408"
     ]
    }
   ],
   "source": [
    "\n",
    "summary_lr = lr_model.summary\n",
    "\n",
    "print(\n",
    "    ' R-Squared: ' + str(round(summary_lr.r2, 4)) + '\\n',\n",
    "    'RMSE: ' + str(round(summary_lr.rootMeanSquaredError, 4)) + '\\n',\n",
    "    'MAE: ' + str(round(summary_lr.meanAbsoluteError, 4))\n",
    ")"
   ]
  },
  {
   "cell_type": "markdown",
   "metadata": {},
   "source": [
    "### Random Forest Regression:"
   ]
  },
  {
   "cell_type": "code",
   "execution_count": 52,
   "metadata": {},
   "outputs": [
    {
     "data": {
      "application/vnd.jupyter.widget-view+json": {
       "model_id": "",
       "version_major": 2,
       "version_minor": 0
      },
      "text/plain": [
       "FloatProgress(value=0.0, bar_style='info', description='Progress:', layout=Layout(height='25px', width='50%'),…"
      ]
     },
     "metadata": {},
     "output_type": "display_data"
    },
    {
     "name": "stdout",
     "output_type": "stream",
     "text": [
      "(115.24702139906637, 0.830569551120396, 13281.87594135686, 89.46858423347997)"
     ]
    }
   ],
   "source": [
    "# Calculate the metrics:\n",
    "evaluator = ev.RegressionEvaluator(labelCol = 'Elevation')\n",
    "\n",
    "# Print out the metrics:\n",
    "(\n",
    "    evaluator.evaluate(results_RandForestReg), # RMSE\n",
    "    evaluator.evaluate(results_RandForestReg, {evaluator.metricName: 'r2'}),\n",
    "    evaluator.evaluate(results_RandForestReg, {evaluator.metricName: 'mse'}),\n",
    "    evaluator.evaluate(results_RandForestReg, {evaluator.metricName: 'mae'})\n",
    ")"
   ]
  },
  {
   "cell_type": "markdown",
   "metadata": {},
   "source": [
    "### Observation:\n",
    "\n",
    "As it can be seen, the model perform quite well with 83% r-squared value. This is 5% better than the Linear Regression model. This could also mean that the model may __not be as linearly separable__ as initially discovered.\n",
    "\n",
    "\n",
    "## 9.3 For Gradient-boosted trees regressor - Build Pipeline for Regression model training:\n",
    "\n",
    "The changes that is made here is the replacement of the regression model to gradient boosted trees.\n",
    "\n",
    "The parameters that are avaible are:\n",
    "- maxDepth, is the max depth of the built trees -> Default is '5'.\n",
    "- maxBins, is the number of bins.\n",
    "- minInfoGain, is the minimum level of information gained between each iteration.\n",
    "- minInstancesPerNode, is the minimum number of instances that the tree will peform a split.\n",
    "- lossType, is to specify the loss type such as 'squared' or 'absolute' values.\n",
    "- impurity, is set to 'variance' by default.\n",
    "- maxIter, is the maximum number of iterations before the algorithm is stopped."
   ]
  },
  {
   "cell_type": "code",
   "execution_count": 53,
   "metadata": {},
   "outputs": [
    {
     "data": {
      "application/vnd.jupyter.widget-view+json": {
       "model_id": "",
       "version_major": 2,
       "version_minor": 0
      },
      "text/plain": [
       "FloatProgress(value=0.0, bar_style='info', description='Progress:', layout=Layout(height='25px', width='50%'),…"
      ]
     },
     "metadata": {},
     "output_type": "display_data"
    }
   ],
   "source": [
    "# Create the RandomForest Regressor object/model:\n",
    "GradBoostTrees_obj = rg.GBTRegressor(\n",
    "    labelCol = 'Elevation',\n",
    "    minInstancesPerNode = 10,\n",
    "    minInfoGain = 0.1\n",
    ")\n",
    "\n",
    "# Create the Pipeline:\n",
    "GradBoostTrees_pipeline = Pipeline(stages = [vectorAssembler, GradBoostTrees_obj])\n",
    "\n",
    "# Train the model:\n",
    "results_GradBoostTrees = (\n",
    "    GradBoostTrees_pipeline\n",
    "    .fit(forest_dat)\n",
    "    .transform(forest_dat)\n",
    "    .select('Elevation', 'prediction')\n",
    ")"
   ]
  },
  {
   "cell_type": "markdown",
   "metadata": {},
   "source": [
    "## 9.4 For Gradient-boosted trees regressor - Model Evaluation:"
   ]
  },
  {
   "cell_type": "code",
   "execution_count": 54,
   "metadata": {},
   "outputs": [
    {
     "data": {
      "application/vnd.jupyter.widget-view+json": {
       "model_id": "",
       "version_major": 2,
       "version_minor": 0
      },
      "text/plain": [
       "FloatProgress(value=0.0, bar_style='info', description='Progress:', layout=Layout(height='25px', width='50%'),…"
      ]
     },
     "metadata": {},
     "output_type": "display_data"
    },
    {
     "name": "stdout",
     "output_type": "stream",
     "text": [
      "(113.82608266635766, 0.834721782014811, 12956.377095168487, 88.80417991585817)"
     ]
    }
   ],
   "source": [
    "# Calculate the metrics:\n",
    "evaluator = ev.RegressionEvaluator(labelCol = 'Elevation')\n",
    "\n",
    "# Print out the metrics:\n",
    "(\n",
    "    evaluator.evaluate(results_GradBoostTrees), # RMSE\n",
    "    evaluator.evaluate(results_GradBoostTrees, {evaluator.metricName: 'r2'}),\n",
    "    evaluator.evaluate(results_GradBoostTrees, {evaluator.metricName: 'mse'}),\n",
    "    evaluator.evaluate(results_GradBoostTrees, {evaluator.metricName: 'mae'})\n",
    ")"
   ]
  },
  {
   "cell_type": "markdown",
   "metadata": {},
   "source": [
    "### Observation:\n",
    "\n",
    "This model only performs slight better at 0.4% increase in R-Square value than the Random Forest Regressor model.\n",
    "\n",
    "## 10 Clustering Forest Cover Types:\n",
    "\n",
    "Clustering belongs to an unsupervised family of algorithms/mthods, where it will tey to find the patterns without any labels or without any indication of which class it might be. It finds common traits between the records and will group them into clusters. This will depend on how similar or dissimilar they are to each other. This section will use the K-Means Clustering algorithm.\n",
    "\n",
    "## 10.1 For K-Means Clustering - Build Pipeline for Clustering model training:\n",
    "\n",
    "To do this:\n",
    "- First, import the relevant packages.\n",
    "- Collate the feature columns into a single column.\n",
    "- Instantiating the K-Means model/object. Here there will be two parameters used. The first one is the number of clusters \"k\" and the second parameter is the seed number.\n",
    "- Lastly, build the pipeline process.\n",
    "\n",
    "The list of parameters for K-Means are:\n",
    "- k, is the expected number of clusters.\n",
    "- initMode, is the initialisation type of the cluster centroids.\n",
    "- initSteps, is the initialisation steps.\n",
    "- maxIter, is the maximum number of iterations the algorithm will go through until stopping."
   ]
  },
  {
   "cell_type": "code",
   "execution_count": 56,
   "metadata": {},
   "outputs": [
    {
     "data": {
      "application/vnd.jupyter.widget-view+json": {
       "model_id": "",
       "version_major": 2,
       "version_minor": 0
      },
      "text/plain": [
       "FloatProgress(value=0.0, bar_style='info', description='Progress:', layout=Layout(height='25px', width='50%'),…"
      ]
     },
     "metadata": {},
     "output_type": "display_data"
    }
   ],
   "source": [
    "# Import the relevant package:\n",
    "import pyspark.ml.clustering as clust"
   ]
  },
  {
   "cell_type": "code",
   "execution_count": 58,
   "metadata": {},
   "outputs": [
    {
     "data": {
      "application/vnd.jupyter.widget-view+json": {
       "model_id": "",
       "version_major": 2,
       "version_minor": 0
      },
      "text/plain": [
       "FloatProgress(value=0.0, bar_style='info', description='Progress:', layout=Layout(height='25px', width='50%'),…"
      ]
     },
     "metadata": {},
     "output_type": "display_data"
    }
   ],
   "source": [
    "# Collate the columns:\n",
    "vectorAssembler = feat.VectorAssembler(\n",
    "    inputCols = forest_dat.columns[:-1],\n",
    "    outputCol = 'features'\n",
    ")\n",
    "\n",
    "# Create the K-means model/object:\n",
    "kmeans_obj = clust.KMeans(k = 7, seed = 101)\n",
    "\n",
    "# Create the pipeline:\n",
    "kmeans_pipeline = Pipeline(stages = [vectorAssembler, kmeans_obj])\n",
    "\n",
    "# Train the model:\n",
    "results_kmeans = (\n",
    "    kmeans_pipeline\n",
    "    .fit(forest_dat)\n",
    "    .transform(forest_dat)\n",
    "    .select('features', 'Cover_Type', 'prediction')\n",
    ")"
   ]
  },
  {
   "cell_type": "markdown",
   "metadata": {},
   "source": [
    "## 10.2 For K-Means Clustering - Model Evaluation:"
   ]
  },
  {
   "cell_type": "code",
   "execution_count": 59,
   "metadata": {},
   "outputs": [
    {
     "data": {
      "application/vnd.jupyter.widget-view+json": {
       "model_id": "",
       "version_major": 2,
       "version_minor": 0
      },
      "text/plain": [
       "FloatProgress(value=0.0, bar_style='info', description='Progress:', layout=Layout(height='25px', width='50%'),…"
      ]
     },
     "metadata": {},
     "output_type": "display_data"
    },
    {
     "name": "stdout",
     "output_type": "stream",
     "text": [
      "+--------------------+----------+----------+\n",
      "|            features|Cover_Type|prediction|\n",
      "+--------------------+----------+----------+\n",
      "|(54,[0,1,2,3,5,6,...|         5|         1|\n",
      "|(54,[0,1,2,3,4,5,...|         5|         1|\n",
      "|(54,[0,1,2,3,4,5,...|         2|         1|\n",
      "|(54,[0,1,2,3,4,5,...|         2|         1|\n",
      "|(54,[0,1,2,3,4,5,...|         5|         1|\n",
      "|(54,[0,1,2,3,4,5,...|         2|         1|\n",
      "|(54,[0,1,2,3,4,5,...|         5|         1|\n",
      "|(54,[0,1,2,3,4,5,...|         5|         1|\n",
      "|(54,[0,1,2,3,4,5,...|         5|         1|\n",
      "|(54,[0,1,2,3,4,5,...|         5|         1|\n",
      "+--------------------+----------+----------+\n",
      "only showing top 10 rows"
     ]
    }
   ],
   "source": [
    "# Show the Results:\n",
    "results_kmeans.show(10)"
   ]
  },
  {
   "cell_type": "markdown",
   "metadata": {},
   "source": [
    "### Observation:\n",
    "\n",
    "Interestingly, the prediction column shows that there are not many patterns that would differentiate the forest coverage type. So let's examine the segmentation.\n",
    "\n",
    "### Additionally, examine if the segmentation:\n",
    "\n",
    "To check is the segmentation is performing poorly and that there are no patterns to be found, or if the are patterns found but it is not alligning with the \"Cover_Type\"."
   ]
  },
  {
   "cell_type": "code",
   "execution_count": 60,
   "metadata": {},
   "outputs": [
    {
     "data": {
      "application/vnd.jupyter.widget-view+json": {
       "model_id": "",
       "version_major": 2,
       "version_minor": 0
      },
      "text/plain": [
       "FloatProgress(value=0.0, bar_style='info', description='Progress:', layout=Layout(height='25px', width='50%'),…"
      ]
     },
     "metadata": {},
     "output_type": "display_data"
    },
    {
     "name": "stdout",
     "output_type": "stream",
     "text": [
      "0.5104185767369752"
     ]
    }
   ],
   "source": [
    "# Calculate the Silhouette Metric:\n",
    "clustering_ev = ev.ClusteringEvaluator()\n",
    "\n",
    "# Print the Silhouette metric:\n",
    "clustering_ev.evaluate(results_kmeans)"
   ]
  },
  {
   "cell_type": "markdown",
   "metadata": {},
   "source": [
    "### Observation:\n",
    "\n",
    "From the calculated Silhouette value of 0.51, it means that the model is doing well and indicates a well separated clusters.\n",
    "\n",
    "Range of Silhouette Value is between -1 and 1, where (taken from https://www.geeksforgeeks.org/silhouette-index-cluster-validity-index-set-2/):\n",
    "\n",
    "- If silhouette value close to 1, sample is well-clustered and already assigned to a very appropriate cluster.\n",
    "- If silhouette value is about to 0, sample could be assign to another cluster closest to it and the sample lies equally far away from both the clusters. That means it indicates overlapping clusters\n",
    "- If silhouette value close to –1, sample is misclassified and is merely placed somewhere in between the clusters.\n",
    "\n",
    "\n",
    "\n",
    "For more information on Clustering model and techniques: https://scikit-learn.org/stable/modules/clustering.html\n",
    "\n",
    "For information on Silhouette values: https://www.geeksforgeeks.org/silhouette-index-cluster-validity-index-set-2/\n",
    "\n",
    "## 11"
   ]
  },
  {
   "cell_type": "code",
   "execution_count": null,
   "metadata": {},
   "outputs": [],
   "source": []
  }
 ],
 "metadata": {
  "kernelspec": {
   "display_name": "PySpark",
   "language": "",
   "name": "pysparkkernel"
  },
  "language_info": {
   "codemirror_mode": {
    "name": "python",
    "version": 3
   },
   "mimetype": "text/x-python",
   "name": "pyspark",
   "pygments_lexer": "python3"
  }
 },
 "nbformat": 4,
 "nbformat_minor": 4
}
