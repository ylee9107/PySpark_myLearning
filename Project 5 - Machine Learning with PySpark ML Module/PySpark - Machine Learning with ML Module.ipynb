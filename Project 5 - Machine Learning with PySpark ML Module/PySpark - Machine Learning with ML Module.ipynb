{
 "cells": [
  {
   "cell_type": "markdown",
   "metadata": {},
   "source": [
    "# PySpark - Machine Learning with ML Module\n",
    "\n",
    "## Introduction\n",
    "\n",
    "In the previous Project 4, the topics covered were from the MLlib Module, however this has be deprecated recently. Therefore in this project 5, the currently support machine learning module will be explored and is called the ML module. Similar to the MLlib, this ML module consists of a wide variety of machine learning models, with the exception that it operates on Spark DataFrames. This also means that it can leverage the tungsten execution optimisations. \n",
    "\n",
    "## Breakdown of this Notebook\n",
    "\n",
    "- Transformers introduction\n",
    "- Estimators introduction\n",
    "- Pipelines introduction\n",
    "- Selecting the most predictable features\n",
    "- Predicting forest coverage types\n",
    "- Estimating forest elevations\n",
    "- Clustering forest cover types\n",
    "- Tuning Hyperparameters\n",
    "- Extracting features from text\n",
    "- Discretising conitnuous variables\n",
    "- Standardising continuous variables\n",
    "- Topic Mining\n",
    "\n",
    "## Dataset:\n",
    "\n",
    "The dataset used for this project is the forest cover type dataset. It is used to predict the forest cover type from cartographic variables, meaning that there is no remote sensed data. The forest area included in this dataset are the four wilderness areas (Rawah (area 1), Neota (area 2), Comanche Peak (area 3), Cache la Poudre (area 4)) that is located in Roosevelt National Forest of Northern Colorado.\n",
    "\n",
    "Source: https://archive.ics.uci.edu/ml/datasets/covertype or https://www.kaggle.com/uciml/forest-cover-type-dataset\n",
    "\n",
    "\n",
    "## 1 PySpark Machine Configuration:\n",
    "\n",
    "Here it only uses 4 processing cores from the CPU, and it set up by the following code."
   ]
  },
  {
   "cell_type": "code",
   "execution_count": 1,
   "metadata": {},
   "outputs": [
    {
     "data": {
      "text/html": [
       "Current session configs: <tt>{'executorCores': 4, 'kind': 'pyspark'}</tt><br>"
      ],
      "text/plain": [
       "<IPython.core.display.HTML object>"
      ]
     },
     "metadata": {},
     "output_type": "display_data"
    },
    {
     "data": {
      "text/html": [
       "No active sessions."
      ],
      "text/plain": [
       "<IPython.core.display.HTML object>"
      ]
     },
     "metadata": {},
     "output_type": "display_data"
    }
   ],
   "source": [
    "%%configure\n",
    "{\n",
    "    \"executorCores\" : 4\n",
    "}"
   ]
  },
  {
   "cell_type": "code",
   "execution_count": 2,
   "metadata": {},
   "outputs": [
    {
     "name": "stdout",
     "output_type": "stream",
     "text": [
      "Starting Spark application\n"
     ]
    },
    {
     "data": {
      "text/html": [
       "<table>\n",
       "<tr><th>ID</th><th>YARN Application ID</th><th>Kind</th><th>State</th><th>Spark UI</th><th>Driver log</th><th>Current session?</th></tr><tr><td>3</td><td>None</td><td>pyspark</td><td>idle</td><td></td><td></td><td>✔</td></tr></table>"
      ],
      "text/plain": [
       "<IPython.core.display.HTML object>"
      ]
     },
     "metadata": {},
     "output_type": "display_data"
    },
    {
     "data": {
      "application/vnd.jupyter.widget-view+json": {
       "model_id": "",
       "version_major": 2,
       "version_minor": 0
      },
      "text/plain": [
       "FloatProgress(value=0.0, bar_style='info', description='Progress:', layout=Layout(height='25px', width='50%'),…"
      ]
     },
     "metadata": {},
     "output_type": "display_data"
    },
    {
     "name": "stdout",
     "output_type": "stream",
     "text": [
      "SparkSession available as 'spark'.\n"
     ]
    },
    {
     "data": {
      "application/vnd.jupyter.widget-view+json": {
       "model_id": "",
       "version_major": 2,
       "version_minor": 0
      },
      "text/plain": [
       "FloatProgress(value=0.0, bar_style='info', description='Progress:', layout=Layout(height='25px', width='50%'),…"
      ]
     },
     "metadata": {},
     "output_type": "display_data"
    }
   ],
   "source": [
    "from pyspark.sql.types import *"
   ]
  },
  {
   "cell_type": "markdown",
   "metadata": {},
   "source": [
    "## 2 Setup the Correct Directory:"
   ]
  },
  {
   "cell_type": "code",
   "execution_count": 3,
   "metadata": {},
   "outputs": [
    {
     "data": {
      "application/vnd.jupyter.widget-view+json": {
       "model_id": "",
       "version_major": 2,
       "version_minor": 0
      },
      "text/plain": [
       "FloatProgress(value=0.0, bar_style='info', description='Progress:', layout=Layout(height='25px', width='50%'),…"
      ]
     },
     "metadata": {},
     "output_type": "display_data"
    }
   ],
   "source": [
    "import os\n",
    "\n",
    "# Change the Path:\n",
    "path = '++++your working directory here++++/Datasets/'\n",
    "os.chdir(path)\n",
    "folder_pathway = os.getcwd()\n",
    "\n",
    "# print(folder_pathway)"
   ]
  },
  {
   "cell_type": "markdown",
   "metadata": {},
   "source": [
    "## 3 Load in the Dataset:\n",
    "\n",
    "There should be a folder called \"Datasets\" included for the CSV file."
   ]
  },
  {
   "cell_type": "code",
   "execution_count": 4,
   "metadata": {},
   "outputs": [
    {
     "data": {
      "application/vnd.jupyter.widget-view+json": {
       "model_id": "",
       "version_major": 2,
       "version_minor": 0
      },
      "text/plain": [
       "FloatProgress(value=0.0, bar_style='info', description='Progress:', layout=Layout(height='25px', width='50%'),…"
      ]
     },
     "metadata": {},
     "output_type": "display_data"
    }
   ],
   "source": [
    "forest_dat = spark.read.csv(folder_pathway + '/Datasets/forest_covtype.csv', header = True, inferSchema = True)"
   ]
  },
  {
   "cell_type": "code",
   "execution_count": 5,
   "metadata": {},
   "outputs": [
    {
     "data": {
      "application/vnd.jupyter.widget-view+json": {
       "model_id": "",
       "version_major": 2,
       "version_minor": 0
      },
      "text/plain": [
       "FloatProgress(value=0.0, bar_style='info', description='Progress:', layout=Layout(height='25px', width='50%'),…"
      ]
     },
     "metadata": {},
     "output_type": "display_data"
    },
    {
     "name": "stdout",
     "output_type": "stream",
     "text": [
      "root\n",
      " |-- Elevation: integer (nullable = true)\n",
      " |-- Aspect: integer (nullable = true)\n",
      " |-- Slope: integer (nullable = true)\n",
      " |-- Horizontal_Distance_To_Hydrology: integer (nullable = true)\n",
      " |-- Vertical_Distance_To_Hydrology: integer (nullable = true)\n",
      " |-- Horizontal_Distance_To_Roadways: integer (nullable = true)\n",
      " |-- Hillshade_9am: integer (nullable = true)\n",
      " |-- Hillshade_Noon: integer (nullable = true)\n",
      " |-- Hillshade_3pm: integer (nullable = true)\n",
      " |-- Horizontal_Distance_To_Fire_Points: integer (nullable = true)\n",
      " |-- Wilderness_Area1: integer (nullable = true)\n",
      " |-- Wilderness_Area2: integer (nullable = true)\n",
      " |-- Wilderness_Area3: integer (nullable = true)\n",
      " |-- Wilderness_Area4: integer (nullable = true)\n",
      " |-- Soil_Type1: integer (nullable = true)\n",
      " |-- Soil_Type2: integer (nullable = true)\n",
      " |-- Soil_Type3: integer (nullable = true)\n",
      " |-- Soil_Type4: integer (nullable = true)\n",
      " |-- Soil_Type5: integer (nullable = true)\n",
      " |-- Soil_Type6: integer (nullable = true)\n",
      " |-- Soil_Type7: integer (nullable = true)\n",
      " |-- Soil_Type8: integer (nullable = true)\n",
      " |-- Soil_Type9: integer (nullable = true)\n",
      " |-- Soil_Type10: integer (nullable = true)\n",
      " |-- Soil_Type11: integer (nullable = true)\n",
      " |-- Soil_Type12: integer (nullable = true)\n",
      " |-- Soil_Type13: integer (nullable = true)\n",
      " |-- Soil_Type14: integer (nullable = true)\n",
      " |-- Soil_Type15: integer (nullable = true)\n",
      " |-- Soil_Type16: integer (nullable = true)\n",
      " |-- Soil_Type17: integer (nullable = true)\n",
      " |-- Soil_Type18: integer (nullable = true)\n",
      " |-- Soil_Type19: integer (nullable = true)\n",
      " |-- Soil_Type20: integer (nullable = true)\n",
      " |-- Soil_Type21: integer (nullable = true)\n",
      " |-- Soil_Type22: integer (nullable = true)\n",
      " |-- Soil_Type23: integer (nullable = true)\n",
      " |-- Soil_Type24: integer (nullable = true)\n",
      " |-- Soil_Type25: integer (nullable = true)\n",
      " |-- Soil_Type26: integer (nullable = true)\n",
      " |-- Soil_Type27: integer (nullable = true)\n",
      " |-- Soil_Type28: integer (nullable = true)\n",
      " |-- Soil_Type29: integer (nullable = true)\n",
      " |-- Soil_Type30: integer (nullable = true)\n",
      " |-- Soil_Type31: integer (nullable = true)\n",
      " |-- Soil_Type32: integer (nullable = true)\n",
      " |-- Soil_Type33: integer (nullable = true)\n",
      " |-- Soil_Type34: integer (nullable = true)\n",
      " |-- Soil_Type35: integer (nullable = true)\n",
      " |-- Soil_Type36: integer (nullable = true)\n",
      " |-- Soil_Type37: integer (nullable = true)\n",
      " |-- Soil_Type38: integer (nullable = true)\n",
      " |-- Soil_Type39: integer (nullable = true)\n",
      " |-- Soil_Type40: integer (nullable = true)\n",
      " |-- Cover_Type: integer (nullable = true)"
     ]
    }
   ],
   "source": [
    "forest_dat.printSchema()"
   ]
  },
  {
   "cell_type": "markdown",
   "metadata": {},
   "source": [
    "## 4 Transformers introduction:\n",
    "\n",
    "A Transformer performs a transform() method that converts one DataFrame into another, usually appending a single or more columns. It is also an abstraction that includes feature transformaers and learned models.\n",
    "\n",
    "- A feature transformer will take a DataFrame, read a column (like text), and then map it into a new column (feature vectors), once done, it will output a new DataFrame with the mapped column appended.\n",
    "\n",
    "- A learning model will take a DataFrame, read the feature vectors column, predict the label for each feature vector, and then it will output a new DataFrame with predicted label results appended as a column.\n",
    "\n",
    "Source: https://spark.apache.org/docs/1.6.0/ml-guide.html#transformers and https://spark.apache.org/docs/1.6.0/ml-features.html\n",
    "\n",
    "### The following diagram shows a list of other types of Transformers that is able to convert one feature to another:"
   ]
  },
  {
   "cell_type": "code",
   "execution_count": 6,
   "metadata": {},
   "outputs": [
    {
     "name": "stdout",
     "output_type": "stream",
     "text": [
      "Image source -> https://spark.apache.org/docs/2.2.0/ml-features.html\n"
     ]
    },
    {
     "data": {
      "image/png": "[encoded data removed]",
      "text/plain": [
       "<Figure size 1152x720 with 1 Axes>"
      ]
     },
     "metadata": {
      "needs_background": "light"
     },
     "output_type": "display_data"
    }
   ],
   "source": [
    "%%local\n",
    "\n",
    "# Import the required library and set to use ggplot:\n",
    "import os\n",
    "import matplotlib.pyplot as plt\n",
    "import matplotlib.image as mpimg\n",
    "%matplotlib inline\n",
    "\n",
    "folder_pathway = os.getcwd()\n",
    "# print(folder_pathway)\n",
    "image_path = folder_pathway + \"/Description Images/\"\n",
    "\n",
    "# plot the image\n",
    "fig, ax1 = plt.subplots(figsize=(16,10))\n",
    "image = mpimg.imread(image_path + 'Spark Transformer types.png')\n",
    "plt.imshow(image);\n",
    "\n",
    "print('Image source -> https://spark.apache.org/docs/2.2.0/ml-features.html')"
   ]
  },
  {
   "cell_type": "markdown",
   "metadata": {},
   "source": [
    "### In this section, the Bucketizer and VectorAssembler will be explored.\n",
    "\n",
    "## 4.1 Bucketiser:\n",
    "\n",
    "This will transform the \"Horizontal_Distance_To_Hydrology\" column into 10 equidistant buckets. The Horizontal_Distance_To_Hydrology column is quantitative, measured in meters and can be described as the __Horizontal Distance to nearest surface water features__.\n",
    "\n",
    "Bucketizer uses a list of thresholds to transform a continuous numerical variable into a discrete one (with as many levels as the length of the list of thresholds plus one).\n",
    "\n",
    "To do this:\n",
    "- First, load in the required packages.\n",
    "- Next, bucketise the numerical variables into 10 buckets.\n",
    "- Calculate the minimum and maximum values for the \"Horizontal_Distance_To_Hydrology\" feature and it will return these 2 values to the driver node. \n",
    "- When on the driver, a list of thresholds is created that takes in 3 parameters. The first parameter is np.arrange() is the minimum, the second is the maximum and the last one is the size of each step. This should define the \"splits\" list.\n",
    "- Pass the splits list to the .Bucketizer() method. \n",
    "- Lastly, the bucketizer object will transform the DataFrame accordingly."
   ]
  },
  {
   "cell_type": "code",
   "execution_count": 7,
   "metadata": {},
   "outputs": [
    {
     "data": {
      "application/vnd.jupyter.widget-view+json": {
       "model_id": "",
       "version_major": 2,
       "version_minor": 0
      },
      "text/plain": [
       "FloatProgress(value=0.0, bar_style='info', description='Progress:', layout=Layout(height='25px', width='50%'),…"
      ]
     },
     "metadata": {},
     "output_type": "display_data"
    }
   ],
   "source": [
    "# Import the required package:\n",
    "import pyspark.sql.functions as f\n",
    "import pyspark.ml.feature as feat\n",
    "import numpy as np"
   ]
  },
  {
   "cell_type": "code",
   "execution_count": 8,
   "metadata": {},
   "outputs": [
    {
     "data": {
      "application/vnd.jupyter.widget-view+json": {
       "model_id": "",
       "version_major": 2,
       "version_minor": 0
      },
      "text/plain": [
       "FloatProgress(value=0.0, bar_style='info', description='Progress:', layout=Layout(height='25px', width='50%'),…"
      ]
     },
     "metadata": {},
     "output_type": "display_data"
    },
    {
     "name": "stdout",
     "output_type": "stream",
     "text": [
      "+--------------------------------+------------------------------------+\n",
      "|Horizontal_Distance_To_Hydrology|Horizontal_Distance_To_Hydrology_Bkt|\n",
      "+--------------------------------+------------------------------------+\n",
      "|                             258|                                 2.0|\n",
      "|                             212|                                 1.0|\n",
      "|                             268|                                 2.0|\n",
      "|                             242|                                 1.0|\n",
      "|                             153|                                 1.0|\n",
      "+--------------------------------+------------------------------------+\n",
      "only showing top 5 rows"
     ]
    }
   ],
   "source": [
    "# Define the number of numerical variables to bucketise:\n",
    "buckets_nb = 10\n",
    "\n",
    "# Calculate the min and max values of \"Horizontal_Distance_To_Hydrology\" feature:\n",
    "dist_minMax = (\n",
    "    forest_dat.agg(\n",
    "        f.min('Horizontal_Distance_To_Hydrology').alias('min'),\n",
    "        f.max('Horizontal_Distance_To_Hydrology').alias('max')\n",
    "    )\n",
    "    .rdd\n",
    "    .map(lambda row: (row.min, row.max))\n",
    "    .collect()[0]\n",
    ")\n",
    "\n",
    "# Calc the range between max and min distance:\n",
    "rng_dist = dist_minMax[1] - dist_minMax[0]\n",
    "\n",
    "# Create a Splits Lists:\n",
    "splits_list = list(np.arange(\n",
    "    dist_minMax[0],\n",
    "    dist_minMax[1],\n",
    "    rng_dist / (buckets_nb + 1)\n",
    "))\n",
    "\n",
    "# Using the Split list for the Bucketiser method:\n",
    "bucketiser = feat.Bucketizer(\n",
    "    splits = splits_list,\n",
    "    inputCol = 'Horizontal_Distance_To_Hydrology',\n",
    "    outputCol = 'Horizontal_Distance_To_Hydrology_Bkt'\n",
    ")\n",
    "\n",
    "# Transform the DataFrame:\n",
    "(\n",
    "    bucketiser\n",
    "    .transform(forest_dat)\n",
    "    .select('Horizontal_Distance_To_Hydrology', 'Horizontal_Distance_To_Hydrology_Bkt')\n",
    "    .show(5)\n",
    ")\n"
   ]
  },
  {
   "cell_type": "markdown",
   "metadata": {},
   "source": [
    "## 4.2 VectorAssembler:\n",
    "\n",
    "This section will combine multiple columns into a single column, then be used for PCA to find the principal components from the dataset. This will reduce the dimensionality/complexity as well.\n",
    "\n",
    "The VectorAssembler collates multiple columns of features into a single column or in other words, it combines the specified (separate) features into a single feature. Unlike other Transformers, it has the inputCols (with an \"s\") parameter that accepts a list of columns rather than a single column.\n",
    "\n",
    "To do this:\n",
    "- Use the .VectorAssembler() to collate all of the columns from the dataFrame.\n",
    "- Extract the top 5 most significatn principal components by using the \"feat\" column ( new a SparseVector containing all the features) in the PCA() method."
   ]
  },
  {
   "cell_type": "code",
   "execution_count": 9,
   "metadata": {},
   "outputs": [
    {
     "data": {
      "application/vnd.jupyter.widget-view+json": {
       "model_id": "",
       "version_major": 2,
       "version_minor": 0
      },
      "text/plain": [
       "FloatProgress(value=0.0, bar_style='info', description='Progress:', layout=Layout(height='25px', width='50%'),…"
      ]
     },
     "metadata": {},
     "output_type": "display_data"
    },
    {
     "name": "stdout",
     "output_type": "stream",
     "text": [
      "[Row(feat=SparseVector(55, {0: 2596.0, 1: 51.0, 2: 3.0, 3: 258.0, 5: 510.0, 6: 221.0, 7: 232.0, 8: 148.0, 9: 6279.0, 10: 1.0, 42: 1.0, 54: 5.0}), pca_feat=DenseVector([-3887.7711, 4996.8103, 2323.0932, 1014.5873, -135.1702]))]"
     ]
    }
   ],
   "source": [
    "# Instantise the VectorAssembler and input the dataset for collation of the columns:\n",
    "vectorAssembler = (\n",
    "    feat.VectorAssembler(inputCols = forest_dat.columns, outputCol = 'feat')\n",
    ")\n",
    "\n",
    "# Perform PCA:\n",
    "nb_PC = 5\n",
    "\n",
    "pca_dat = (\n",
    "    feat.PCA(k = nb_PC, inputCol = vectorAssembler.getOutputCol(), outputCol = 'pca_feat')\n",
    ")\n",
    "\n",
    "# Fit and transfrom the dataset with the calculated PCA mapping:\n",
    "(\n",
    "    pca_dat\n",
    "    .fit(vectorAssembler.transform(forest_dat))\n",
    "    .transform(vectorAssembler.transform(forest_dat))\n",
    "    .select('feat', 'pca_feat')\n",
    "    .take(1)\n",
    ")"
   ]
  },
  {
   "cell_type": "markdown",
   "metadata": {},
   "source": [
    "## 5 Estimators introduction:\n",
    "\n",
    "Estimators can be described as an abstraction of a learning algorithm (or any algorithm) that will fit/train on the dataset. More specifically, an Estimator that implements a fit() method that accepts a DataFrame to produce a Model. This Model is a Transformer. For example, for Logistic Regression where it is an Estimator and that calling fit() method will train the LogisticRegressionModel, where it is a Model and hence a Transformer.\n",
    "\n",
    "Source: https://spark.apache.org/docs/1.6.0/ml-guide.html#estimators, https://spark.apache.org/docs/1.6.0/ml-classification-regression.html and https://spark.apache.org/docs/1.6.0/ml-clustering.html\n",
    "\n",
    "\n",
    "### The following diagrams shows a list of other types of Estimators (Machine Learning Models):\n",
    "\n",
    "#### For Classification and Regression models:"
   ]
  },
  {
   "cell_type": "code",
   "execution_count": 10,
   "metadata": {},
   "outputs": [
    {
     "name": "stdout",
     "output_type": "stream",
     "text": [
      "Image source -> https://spark.apache.org/docs/1.6.0/ml-classification-regression.html\n"
     ]
    },
    {
     "data": {
      "image/png": "[encoded data removed]",
      "text/plain": [
       "<Figure size 1152x720 with 1 Axes>"
      ]
     },
     "metadata": {
      "needs_background": "light"
     },
     "output_type": "display_data"
    }
   ],
   "source": [
    "%%local\n",
    "\n",
    "# plot the image\n",
    "fig, ax1 = plt.subplots(figsize=(16, 10))\n",
    "image = mpimg.imread(image_path + 'Spark Estimator types_1.png')\n",
    "plt.imshow(image);\n",
    "\n",
    "print('Image source -> https://spark.apache.org/docs/1.6.0/ml-classification-regression.html')"
   ]
  },
  {
   "cell_type": "markdown",
   "metadata": {},
   "source": [
    "#### For Clustering models:"
   ]
  },
  {
   "cell_type": "code",
   "execution_count": 11,
   "metadata": {},
   "outputs": [
    {
     "name": "stdout",
     "output_type": "stream",
     "text": [
      "Image source -> https://spark.apache.org/docs/1.6.0/ml-clustering.html\n"
     ]
    },
    {
     "data": {
      "image/png": "[encoded data removed]",
      "text/plain": [
       "<Figure size 1152x252 with 1 Axes>"
      ]
     },
     "metadata": {
      "needs_background": "light"
     },
     "output_type": "display_data"
    }
   ],
   "source": [
    "%%local\n",
    "\n",
    "# plot the image\n",
    "fig, ax1 = plt.subplots(figsize=(16, 3.5))\n",
    "image = mpimg.imread(image_path + 'Spark Estimator types_2.png')\n",
    "plt.imshow(image);\n",
    "\n",
    "print('Image source -> https://spark.apache.org/docs/1.6.0/ml-clustering.html')"
   ]
  },
  {
   "cell_type": "markdown",
   "metadata": {},
   "source": [
    "## 5.1 Estimator Type: Support Vector Machine (SVM)\n",
    "\n",
    "This section will explore on building a SVM model.\n",
    "\n",
    "To do this:\n",
    "- First, load in the necessary libraries.\n",
    "- Next, use the .VectorAssembler() method to extract all the columns from the dataFrame, except for the last column that is the \"CoverType\" which will be the __Label__.\n",
    "    - The label here is the \"Spruce-fir\" type which is equal to 1 in the dataset. \n",
    "    - To find these values, check whether the \"Cover_Type\" == 1 and casting the resulting Boolean as an Integer.\n",
    "- Next, select the label and features.\n",
    "- Next, create a LinearSVC object for the SVM model.\n",
    "    - Specify the max iterations as 10,\n",
    "    - Set it to have L2 (or Ridge) regularisation and to be 1%.\n",
    "- Finally, use the .fit() method the SVM object on the dataset, and once completed, extract the estimated coefficients.\n",
    "\n",
    "Other parameters can be:\n",
    "- featuresCol, set as the name of the feature columns -> Default is \"features\"\n",
    "- labelCol, set as the name of the label column\n",
    "- predictionCol, set as the name of the prediction column, if there is a need to rename it to something else other than \"prediction\".\n",
    "- tol, stopping parameter defining the minimum change between iterations in terms of the cost function. -> Default is \"10^-6\", if it is changed to a smaller value then it will be assumed to have converged.\n",
    "- rawPredictionCol, returns the raw value from the generating function.\n",
    "- fitIntercept, the model will fit the intercept as well -> Default is set to True.\n",
    "- standardization, it standardises the features prior to fitting the model -> Default is set to True\n",
    "- threshold, it decided what will be classified into either 1 or 0 -> Default is \"0.0\"\n",
    "- weightCol, Each observation's column (set as Column names) will be weighted differently.\n",
    "- aggregationDepth, this would be the tree-depth parameter used for the aggregation."
   ]
  },
  {
   "cell_type": "code",
   "execution_count": 12,
   "metadata": {},
   "outputs": [
    {
     "data": {
      "application/vnd.jupyter.widget-view+json": {
       "model_id": "",
       "version_major": 2,
       "version_minor": 0
      },
      "text/plain": [
       "FloatProgress(value=0.0, bar_style='info', description='Progress:', layout=Layout(height='25px', width='50%'),…"
      ]
     },
     "metadata": {},
     "output_type": "display_data"
    }
   ],
   "source": [
    "# Import the relevant libraries:\n",
    "import pyspark.ml.classification as cl"
   ]
  },
  {
   "cell_type": "code",
   "execution_count": 15,
   "metadata": {},
   "outputs": [
    {
     "data": {
      "application/vnd.jupyter.widget-view+json": {
       "model_id": "",
       "version_major": 2,
       "version_minor": 0
      },
      "text/plain": [
       "FloatProgress(value=0.0, bar_style='info', description='Progress:', layout=Layout(height='25px', width='50%'),…"
      ]
     },
     "metadata": {},
     "output_type": "display_data"
    }
   ],
   "source": [
    "# Collate the set of columns into a single feature column:\n",
    "vectorAssembler = feat.VectorAssembler(\n",
    "    inputCols = forest_dat.columns[0:-1],\n",
    "    outputCol = 'features'\n",
    ")\n",
    "\n",
    "# Select only the Spruce-fir type to be the labels:\n",
    "Spruce_fir_dat = (\n",
    "    vectorAssembler\n",
    "    .transform(forest_dat)\n",
    "    .withColumn('label', (f.col('Cover_Type') == 1).cast('Integer') )\n",
    "    .select('label', 'features')\n",
    ")\n",
    "\n",
    "# Instantise the SVM object:\n",
    "svc_obj= cl.LinearSVC(maxIter = 10, regParam = 0.01)\n",
    "\n",
    "# Fit the model to the dataset:\n",
    "svc_model = svc_obj.fit(Spruce_fir_dat)"
   ]
  },
  {
   "cell_type": "code",
   "execution_count": 18,
   "metadata": {},
   "outputs": [
    {
     "data": {
      "application/vnd.jupyter.widget-view+json": {
       "model_id": "",
       "version_major": 2,
       "version_minor": 0
      },
      "text/plain": [
       "FloatProgress(value=0.0, bar_style='info', description='Progress:', layout=Layout(height='25px', width='50%'),…"
      ]
     },
     "metadata": {},
     "output_type": "display_data"
    },
    {
     "name": "stdout",
     "output_type": "stream",
     "text": [
      "DenseVector([-0.0001, -0.0, -0.0023, -0.0, -0.0001, 0.0, -0.001, -0.0017, -0.0003, -0.0, 0.0, 0.0401, -0.0071, -0.0958, -0.0901, -0.0653, -0.0655, -0.0437, -0.0928, -0.0848, -0.0211, -0.0045, -0.0498, -0.0829, -0.0522, -0.0325, -0.0263, -0.0923, -0.0889, -0.0275, -0.0606, -0.0595, 0.0341, -0.003, 0.0822, 0.0607, 0.0351, 0.0093, 0.0048, -0.0154, 0.0422, -0.0673, -0.0039, -0.0142, 0.0036, 0.0078, 0.0, -0.0117, 0.0283, -0.0002, -0.0463, 0.0394, 0.0292, 0.0358])"
     ]
    }
   ],
   "source": [
    "# Extract the estimated coefficients from the model:\n",
    "svc_model.coefficients"
   ]
  },
  {
   "cell_type": "markdown",
   "metadata": {},
   "source": [
    "## 5.2 Estimator Type: Linear Regression\n",
    "\n",
    "This section will explore on building a Linear Regression model. It has a similar set up to the above SVM model, however the Label used here is different. The Label chosen is the \"Elevation\" column and it will be cast as Float (for regression problems)."
   ]
  },
  {
   "cell_type": "code",
   "execution_count": 16,
   "metadata": {},
   "outputs": [
    {
     "data": {
      "application/vnd.jupyter.widget-view+json": {
       "model_id": "",
       "version_major": 2,
       "version_minor": 0
      },
      "text/plain": [
       "FloatProgress(value=0.0, bar_style='info', description='Progress:', layout=Layout(height='25px', width='50%'),…"
      ]
     },
     "metadata": {},
     "output_type": "display_data"
    }
   ],
   "source": [
    "# Import the required Libraries:\n",
    "import pyspark.ml.regression as rg"
   ]
  },
  {
   "cell_type": "code",
   "execution_count": 20,
   "metadata": {},
   "outputs": [
    {
     "data": {
      "application/vnd.jupyter.widget-view+json": {
       "model_id": "",
       "version_major": 2,
       "version_minor": 0
      },
      "text/plain": [
       "FloatProgress(value=0.0, bar_style='info', description='Progress:', layout=Layout(height='25px', width='50%'),…"
      ]
     },
     "metadata": {},
     "output_type": "display_data"
    }
   ],
   "source": [
    "# Collate the set of columns into a single feature column:\n",
    "vectorAssembler = feat.VectorAssembler(\n",
    "    inputCols = forest_dat.columns[1:],\n",
    "    outputCol = 'features'\n",
    ")\n",
    "\n",
    "# Select only the label to be \"Elevations\":\n",
    "elevation_dat = (\n",
    "    vectorAssembler\n",
    "    .transform(forest_dat)\n",
    "    .withColumn('label', f.col('Elevation').cast('Float') )\n",
    "    .select('label', 'features')\n",
    ")\n",
    "\n",
    "# Instantise the SVM object:\n",
    "lr_obj= rg.LinearRegression( maxIter = 10, regParam = 0.01, elasticNetParam = 1.00 )\n",
    "\n",
    "# Fit the model to the dataset:\n",
    "lr_model = lr_obj.fit(elevation_dat)"
   ]
  },
  {
   "cell_type": "code",
   "execution_count": 21,
   "metadata": {},
   "outputs": [
    {
     "data": {
      "application/vnd.jupyter.widget-view+json": {
       "model_id": "",
       "version_major": 2,
       "version_minor": 0
      },
      "text/plain": [
       "FloatProgress(value=0.0, bar_style='info', description='Progress:', layout=Layout(height='25px', width='50%'),…"
      ]
     },
     "metadata": {},
     "output_type": "display_data"
    },
    {
     "name": "stdout",
     "output_type": "stream",
     "text": [
      "DenseVector([0.0309, 0.6522, 0.1911, 0.1424, 0.0342, 0.7402, 1.053, -0.0017, -0.0041, 2.7163, 189.0362, 27.8238, -265.8505, -407.4379, -346.0612, -364.3841, -302.6788, -400.5852, -212.9918, -126.1329, -117.7423, -312.0478, -248.7118, -221.4788, -155.1459, -84.5129, -398.0433, -387.8102, -179.4485, -261.3875, -337.7875, 48.0629, -94.7813, 149.8043, 135.144, 80.0901, 64.3659, 124.0233, -115.0126, 119.1285, -181.7498, 10.8056, -42.7849, 65.5441, 102.2562, 36.9865, -48.1163, 379.2091, 256.0169, 497.1714, 313.0607, 337.172, 397.0758, -14.4551])"
     ]
    }
   ],
   "source": [
    "# Extract the estimated coefficients from the model:\n",
    "lr_model.coefficients"
   ]
  },
  {
   "cell_type": "markdown",
   "metadata": {},
   "source": [
    "### This Linear Regression model also calculates the summary which returns the basic performance statistics:"
   ]
  },
  {
   "cell_type": "code",
   "execution_count": 28,
   "metadata": {},
   "outputs": [
    {
     "data": {
      "application/vnd.jupyter.widget-view+json": {
       "model_id": "",
       "version_major": 2,
       "version_minor": 0
      },
      "text/plain": [
       "FloatProgress(value=0.0, bar_style='info', description='Progress:', layout=Layout(height='25px', width='50%'),…"
      ]
     },
     "metadata": {},
     "output_type": "display_data"
    },
    {
     "name": "stdout",
     "output_type": "stream",
     "text": [
      " R-Squared: 0.786\n",
      " RMSE: 129.5087\n",
      " MAE: 103.3408"
     ]
    }
   ],
   "source": [
    "summary_lr = lr_model.summary\n",
    "\n",
    "print(\n",
    "    ' R-Squared: ' + str(round(summary_lr.r2, 4)) + '\\n',\n",
    "    'RMSE: ' + str(round(summary_lr.rootMeanSquaredError, 4)) + '\\n',\n",
    "    'MAE: ' + str(round(summary_lr.meanAbsoluteError, 4))\n",
    ")"
   ]
  },
  {
   "cell_type": "markdown",
   "metadata": {},
   "source": [
    "### Observation:\n",
    "\n",
    "By examining the R-Squared value of 78%, it indicates that 78% of all the variability of the data is around its mean meaning that the model is quite well fitted to the data. R-squared is a measure of how close the data are to the fitted regression line.\n",
    "\n",
    "Source: https://blog.minitab.com/blog/adventures-in-statistics-2/regression-analysis-how-do-i-interpret-r-squared-and-assess-the-goodness-of-fit\n",
    "\n",
    "## 6 Pipelines Introduction:\n",
    "\n"
   ]
  },
  {
   "cell_type": "code",
   "execution_count": null,
   "metadata": {},
   "outputs": [],
   "source": []
  },
  {
   "cell_type": "code",
   "execution_count": null,
   "metadata": {},
   "outputs": [],
   "source": []
  },
  {
   "cell_type": "code",
   "execution_count": null,
   "metadata": {},
   "outputs": [],
   "source": []
  },
  {
   "cell_type": "code",
   "execution_count": null,
   "metadata": {},
   "outputs": [],
   "source": []
  },
  {
   "cell_type": "code",
   "execution_count": null,
   "metadata": {},
   "outputs": [],
   "source": []
  },
  {
   "cell_type": "code",
   "execution_count": null,
   "metadata": {},
   "outputs": [],
   "source": []
  },
  {
   "cell_type": "code",
   "execution_count": null,
   "metadata": {},
   "outputs": [],
   "source": []
  },
  {
   "cell_type": "code",
   "execution_count": null,
   "metadata": {},
   "outputs": [],
   "source": []
  },
  {
   "cell_type": "code",
   "execution_count": null,
   "metadata": {},
   "outputs": [],
   "source": []
  },
  {
   "cell_type": "code",
   "execution_count": null,
   "metadata": {},
   "outputs": [],
   "source": []
  },
  {
   "cell_type": "code",
   "execution_count": null,
   "metadata": {},
   "outputs": [],
   "source": []
  },
  {
   "cell_type": "code",
   "execution_count": null,
   "metadata": {},
   "outputs": [],
   "source": []
  },
  {
   "cell_type": "code",
   "execution_count": null,
   "metadata": {},
   "outputs": [],
   "source": []
  },
  {
   "cell_type": "code",
   "execution_count": null,
   "metadata": {},
   "outputs": [],
   "source": []
  },
  {
   "cell_type": "code",
   "execution_count": null,
   "metadata": {},
   "outputs": [],
   "source": []
  },
  {
   "cell_type": "code",
   "execution_count": null,
   "metadata": {},
   "outputs": [],
   "source": []
  },
  {
   "cell_type": "code",
   "execution_count": null,
   "metadata": {},
   "outputs": [],
   "source": []
  },
  {
   "cell_type": "code",
   "execution_count": null,
   "metadata": {},
   "outputs": [],
   "source": []
  },
  {
   "cell_type": "code",
   "execution_count": null,
   "metadata": {},
   "outputs": [],
   "source": []
  },
  {
   "cell_type": "code",
   "execution_count": null,
   "metadata": {},
   "outputs": [],
   "source": []
  },
  {
   "cell_type": "code",
   "execution_count": null,
   "metadata": {},
   "outputs": [],
   "source": []
  },
  {
   "cell_type": "code",
   "execution_count": null,
   "metadata": {},
   "outputs": [],
   "source": []
  },
  {
   "cell_type": "code",
   "execution_count": null,
   "metadata": {},
   "outputs": [],
   "source": []
  },
  {
   "cell_type": "code",
   "execution_count": null,
   "metadata": {},
   "outputs": [],
   "source": []
  }
 ],
 "metadata": {
  "kernelspec": {
   "display_name": "PySpark",
   "language": "",
   "name": "pysparkkernel"
  },
  "language_info": {
   "codemirror_mode": {
    "name": "python",
    "version": 3
   },
   "mimetype": "text/x-python",
   "name": "pyspark",
   "pygments_lexer": "python3"
  }
 },
 "nbformat": 4,
 "nbformat_minor": 4
}
