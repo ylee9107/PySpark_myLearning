{
 "cells": [
  {
   "cell_type": "markdown",
   "metadata": {},
   "source": [
    "# PySpark - GraphFrames and Graph Theory\n",
    "\n",
    "## Introduction\n",
    "\n",
    "Sometimes, it can be difficult to explain or better comprehend certain types of dataset or data problems with just a simple distribution charts, pie charts or scatter plots. These kinds of dataset can consists of geographical data points, social networks or user interactions. This is where graphs that consists of 3 components that are edges, nodes (or vertices) and their properties are utilised to represent these kinds of data problems in a more intuitive and easier way for comprehension. The ability to simply assign nodes to anything and define their relationship (between these nodes) with edges provides a great amount of flexibility to represent the data in a different way. This can also means that it is possible to connect two seemingly disparate graphs into a common graph, as long as there is a link that can be found between the nodes of the two disparate graphs. For example, joining a social network with restaurant reccomendations, number of travellers and airport delays etc.\n",
    "\n",
    "For more information:\n",
    "- https://www.geeksforgeeks.org/mathematics-graph-theory-basics-set-1/\n",
    "- http://www.analytictech.com/mb021/graphtheory.htm\n",
    "\n",
    "## Breakdown of this Notebook\n",
    "\n",
    "- An Introduction to Graph Theory and GraphFrames for Apache Spark\n",
    "- Installing GraphFrames\n",
    "- Data Preparation\n",
    "- Building the Graph\n",
    "- Running querries against the graph\n",
    "- Understanding the Graph\n",
    "- Utilise PageRank to determine airport ranks\n",
    "- Finding the fewest number of connections (flights)\n",
    "- Visualising the Graph.\n",
    "\n",
    "## Why use GraphFrames with Spark?\n",
    "\n",
    "One of the main problems that persist when designing and computing graphs is that the traversal and computation of these graphing algorithms are ofthen computationally expensive and at times can be very slow. To overcome this, GraphFrams with Apache Spark is able to take advantage of the performance inherent of the DataFrames where it is distributed. \n",
    "\n",
    "### Under the hood of Graphframes:\n",
    "\n",
    "GraphFrames utilises two Spark DataFrames where one would be used for the nodes and another for the edges, it leverages the optimisations and simplicity of the DataFrame API and in addition, it can be used and interacted with by other programming languages such as Python, Java and Scala APIs.\n",
    "\n",
    "## Datasets:\n",
    "\n",
    "The datasets for this project are the (1) Airline On-Time Performance and Causes of Flight Delays data which consists of information about scheduled and actual departure/arrival times along with the delay causes, and (2) OpenFlights data which details the airport and airlines. More details can be found in the link below.\n",
    "\n",
    "The Datasets are obtained from:\n",
    "- https://catalog.data.gov/dataset/airline-on-time-performance-and-causes-of-flight-delays-on-time-data or https://www.transtats.bts.gov/DL_SelectFields.asp?Table_ID=236&DB_Short_Name=On-Time\n",
    "- https://openflights.org/data.html\n",
    "\n",
    "Or download the folder from this repository which should contain the following files:\n",
    "- airport-codes-na.txt\n",
    "- departuredelays.csv\n",
    "\n",
    "## 1 Installing GraphFrames:\n",
    "\n",
    "GraphFrames Spark package can be found at the link: https://spark-packages.org/package/graphframes/graphframes. Where it uses PySpark to download the latest version, compile it and execute it within the context of the Spark Job.\n",
    "\n",
    "At the time of writing this Notebook, the command was:\n",
    "\n",
    "> $SPARK_HOME/bin/spark-shell --packages graphframes:graphframes:0.8.0-spark3.0-s_2.12\n",
    "\n",
    "To install:\n",
    "1. In a Terminal Window, after activating your PySpark Environment, type in \"cd /your spark installed location/bin.\n",
    "    - In my case it was \"cd /opt/spark/bin\n",
    "2. Change this part of the input: from 'spark-shell' to 'pyspark'\n",
    "                    |\n",
    "                    |\n",
    "                    x\n",
    "3. Then type in: pyspark --packages graphframes:graphframes:0.8.0-spark3.0-s_2.12\n",
    "                 pyspark --master local --packages graphframes:0.8.0-spark3.0-s_2.12"
   ]
  },
  {
   "cell_type": "markdown",
   "metadata": {},
   "source": [
    "## 2 PySpark Machine Configuration:\n",
    "\n",
    "Here it only uses four processing cores from the CPU, and it set up by the following code."
   ]
  },
  {
   "cell_type": "code",
   "execution_count": 1,
   "metadata": {},
   "outputs": [
    {
     "data": {
      "text/html": [
       "Current session configs: <tt>{'executorCores': 4, 'kind': 'pyspark'}</tt><br>"
      ],
      "text/plain": [
       "<IPython.core.display.HTML object>"
      ]
     },
     "metadata": {},
     "output_type": "display_data"
    },
    {
     "data": {
      "text/html": [
       "No active sessions."
      ],
      "text/plain": [
       "<IPython.core.display.HTML object>"
      ]
     },
     "metadata": {},
     "output_type": "display_data"
    }
   ],
   "source": [
    "%%configure\n",
    "{\n",
    "    \"executorCores\" : 4\n",
    "}"
   ]
  },
  {
   "cell_type": "code",
   "execution_count": 2,
   "metadata": {},
   "outputs": [
    {
     "name": "stdout",
     "output_type": "stream",
     "text": [
      "Starting Spark application\n"
     ]
    },
    {
     "data": {
      "text/html": [
       "<table>\n",
       "<tr><th>ID</th><th>YARN Application ID</th><th>Kind</th><th>State</th><th>Spark UI</th><th>Driver log</th><th>Current session?</th></tr><tr><td>0</td><td>None</td><td>pyspark</td><td>idle</td><td></td><td></td><td>✔</td></tr></table>"
      ],
      "text/plain": [
       "<IPython.core.display.HTML object>"
      ]
     },
     "metadata": {},
     "output_type": "display_data"
    },
    {
     "data": {
      "application/vnd.jupyter.widget-view+json": {
       "model_id": "",
       "version_major": 2,
       "version_minor": 0
      },
      "text/plain": [
       "FloatProgress(value=0.0, bar_style='info', description='Progress:', layout=Layout(height='25px', width='50%'),…"
      ]
     },
     "metadata": {},
     "output_type": "display_data"
    },
    {
     "name": "stdout",
     "output_type": "stream",
     "text": [
      "SparkSession available as 'spark'.\n"
     ]
    },
    {
     "data": {
      "application/vnd.jupyter.widget-view+json": {
       "model_id": "",
       "version_major": 2,
       "version_minor": 0
      },
      "text/plain": [
       "FloatProgress(value=0.0, bar_style='info', description='Progress:', layout=Layout(height='25px', width='50%'),…"
      ]
     },
     "metadata": {},
     "output_type": "display_data"
    }
   ],
   "source": [
    "from pyspark.sql.types import *"
   ]
  },
  {
   "cell_type": "markdown",
   "metadata": {},
   "source": [
    "## 3 Setup the Correct Directory:"
   ]
  },
  {
   "cell_type": "code",
   "execution_count": 3,
   "metadata": {},
   "outputs": [
    {
     "data": {
      "application/vnd.jupyter.widget-view+json": {
       "model_id": "",
       "version_major": 2,
       "version_minor": 0
      },
      "text/plain": [
       "FloatProgress(value=0.0, bar_style='info', description='Progress:', layout=Layout(height='25px', width='50%'),…"
      ]
     },
     "metadata": {},
     "output_type": "display_data"
    }
   ],
   "source": [
    "import os\n",
    "\n",
    "# Change the Path:\n",
    "path = '++++your working directory here++++/Datasets/'\n",
    "os.chdir(path)\n",
    "folder_pathway = os.getcwd()\n",
    "\n",
    "# print(folder_pathway)"
   ]
  },
  {
   "cell_type": "markdown",
   "metadata": {},
   "source": [
    "## 4 Example of Nodes and Edges in Graphs:\n",
    "\n",
    "The diagram below details the nodes and edges in a graph. "
   ]
  },
  {
   "cell_type": "code",
   "execution_count": 4,
   "metadata": {},
   "outputs": [
    {
     "name": "stdout",
     "output_type": "stream",
     "text": [
      "Image source -> https://www.geeksforgeeks.org/mathematics-graph-theory-basics-set-1/\n"
     ]
    },
    {
     "data": {
      "image/png": "[encoded data removed]",
      "text/plain": [
       "<Figure size 1152x720 with 1 Axes>"
      ]
     },
     "metadata": {
      "needs_background": "light"
     },
     "output_type": "display_data"
    }
   ],
   "source": [
    "%%local\n",
    "\n",
    "# Import the required library and set to use ggplot:\n",
    "import os\n",
    "import matplotlib.pyplot as plt\n",
    "import matplotlib.image as mpimg\n",
    "%matplotlib inline\n",
    "\n",
    "folder_pathway = os.getcwd()\n",
    "image_path = folder_pathway + \"/Description Images/\"\n",
    "\n",
    "# plot the image\n",
    "fig, ax1 = plt.subplots(figsize=(16,10))\n",
    "image = mpimg.imread(image_path + 'Example Graph Theory.png')\n",
    "plt.imshow(image);\n",
    "\n",
    "print('Image source -> https://www.geeksforgeeks.org/mathematics-graph-theory-basics-set-1/')"
   ]
  },
  {
   "cell_type": "markdown",
   "metadata": {},
   "source": [
    "## 5 Load in the Dataset:\n",
    "\n",
    "Load in the data files from the \"Datasets\" folder. The \".txt\" and \".csv\" files are saved as \"airports_original\" and \"departureDelays_original\" respectively, where the schema is inddered and the headers are configured.\n"
   ]
  },
  {
   "cell_type": "code",
   "execution_count": 5,
   "metadata": {},
   "outputs": [
    {
     "data": {
      "application/vnd.jupyter.widget-view+json": {
       "model_id": "",
       "version_major": 2,
       "version_minor": 0
      },
      "text/plain": [
       "FloatProgress(value=0.0, bar_style='info', description='Progress:', layout=Layout(height='25px', width='50%'),…"
      ]
     },
     "metadata": {},
     "output_type": "display_data"
    }
   ],
   "source": [
    "# Folder pathway:\n",
    "dataset_pathway = folder_pathway + \"/Datasets/\""
   ]
  },
  {
   "cell_type": "code",
   "execution_count": 6,
   "metadata": {},
   "outputs": [
    {
     "data": {
      "application/vnd.jupyter.widget-view+json": {
       "model_id": "",
       "version_major": 2,
       "version_minor": 0
      },
      "text/plain": [
       "FloatProgress(value=0.0, bar_style='info', description='Progress:', layout=Layout(height='25px', width='50%'),…"
      ]
     },
     "metadata": {},
     "output_type": "display_data"
    }
   ],
   "source": [
    "# Airports Dataset:\n",
    "\n",
    "airports_original = spark.read.csv(dataset_pathway + \"/airport-codes-na.txt\", header = 'true', inferSchema = 'true', sep = '\\t')\n",
    "airports_original.createOrReplaceTempView(\"airports_original\")"
   ]
  },
  {
   "cell_type": "code",
   "execution_count": 7,
   "metadata": {},
   "outputs": [
    {
     "data": {
      "application/vnd.jupyter.widget-view+json": {
       "model_id": "",
       "version_major": 2,
       "version_minor": 0
      },
      "text/plain": [
       "FloatProgress(value=0.0, bar_style='info', description='Progress:', layout=Layout(height='25px', width='50%'),…"
      ]
     },
     "metadata": {},
     "output_type": "display_data"
    },
    {
     "name": "stdout",
     "output_type": "stream",
     "text": [
      "+-----------+-----+-------+----+\n",
      "|       City|State|Country|IATA|\n",
      "+-----------+-----+-------+----+\n",
      "| Abbotsford|   BC| Canada| YXX|\n",
      "|   Aberdeen|   SD|    USA| ABR|\n",
      "|    Abilene|   TX|    USA| ABI|\n",
      "|      Akron|   OH|    USA| CAK|\n",
      "|    Alamosa|   CO|    USA| ALS|\n",
      "|     Albany|   GA|    USA| ABY|\n",
      "|     Albany|   NY|    USA| ALB|\n",
      "|Albuquerque|   NM|    USA| ABQ|\n",
      "| Alexandria|   LA|    USA| AEX|\n",
      "|  Allentown|   PA|    USA| ABE|\n",
      "|   Alliance|   NE|    USA| AIA|\n",
      "|     Alpena|   MI|    USA| APN|\n",
      "|    Altoona|   PA|    USA| AOO|\n",
      "|   Amarillo|   TX|    USA| AMA|\n",
      "|Anahim Lake|   BC| Canada| YAA|\n",
      "|  Anchorage|   AK|    USA| ANC|\n",
      "|   Appleton|   WI|    USA| ATW|\n",
      "|     Arviat|  NWT| Canada| YEK|\n",
      "|  Asheville|   NC|    USA| AVL|\n",
      "|      Aspen|   CO|    USA| ASE|\n",
      "+-----------+-----+-------+----+\n",
      "only showing top 20 rows"
     ]
    }
   ],
   "source": [
    "# Inspect:\n",
    "airports_original.show()"
   ]
  },
  {
   "cell_type": "code",
   "execution_count": 8,
   "metadata": {},
   "outputs": [
    {
     "data": {
      "application/vnd.jupyter.widget-view+json": {
       "model_id": "",
       "version_major": 2,
       "version_minor": 0
      },
      "text/plain": [
       "FloatProgress(value=0.0, bar_style='info', description='Progress:', layout=Layout(height='25px', width='50%'),…"
      ]
     },
     "metadata": {},
     "output_type": "display_data"
    },
    {
     "name": "stdout",
     "output_type": "stream",
     "text": [
      "DataFrame[date: int, delay: int, distance: int, origin: string, destination: string]"
     ]
    }
   ],
   "source": [
    "# Departure Delays Dataset:\n",
    "\n",
    "departureDelays_original = spark.read.csv(dataset_pathway + \"/departuredelays.csv\", header = 'true', inferSchema = 'true')\n",
    "departureDelays_original.createOrReplaceTempView(\"departureDelays_original\")\n",
    "departureDelays_original.cache()"
   ]
  },
  {
   "cell_type": "code",
   "execution_count": 9,
   "metadata": {},
   "outputs": [
    {
     "data": {
      "application/vnd.jupyter.widget-view+json": {
       "model_id": "",
       "version_major": 2,
       "version_minor": 0
      },
      "text/plain": [
       "FloatProgress(value=0.0, bar_style='info', description='Progress:', layout=Layout(height='25px', width='50%'),…"
      ]
     },
     "metadata": {},
     "output_type": "display_data"
    },
    {
     "name": "stdout",
     "output_type": "stream",
     "text": [
      "root\n",
      " |-- date: integer (nullable = true)\n",
      " |-- delay: integer (nullable = true)\n",
      " |-- distance: integer (nullable = true)\n",
      " |-- origin: string (nullable = true)\n",
      " |-- destination: string (nullable = true)"
     ]
    }
   ],
   "source": [
    "# Inspect:\n",
    "departureDelays_original.printSchema()"
   ]
  },
  {
   "cell_type": "code",
   "execution_count": 10,
   "metadata": {},
   "outputs": [
    {
     "data": {
      "application/vnd.jupyter.widget-view+json": {
       "model_id": "",
       "version_major": 2,
       "version_minor": 0
      },
      "text/plain": [
       "FloatProgress(value=0.0, bar_style='info', description='Progress:', layout=Layout(height='25px', width='50%'),…"
      ]
     },
     "metadata": {},
     "output_type": "display_data"
    },
    {
     "name": "stdout",
     "output_type": "stream",
     "text": [
      "+-------+-----+--------+------+-----------+\n",
      "|   date|delay|distance|origin|destination|\n",
      "+-------+-----+--------+------+-----------+\n",
      "|1011245|    6|     602|   ABE|        ATL|\n",
      "|1020600|   -8|     369|   ABE|        DTW|\n",
      "|1021245|   -2|     602|   ABE|        ATL|\n",
      "|1020605|   -4|     602|   ABE|        ATL|\n",
      "|1031245|   -4|     602|   ABE|        ATL|\n",
      "|1030605|    0|     602|   ABE|        ATL|\n",
      "|1041243|   10|     602|   ABE|        ATL|\n",
      "|1040605|   28|     602|   ABE|        ATL|\n",
      "|1051245|   88|     602|   ABE|        ATL|\n",
      "|1050605|    9|     602|   ABE|        ATL|\n",
      "|1061215|   -6|     602|   ABE|        ATL|\n",
      "|1061725|   69|     602|   ABE|        ATL|\n",
      "|1061230|    0|     369|   ABE|        DTW|\n",
      "|1060625|   -3|     602|   ABE|        ATL|\n",
      "|1070600|    0|     369|   ABE|        DTW|\n",
      "|1071725|    0|     602|   ABE|        ATL|\n",
      "|1071230|    0|     369|   ABE|        DTW|\n",
      "|1070625|    0|     602|   ABE|        ATL|\n",
      "|1071219|    0|     569|   ABE|        ORD|\n",
      "|1080600|    0|     369|   ABE|        DTW|\n",
      "+-------+-----+--------+------+-----------+\n",
      "only showing top 20 rows"
     ]
    }
   ],
   "source": [
    "# Inspect:\n",
    "departureDelays_original.show()"
   ]
  },
  {
   "cell_type": "markdown",
   "metadata": {},
   "source": [
    "### NOTE: In the Section 6.3 below, a problem was encountered where \"departureDelays_original\" date column consists of integers and this is needed to be converted to strings for the purpose of using a user defined function to convert the time format.  \n",
    "\n",
    "## 5.1 Fix the Date Column: from Integer to String."
   ]
  },
  {
   "cell_type": "code",
   "execution_count": 11,
   "metadata": {},
   "outputs": [
    {
     "data": {
      "application/vnd.jupyter.widget-view+json": {
       "model_id": "",
       "version_major": 2,
       "version_minor": 0
      },
      "text/plain": [
       "FloatProgress(value=0.0, bar_style='info', description='Progress:', layout=Layout(height='25px', width='50%'),…"
      ]
     },
     "metadata": {},
     "output_type": "display_data"
    }
   ],
   "source": [
    "departureDelays_original_str = departureDelays_original.withColumn(\"date\", departureDelays_original[\"date\"].cast(StringType()))"
   ]
  },
  {
   "cell_type": "code",
   "execution_count": 12,
   "metadata": {},
   "outputs": [
    {
     "data": {
      "application/vnd.jupyter.widget-view+json": {
       "model_id": "",
       "version_major": 2,
       "version_minor": 0
      },
      "text/plain": [
       "FloatProgress(value=0.0, bar_style='info', description='Progress:', layout=Layout(height='25px', width='50%'),…"
      ]
     },
     "metadata": {},
     "output_type": "display_data"
    },
    {
     "name": "stdout",
     "output_type": "stream",
     "text": [
      "root\n",
      " |-- date: string (nullable = true)\n",
      " |-- delay: integer (nullable = true)\n",
      " |-- distance: integer (nullable = true)\n",
      " |-- origin: string (nullable = true)\n",
      " |-- destination: string (nullable = true)"
     ]
    }
   ],
   "source": [
    "departureDelays_original_str.printSchema()"
   ]
  },
  {
   "cell_type": "code",
   "execution_count": 13,
   "metadata": {},
   "outputs": [
    {
     "data": {
      "application/vnd.jupyter.widget-view+json": {
       "model_id": "",
       "version_major": 2,
       "version_minor": 0
      },
      "text/plain": [
       "FloatProgress(value=0.0, bar_style='info', description='Progress:', layout=Layout(height='25px', width='50%'),…"
      ]
     },
     "metadata": {},
     "output_type": "display_data"
    },
    {
     "name": "stdout",
     "output_type": "stream",
     "text": [
      "+-------+-----+--------+------+-----------+\n",
      "|   date|delay|distance|origin|destination|\n",
      "+-------+-----+--------+------+-----------+\n",
      "|1011245|    6|     602|   ABE|        ATL|\n",
      "|1020600|   -8|     369|   ABE|        DTW|\n",
      "|1021245|   -2|     602|   ABE|        ATL|\n",
      "|1020605|   -4|     602|   ABE|        ATL|\n",
      "|1031245|   -4|     602|   ABE|        ATL|\n",
      "|1030605|    0|     602|   ABE|        ATL|\n",
      "|1041243|   10|     602|   ABE|        ATL|\n",
      "|1040605|   28|     602|   ABE|        ATL|\n",
      "|1051245|   88|     602|   ABE|        ATL|\n",
      "|1050605|    9|     602|   ABE|        ATL|\n",
      "|1061215|   -6|     602|   ABE|        ATL|\n",
      "|1061725|   69|     602|   ABE|        ATL|\n",
      "|1061230|    0|     369|   ABE|        DTW|\n",
      "|1060625|   -3|     602|   ABE|        ATL|\n",
      "|1070600|    0|     369|   ABE|        DTW|\n",
      "|1071725|    0|     602|   ABE|        ATL|\n",
      "|1071230|    0|     369|   ABE|        DTW|\n",
      "|1070625|    0|     602|   ABE|        ATL|\n",
      "|1071219|    0|     569|   ABE|        ORD|\n",
      "|1080600|    0|     369|   ABE|        DTW|\n",
      "+-------+-----+--------+------+-----------+\n",
      "only showing top 20 rows"
     ]
    }
   ],
   "source": [
    "# Inspect:\n",
    "departureDelays_original_str.show()"
   ]
  },
  {
   "cell_type": "markdown",
   "metadata": {},
   "source": [
    "## 6 Data Pre-processing:\n",
    "\n",
    "This stage is set to clean the datasets, where it should only include airport codes that are available within the flight data. This means that any airports that does not exist in the DepartureDelays.csv file are excluded.\n",
    "\n",
    "The following code blocks are to filter out the data to build a \"airports\" DataFrame consisting of only vertices and edges, to be used with GraphFrames.\n",
    "\n",
    "## 6.1 Extract the Relevant Airport codes: from departureDelays_original\n",
    "\n",
    "This section will save the airport codes (IATA column of airports_original) from airports_original dataset that coincides with airports that exists in departureDelays_original dataset."
   ]
  },
  {
   "cell_type": "code",
   "execution_count": 14,
   "metadata": {},
   "outputs": [
    {
     "data": {
      "application/vnd.jupyter.widget-view+json": {
       "model_id": "",
       "version_major": 2,
       "version_minor": 0
      },
      "text/plain": [
       "FloatProgress(value=0.0, bar_style='info', description='Progress:', layout=Layout(height='25px', width='50%'),…"
      ]
     },
     "metadata": {},
     "output_type": "display_data"
    }
   ],
   "source": [
    "# Take available IATA codes from the departureDelays_original sample dataset:\n",
    "iata = spark.sql(\"\"\"\n",
    "    SELECT DISTINCT iata FROM (SELECT DISTINCT origin AS iata FROM departureDelays_original\n",
    "                                UNION ALL\n",
    "                                SELECT DISTINCT destination AS iata FROM departureDelays_original) AS a\n",
    "\"\"\")\n",
    "\n",
    "iata.createOrReplaceTempView(\"iata\")"
   ]
  },
  {
   "cell_type": "code",
   "execution_count": 15,
   "metadata": {},
   "outputs": [
    {
     "data": {
      "application/vnd.jupyter.widget-view+json": {
       "model_id": "",
       "version_major": 2,
       "version_minor": 0
      },
      "text/plain": [
       "FloatProgress(value=0.0, bar_style='info', description='Progress:', layout=Layout(height='25px', width='50%'),…"
      ]
     },
     "metadata": {},
     "output_type": "display_data"
    },
    {
     "name": "stdout",
     "output_type": "stream",
     "text": [
      "+----+\n",
      "|iata|\n",
      "+----+\n",
      "| PSE|\n",
      "| INL|\n",
      "| MSY|\n",
      "| PPG|\n",
      "| GEG|\n",
      "| BUR|\n",
      "| SNA|\n",
      "| GRB|\n",
      "| GTF|\n",
      "| IDA|\n",
      "| GRR|\n",
      "| JLN|\n",
      "| EUG|\n",
      "| PSG|\n",
      "| GSO|\n",
      "| MYR|\n",
      "| PVD|\n",
      "| OAK|\n",
      "| BTM|\n",
      "| COD|\n",
      "+----+\n",
      "only showing top 20 rows"
     ]
    }
   ],
   "source": [
    "# Inspect:\n",
    "iata.show()"
   ]
  },
  {
   "cell_type": "markdown",
   "metadata": {},
   "source": [
    "## 6.2 Join the \"iata\" and \"airports_original\" DataFrames:\n",
    "\n",
    "This section will create a new DataFrame called \"airports_df\" that consists of a join between \"iata\" and \"airports_original\" DataFrames. "
   ]
  },
  {
   "cell_type": "code",
   "execution_count": 16,
   "metadata": {},
   "outputs": [
    {
     "data": {
      "application/vnd.jupyter.widget-view+json": {
       "model_id": "",
       "version_major": 2,
       "version_minor": 0
      },
      "text/plain": [
       "FloatProgress(value=0.0, bar_style='info', description='Progress:', layout=Layout(height='25px', width='50%'),…"
      ]
     },
     "metadata": {},
     "output_type": "display_data"
    },
    {
     "name": "stdout",
     "output_type": "stream",
     "text": [
      "DataFrame[IATA: string, City: string, State: string, Country: string]"
     ]
    }
   ],
   "source": [
    "# Extract airports that has >1 trip from the departureDelays_original dataset:\n",
    "airports = sqlContext.sql(\"\"\"\n",
    "    SELECT f.IATA,\n",
    "    f.City,\n",
    "    f.State,\n",
    "    f.Country\n",
    "    FROM airports_original AS f\n",
    "    JOIN iata AS t\n",
    "        ON t.IATA = f.IATA\n",
    "\"\"\")\n",
    "\n",
    "# Register DataFrame as Temporary table for use of SQL query:\n",
    "airports.registerTempTable(\"airports\")\n",
    "airports.cache()"
   ]
  },
  {
   "cell_type": "code",
   "execution_count": 17,
   "metadata": {},
   "outputs": [
    {
     "data": {
      "application/vnd.jupyter.widget-view+json": {
       "model_id": "",
       "version_major": 2,
       "version_minor": 0
      },
      "text/plain": [
       "FloatProgress(value=0.0, bar_style='info', description='Progress:', layout=Layout(height='25px', width='50%'),…"
      ]
     },
     "metadata": {},
     "output_type": "display_data"
    },
    {
     "name": "stdout",
     "output_type": "stream",
     "text": [
      "+----+-------------------+-----+-------+\n",
      "|IATA|               City|State|Country|\n",
      "+----+-------------------+-----+-------+\n",
      "| INL|International Falls|   MN|    USA|\n",
      "| MSY|        New Orleans|   LA|    USA|\n",
      "| GEG|            Spokane|   WA|    USA|\n",
      "| BUR|            Burbank|   CA|    USA|\n",
      "| SNA|      Orange County|   CA|    USA|\n",
      "| GRB|          Green Bay|   WI|    USA|\n",
      "| GTF|        Great Falls|   MT|    USA|\n",
      "| IDA|        Idaho Falls|   ID|    USA|\n",
      "| GRR|       Grand Rapids|   MI|    USA|\n",
      "| JLN|             Joplin|   MO|    USA|\n",
      "| EUG|             Eugene|   OR|    USA|\n",
      "| GSO|         Greensboro|   NC|    USA|\n",
      "| MYR|       Myrtle Beach|   SC|    USA|\n",
      "| PVD|         Providence|   RI|    USA|\n",
      "| OAK|            Oakland|   CA|    USA|\n",
      "| BTM|              Butte|   MT|    USA|\n",
      "| COD|               Cody|   WY|    USA|\n",
      "| FAR|              Fargo|   ND|    USA|\n",
      "| FSM|         Fort Smith|   AR|    USA|\n",
      "| MQT|          Marquette|   MI|    USA|\n",
      "+----+-------------------+-----+-------+\n",
      "only showing top 20 rows"
     ]
    }
   ],
   "source": [
    "# Inspect:\n",
    "airports.show()"
   ]
  },
  {
   "cell_type": "markdown",
   "metadata": {},
   "source": [
    "## 6.3 Additional Optimisations:\n",
    "\n",
    "The purpose of this stage is to create another DataFrame with further optimisations and it will be called \"departureDelays_GEO\". This will pack in the following optimisations for Graphing later on:\n",
    "\n",
    "- Create a \"tripid\" column -> To identify each trip taken uniquely. This is done by converting the date into a integer column.\n",
    "- Create a \"data\" column -> Here, the date format is MMYYHHmm and this will be processed to apply a \"udf\" format conversion first and then converted once more into the correct timestamp format.\n",
    "- Conver the \"delay\" and \"distance\" columns -> Recast these columns that consist of integer values into strings.\n",
    "- For Graphing purposes, the airport codes (that is the \"iata\" column) will be used as the vertex while the edges required the \"IATA codes\" for the originating airport and destination airports to be specified. This can be done with a \"join\" statement and the renaming of \"f.origin\" to be \"src\" coupled with \"f.destination\" to be \"dst\"."
   ]
  },
  {
   "cell_type": "code",
   "execution_count": 18,
   "metadata": {},
   "outputs": [
    {
     "data": {
      "application/vnd.jupyter.widget-view+json": {
       "model_id": "",
       "version_major": 2,
       "version_minor": 0
      },
      "text/plain": [
       "FloatProgress(value=0.0, bar_style='info', description='Progress:', layout=Layout(height='25px', width='50%'),…"
      ]
     },
     "metadata": {},
     "output_type": "display_data"
    }
   ],
   "source": [
    "# Import the required libraries:\n",
    "import pyspark.sql.functions as f\n",
    "import pyspark.sql.types as t"
   ]
  },
  {
   "cell_type": "markdown",
   "metadata": {},
   "source": [
    "### Specify a User Defined Function to convert the date formats:\n",
    "\n",
    "The Date column shows the following \"1011245\" which will need to be converted into \"2014-01-01T12:45:00.000+0000\"\n",
    "or \"3050727\" to be converted into \"2014-03-05T07:25:00.000+0000\" format. To do this, a function is created.\n",
    "\n",
    "#### Test the output format with sample of the data from the date column:"
   ]
  },
  {
   "cell_type": "code",
   "execution_count": 19,
   "metadata": {},
   "outputs": [
    {
     "data": {
      "application/vnd.jupyter.widget-view+json": {
       "model_id": "",
       "version_major": 2,
       "version_minor": 0
      },
      "text/plain": [
       "FloatProgress(value=0.0, bar_style='info', description='Progress:', layout=Layout(height='25px', width='50%'),…"
      ]
     },
     "metadata": {},
     "output_type": "display_data"
    }
   ],
   "source": [
    "badDate = '1011245'\n",
    "badDate1 = '3050727'"
   ]
  },
  {
   "cell_type": "code",
   "execution_count": 20,
   "metadata": {},
   "outputs": [
    {
     "data": {
      "application/vnd.jupyter.widget-view+json": {
       "model_id": "",
       "version_major": 2,
       "version_minor": 0
      },
      "text/plain": [
       "FloatProgress(value=0.0, bar_style='info', description='Progress:', layout=Layout(height='25px', width='50%'),…"
      ]
     },
     "metadata": {},
     "output_type": "display_data"
    }
   ],
   "source": [
    "@f.udf\n",
    "\n",
    "def toDate_testing(badDate):\n",
    "    year = '2014-'\n",
    "    month = badDate[0:1] + '-'\n",
    "    day = badDate[1:3] + ' '\n",
    "    hour = badDate[3:5] + ':'\n",
    "    minute = badDate[5:7] + ':00'\n",
    "    \n",
    "    return year + month + day + hour + minute"
   ]
  },
  {
   "cell_type": "code",
   "execution_count": 21,
   "metadata": {},
   "outputs": [
    {
     "data": {
      "application/vnd.jupyter.widget-view+json": {
       "model_id": "",
       "version_major": 2,
       "version_minor": 0
      },
      "text/plain": [
       "FloatProgress(value=0.0, bar_style='info', description='Progress:', layout=Layout(height='25px', width='50%'),…"
      ]
     },
     "metadata": {},
     "output_type": "display_data"
    },
    {
     "name": "stdout",
     "output_type": "stream",
     "text": [
      "Column<b'toDate_testing(1011245)'>"
     ]
    }
   ],
   "source": [
    "badDate_fixed = toDate_testing(badDate)\n",
    "badDate_fixed"
   ]
  },
  {
   "cell_type": "code",
   "execution_count": 22,
   "metadata": {},
   "outputs": [
    {
     "data": {
      "application/vnd.jupyter.widget-view+json": {
       "model_id": "",
       "version_major": 2,
       "version_minor": 0
      },
      "text/plain": [
       "FloatProgress(value=0.0, bar_style='info', description='Progress:', layout=Layout(height='25px', width='50%'),…"
      ]
     },
     "metadata": {},
     "output_type": "display_data"
    },
    {
     "name": "stdout",
     "output_type": "stream",
     "text": [
      "Column<b'toDate_testing(3050727)'>"
     ]
    }
   ],
   "source": [
    "badDate_fixed = toDate_testing(badDate1)\n",
    "badDate_fixed"
   ]
  },
  {
   "cell_type": "markdown",
   "metadata": {},
   "source": [
    "#### Implement the function (udf): uses the \"departureDelays_original_str\" dataFrame and not the original."
   ]
  },
  {
   "cell_type": "code",
   "execution_count": 23,
   "metadata": {},
   "outputs": [
    {
     "data": {
      "application/vnd.jupyter.widget-view+json": {
       "model_id": "",
       "version_major": 2,
       "version_minor": 0
      },
      "text/plain": [
       "FloatProgress(value=0.0, bar_style='info', description='Progress:', layout=Layout(height='25px', width='50%'),…"
      ]
     },
     "metadata": {},
     "output_type": "display_data"
    }
   ],
   "source": [
    "@f.udf\n",
    "\n",
    "def toDate(badDate_format):\n",
    "    year = '2014-'\n",
    "    month = str(badDate_format[0:1]) + '-'\n",
    "    day = str(badDate_format[1:3]) + ' '\n",
    "    hour = str(badDate_format[3:5]) + ':'\n",
    "    minute = str(badDate_format[5:7]) + ':00'\n",
    "    \n",
    "    return year + month + day + hour + minute"
   ]
  },
  {
   "cell_type": "code",
   "execution_count": 24,
   "metadata": {},
   "outputs": [
    {
     "data": {
      "application/vnd.jupyter.widget-view+json": {
       "model_id": "",
       "version_major": 2,
       "version_minor": 0
      },
      "text/plain": [
       "FloatProgress(value=0.0, bar_style='info', description='Progress:', layout=Layout(height='25px', width='50%'),…"
      ]
     },
     "metadata": {},
     "output_type": "display_data"
    }
   ],
   "source": [
    "# Apply the above function on the dataset:\n",
    "departureDelays_original_str = departureDelays_original_str.withColumn('normalDate', toDate(departureDelays_original_str.date))\n",
    "\n",
    "# Store a temporary Spark DF for Query:\n",
    "departureDelays_original_str.createOrReplaceTempView(\"departureDelays_original_str\")"
   ]
  },
  {
   "cell_type": "code",
   "execution_count": 25,
   "metadata": {},
   "outputs": [
    {
     "data": {
      "application/vnd.jupyter.widget-view+json": {
       "model_id": "",
       "version_major": 2,
       "version_minor": 0
      },
      "text/plain": [
       "FloatProgress(value=0.0, bar_style='info', description='Progress:', layout=Layout(height='25px', width='50%'),…"
      ]
     },
     "metadata": {},
     "output_type": "display_data"
    },
    {
     "name": "stdout",
     "output_type": "stream",
     "text": [
      "+-------+-----+--------+------+-----------+------------------+\n",
      "|   date|delay|distance|origin|destination|        normalDate|\n",
      "+-------+-----+--------+------+-----------+------------------+\n",
      "|1011245|    6|     602|   ABE|        ATL|2014-1-01 12:45:00|\n",
      "|1020600|   -8|     369|   ABE|        DTW|2014-1-02 06:00:00|\n",
      "|1021245|   -2|     602|   ABE|        ATL|2014-1-02 12:45:00|\n",
      "|1020605|   -4|     602|   ABE|        ATL|2014-1-02 06:05:00|\n",
      "|1031245|   -4|     602|   ABE|        ATL|2014-1-03 12:45:00|\n",
      "|1030605|    0|     602|   ABE|        ATL|2014-1-03 06:05:00|\n",
      "|1041243|   10|     602|   ABE|        ATL|2014-1-04 12:43:00|\n",
      "|1040605|   28|     602|   ABE|        ATL|2014-1-04 06:05:00|\n",
      "|1051245|   88|     602|   ABE|        ATL|2014-1-05 12:45:00|\n",
      "|1050605|    9|     602|   ABE|        ATL|2014-1-05 06:05:00|\n",
      "|1061215|   -6|     602|   ABE|        ATL|2014-1-06 12:15:00|\n",
      "|1061725|   69|     602|   ABE|        ATL|2014-1-06 17:25:00|\n",
      "|1061230|    0|     369|   ABE|        DTW|2014-1-06 12:30:00|\n",
      "|1060625|   -3|     602|   ABE|        ATL|2014-1-06 06:25:00|\n",
      "|1070600|    0|     369|   ABE|        DTW|2014-1-07 06:00:00|\n",
      "|1071725|    0|     602|   ABE|        ATL|2014-1-07 17:25:00|\n",
      "|1071230|    0|     369|   ABE|        DTW|2014-1-07 12:30:00|\n",
      "|1070625|    0|     602|   ABE|        ATL|2014-1-07 06:25:00|\n",
      "|1071219|    0|     569|   ABE|        ORD|2014-1-07 12:19:00|\n",
      "|1080600|    0|     369|   ABE|        DTW|2014-1-08 06:00:00|\n",
      "+-------+-----+--------+------+-----------+------------------+\n",
      "only showing top 20 rows"
     ]
    }
   ],
   "source": [
    "# Inspect:\n",
    "departureDelays_original_str.show()"
   ]
  },
  {
   "cell_type": "markdown",
   "metadata": {},
   "source": [
    "### After the Date format has been fixed, Extract the key attributes of the flight data:"
   ]
  },
  {
   "cell_type": "code",
   "execution_count": 26,
   "metadata": {},
   "outputs": [
    {
     "data": {
      "application/vnd.jupyter.widget-view+json": {
       "model_id": "",
       "version_major": 2,
       "version_minor": 0
      },
      "text/plain": [
       "FloatProgress(value=0.0, bar_style='info', description='Progress:', layout=Layout(height='25px', width='50%'),…"
      ]
     },
     "metadata": {},
     "output_type": "display_data"
    },
    {
     "name": "stdout",
     "output_type": "stream",
     "text": [
      "1361141"
     ]
    }
   ],
   "source": [
    "# Obtain the key attributes of a flight: creates the dataFrame \"departureDelays_GEO\"\n",
    "# Attirbutes are  Date of flight, delays, distance, and airport information (Origin, Destination).\n",
    "\n",
    "departureDelays_GEO = spark.sql(\"\"\"\n",
    "    SELECT cast(f.date as int) AS tripid,\n",
    "    cast(f.normalDate as timestamp) AS `localdate`,\n",
    "    cast(f.delay as int),\n",
    "    cast(f.distance as int),\n",
    "    f.origin AS src,\n",
    "    f.destination AS dst,\n",
    "    o.city AS city_src,\n",
    "    d.city AS city_dst,\n",
    "    o.state AS state_src,\n",
    "    d.state AS state_dst\n",
    "    FROM departureDelays_original_str AS f \n",
    "    JOIN airports AS o\n",
    "    ON o.iata = f.origin\n",
    "    JOIN airports AS d\n",
    "    ON d.iata = f.destination\n",
    "\"\"\")\n",
    "\n",
    "# Store a temporary Spark DF for Query:\n",
    "departureDelays_GEO.createOrReplaceTempView('departureDelays_GEO')\n",
    "\n",
    "# Cache the DF and Count:\n",
    "departureDelays_GEO.cache()\n",
    "departureDelays_GEO.count()"
   ]
  },
  {
   "cell_type": "code",
   "execution_count": 27,
   "metadata": {},
   "outputs": [
    {
     "data": {
      "application/vnd.jupyter.widget-view+json": {
       "model_id": "",
       "version_major": 2,
       "version_minor": 0
      },
      "text/plain": [
       "FloatProgress(value=0.0, bar_style='info', description='Progress:', layout=Layout(height='25px', width='50%'),…"
      ]
     },
     "metadata": {},
     "output_type": "display_data"
    },
    {
     "name": "stdout",
     "output_type": "stream",
     "text": [
      "+-------+-------------------+-----+--------+---+---+---------+--------+---------+---------+\n",
      "| tripid|          localdate|delay|distance|src|dst| city_src|city_dst|state_src|state_dst|\n",
      "+-------+-------------------+-----+--------+---+---+---------+--------+---------+---------+\n",
      "|1011245|2014-01-01 12:45:00|    6|     602|ABE|ATL|Allentown| Atlanta|       PA|       GA|\n",
      "|1020600|2014-01-02 06:00:00|   -8|     369|ABE|DTW|Allentown| Detroit|       PA|       MI|\n",
      "|1021245|2014-01-02 12:45:00|   -2|     602|ABE|ATL|Allentown| Atlanta|       PA|       GA|\n",
      "|1020605|2014-01-02 06:05:00|   -4|     602|ABE|ATL|Allentown| Atlanta|       PA|       GA|\n",
      "|1031245|2014-01-03 12:45:00|   -4|     602|ABE|ATL|Allentown| Atlanta|       PA|       GA|\n",
      "|1030605|2014-01-03 06:05:00|    0|     602|ABE|ATL|Allentown| Atlanta|       PA|       GA|\n",
      "|1041243|2014-01-04 12:43:00|   10|     602|ABE|ATL|Allentown| Atlanta|       PA|       GA|\n",
      "|1040605|2014-01-04 06:05:00|   28|     602|ABE|ATL|Allentown| Atlanta|       PA|       GA|\n",
      "|1051245|2014-01-05 12:45:00|   88|     602|ABE|ATL|Allentown| Atlanta|       PA|       GA|\n",
      "|1050605|2014-01-05 06:05:00|    9|     602|ABE|ATL|Allentown| Atlanta|       PA|       GA|\n",
      "|1061215|2014-01-06 12:15:00|   -6|     602|ABE|ATL|Allentown| Atlanta|       PA|       GA|\n",
      "|1061725|2014-01-06 17:25:00|   69|     602|ABE|ATL|Allentown| Atlanta|       PA|       GA|\n",
      "|1061230|2014-01-06 12:30:00|    0|     369|ABE|DTW|Allentown| Detroit|       PA|       MI|\n",
      "|1060625|2014-01-06 06:25:00|   -3|     602|ABE|ATL|Allentown| Atlanta|       PA|       GA|\n",
      "|1070600|2014-01-07 06:00:00|    0|     369|ABE|DTW|Allentown| Detroit|       PA|       MI|\n",
      "|1071725|2014-01-07 17:25:00|    0|     602|ABE|ATL|Allentown| Atlanta|       PA|       GA|\n",
      "|1071230|2014-01-07 12:30:00|    0|     369|ABE|DTW|Allentown| Detroit|       PA|       MI|\n",
      "|1070625|2014-01-07 06:25:00|    0|     602|ABE|ATL|Allentown| Atlanta|       PA|       GA|\n",
      "|1071219|2014-01-07 12:19:00|    0|     569|ABE|ORD|Allentown| Chicago|       PA|       IL|\n",
      "|1080600|2014-01-08 06:00:00|    0|     369|ABE|DTW|Allentown| Detroit|       PA|       MI|\n",
      "+-------+-------------------+-----+--------+---+---+---------+--------+---------+---------+\n",
      "only showing top 20 rows"
     ]
    }
   ],
   "source": [
    "# Inspect:\n",
    "departureDelays_GEO.show()"
   ]
  },
  {
   "cell_type": "markdown",
   "metadata": {},
   "source": [
    "## 7 Building the Graph:\n",
    "\n",
    "Now that the DataFrames have been constructed, this section will proceed into building the graph itself.\n",
    "\n",
    "To do this:\n",
    "- Import the required libraries.\n",
    "- First, is to use the \"src\" and \"dst\" columns from \"\" dataset to create edges within GraphFrames.\n",
    "- Second, to rename the \"airports_original\" IATA column as \"id\" as this is a requirement for GraphFrames to identify vertices to be used.\n",
    "\n",
    "Overall, for the creation of the GraphFrame, it will look for these columns:\n",
    "- \"id\" column -> where it will identify the vertex (or node) and will join it to the \"src\" and \"dst\" columns. \n",
    "- \"src\" column -> would be the source of the vertex for the edges to be drawn.\n",
    "- \"dst\" column -> will be the destination of the vertex for the edges to be connected to. \n",
    "\n",
    "Also, it will inherently have performance optimisations as these were implemented with two dataFrames.\n",
    "\n",
    "### To run Graphframes or import the packages, the following \"sc.addPyFile\" must be included.\n",
    "\n",
    "If there is trouble getting GraphFrames to work, please review the GraphFrames installation included."
   ]
  },
  {
   "cell_type": "code",
   "execution_count": 28,
   "metadata": {},
   "outputs": [
    {
     "data": {
      "application/vnd.jupyter.widget-view+json": {
       "model_id": "",
       "version_major": 2,
       "version_minor": 0
      },
      "text/plain": [
       "FloatProgress(value=0.0, bar_style='info', description='Progress:', layout=Layout(height='25px', width='50%'),…"
      ]
     },
     "metadata": {},
     "output_type": "display_data"
    }
   ],
   "source": [
    "sc.addPyFile('/opt/spark/jars/graphframes_graphframes-0.7.0-spark2.4-s_2.11.jar')"
   ]
  },
  {
   "cell_type": "code",
   "execution_count": 29,
   "metadata": {},
   "outputs": [
    {
     "data": {
      "application/vnd.jupyter.widget-view+json": {
       "model_id": "",
       "version_major": 2,
       "version_minor": 0
      },
      "text/plain": [
       "FloatProgress(value=0.0, bar_style='info', description='Progress:', layout=Layout(height='25px', width='50%'),…"
      ]
     },
     "metadata": {},
     "output_type": "display_data"
    }
   ],
   "source": [
    "# Import the required libraries:\n",
    "from pyspark.sql.functions import *\n",
    "from graphframes import *"
   ]
  },
  {
   "cell_type": "markdown",
   "metadata": {},
   "source": [
    "## 7.1 Create the Vertices dataFrame: from \"airports_original\" dataframe."
   ]
  },
  {
   "cell_type": "code",
   "execution_count": 30,
   "metadata": {},
   "outputs": [
    {
     "data": {
      "application/vnd.jupyter.widget-view+json": {
       "model_id": "",
       "version_major": 2,
       "version_minor": 0
      },
      "text/plain": [
       "FloatProgress(value=0.0, bar_style='info', description='Progress:', layout=Layout(height='25px', width='50%'),…"
      ]
     },
     "metadata": {},
     "output_type": "display_data"
    },
    {
     "name": "stdout",
     "output_type": "stream",
     "text": [
      "DataFrame[City: string, State: string, Country: string, id: string]"
     ]
    }
   ],
   "source": [
    "# Create the vertices:\n",
    "vertices = airports_original.withColumnRenamed(\"IATA\", \"id\").distinct()\n",
    "\n",
    "# Cache it:\n",
    "vertices.cache()"
   ]
  },
  {
   "cell_type": "markdown",
   "metadata": {},
   "source": [
    "## 7.2 Create the Edges dataFrame: from \"departureDelays_GEO\" dataframe."
   ]
  },
  {
   "cell_type": "code",
   "execution_count": 31,
   "metadata": {},
   "outputs": [
    {
     "data": {
      "application/vnd.jupyter.widget-view+json": {
       "model_id": "",
       "version_major": 2,
       "version_minor": 0
      },
      "text/plain": [
       "FloatProgress(value=0.0, bar_style='info', description='Progress:', layout=Layout(height='25px', width='50%'),…"
      ]
     },
     "metadata": {},
     "output_type": "display_data"
    },
    {
     "name": "stdout",
     "output_type": "stream",
     "text": [
      "DataFrame[tripid: int, delay: int, src: string, dst: string, city_dst: string, state_dst: string]"
     ]
    }
   ],
   "source": [
    "# Create the edges:\n",
    "edges = departureDelays_GEO.select(\"tripid\", \"delay\", \"src\", \"dst\", \"city_dst\", \"state_dst\")\n",
    "\n",
    "# Cache it:\n",
    "edges.cache()"
   ]
  },
  {
   "cell_type": "markdown",
   "metadata": {},
   "source": [
    "## 7.3 Build the Graph:"
   ]
  },
  {
   "cell_type": "code",
   "execution_count": 32,
   "metadata": {},
   "outputs": [
    {
     "data": {
      "application/vnd.jupyter.widget-view+json": {
       "model_id": "",
       "version_major": 2,
       "version_minor": 0
      },
      "text/plain": [
       "FloatProgress(value=0.0, bar_style='info', description='Progress:', layout=Layout(height='25px', width='50%'),…"
      ]
     },
     "metadata": {},
     "output_type": "display_data"
    }
   ],
   "source": [
    "graph = GraphFrame(vertices, edges)"
   ]
  },
  {
   "cell_type": "markdown",
   "metadata": {},
   "source": [
    "## 7.4 Examine the two DataFrames (Vertices and Edges):"
   ]
  },
  {
   "cell_type": "code",
   "execution_count": 33,
   "metadata": {},
   "outputs": [
    {
     "data": {
      "application/vnd.jupyter.widget-view+json": {
       "model_id": "",
       "version_major": 2,
       "version_minor": 0
      },
      "text/plain": [
       "FloatProgress(value=0.0, bar_style='info', description='Progress:', layout=Layout(height='25px', width='50%'),…"
      ]
     },
     "metadata": {},
     "output_type": "display_data"
    },
    {
     "name": "stdout",
     "output_type": "stream",
     "text": [
      "+--------------+-------+-------+---+\n",
      "|          City|  State|Country| id|\n",
      "+--------------+-------+-------+---+\n",
      "|    Clarksburg|     WV|    USA|CKB|\n",
      "|    Fort Dodge|     IA|    USA|FOD|\n",
      "|       Redmond|     OR|    USA|RDM|\n",
      "|        Valdez|     AK|    USA|VDZ|\n",
      "|       Lebanon|     NH|    USA|LEB|\n",
      "|         Aspen|     CO|    USA|ASE|\n",
      "| Rouyn-Noranda|     PQ| Canada|YUY|\n",
      "|       Iqaluit|Nunavut| Canada|YFB|\n",
      "|       Toronto|     ON| Canada|YYZ|\n",
      "|    Dillingham|     AK|    USA|DLG|\n",
      "|   Fort Nelson|     BC| Canada|YYE|\n",
      "|      Pellston|     MI|    USA|PLN|\n",
      "|     St. Cloud|     MN|    USA|STC|\n",
      "|St. Petersburg|     FL|    USA|PIE|\n",
      "|    Great Bend|     KS|    USA|GBD|\n",
      "|          Hilo|     HI|    USA|Big|\n",
      "|       Kelowna|     BC| Canada|YLW|\n",
      "|       Bemidji|     MN|    USA|BJI|\n",
      "|        London|     ON| Canada|YXU|\n",
      "|      Longview|     TX|    USA|GGG|\n",
      "+--------------+-------+-------+---+\n",
      "only showing top 20 rows"
     ]
    }
   ],
   "source": [
    "# Vertices:\n",
    "vertices.show()"
   ]
  },
  {
   "cell_type": "code",
   "execution_count": 34,
   "metadata": {},
   "outputs": [
    {
     "data": {
      "application/vnd.jupyter.widget-view+json": {
       "model_id": "",
       "version_major": 2,
       "version_minor": 0
      },
      "text/plain": [
       "FloatProgress(value=0.0, bar_style='info', description='Progress:', layout=Layout(height='25px', width='50%'),…"
      ]
     },
     "metadata": {},
     "output_type": "display_data"
    },
    {
     "name": "stdout",
     "output_type": "stream",
     "text": [
      "+-------+-----+---+---+--------+---------+\n",
      "| tripid|delay|src|dst|city_dst|state_dst|\n",
      "+-------+-----+---+---+--------+---------+\n",
      "|1011245|    6|ABE|ATL| Atlanta|       GA|\n",
      "|1020600|   -8|ABE|DTW| Detroit|       MI|\n",
      "|1021245|   -2|ABE|ATL| Atlanta|       GA|\n",
      "|1020605|   -4|ABE|ATL| Atlanta|       GA|\n",
      "|1031245|   -4|ABE|ATL| Atlanta|       GA|\n",
      "|1030605|    0|ABE|ATL| Atlanta|       GA|\n",
      "|1041243|   10|ABE|ATL| Atlanta|       GA|\n",
      "|1040605|   28|ABE|ATL| Atlanta|       GA|\n",
      "|1051245|   88|ABE|ATL| Atlanta|       GA|\n",
      "|1050605|    9|ABE|ATL| Atlanta|       GA|\n",
      "|1061215|   -6|ABE|ATL| Atlanta|       GA|\n",
      "|1061725|   69|ABE|ATL| Atlanta|       GA|\n",
      "|1061230|    0|ABE|DTW| Detroit|       MI|\n",
      "|1060625|   -3|ABE|ATL| Atlanta|       GA|\n",
      "|1070600|    0|ABE|DTW| Detroit|       MI|\n",
      "|1071725|    0|ABE|ATL| Atlanta|       GA|\n",
      "|1071230|    0|ABE|DTW| Detroit|       MI|\n",
      "|1070625|    0|ABE|ATL| Atlanta|       GA|\n",
      "|1071219|    0|ABE|ORD| Chicago|       IL|\n",
      "|1080600|    0|ABE|DTW| Detroit|       MI|\n",
      "+-------+-----+---+---+--------+---------+\n",
      "only showing top 20 rows"
     ]
    }
   ],
   "source": [
    "# Edges:\n",
    "edges.show()"
   ]
  },
  {
   "cell_type": "markdown",
   "metadata": {},
   "source": [
    "## 8 Running Queries against the Graph:\n",
    "\n",
    "With the graph created from calling the GraphFrames() function in the previous section, it is also possible to run some queries against the GraphFrame. This section will explore how this can be done. \n",
    "\n",
    "## 8.1 Query: Determine the number of airports."
   ]
  },
  {
   "cell_type": "code",
   "execution_count": 45,
   "metadata": {},
   "outputs": [
    {
     "data": {
      "application/vnd.jupyter.widget-view+json": {
       "model_id": "",
       "version_major": 2,
       "version_minor": 0
      },
      "text/plain": [
       "FloatProgress(value=0.0, bar_style='info', description='Progress:', layout=Layout(height='25px', width='50%'),…"
      ]
     },
     "metadata": {},
     "output_type": "display_data"
    },
    {
     "name": "stdout",
     "output_type": "stream",
     "text": [
      "Airports count: 526"
     ]
    }
   ],
   "source": [
    "print(\"Airports count: {}\".format(graph.vertices.count()))"
   ]
  },
  {
   "cell_type": "markdown",
   "metadata": {},
   "source": [
    "## 8.2 Query: Determine the number of fligths."
   ]
  },
  {
   "cell_type": "code",
   "execution_count": 44,
   "metadata": {},
   "outputs": [
    {
     "data": {
      "application/vnd.jupyter.widget-view+json": {
       "model_id": "",
       "version_major": 2,
       "version_minor": 0
      },
      "text/plain": [
       "FloatProgress(value=0.0, bar_style='info', description='Progress:', layout=Layout(height='25px', width='50%'),…"
      ]
     },
     "metadata": {},
     "output_type": "display_data"
    },
    {
     "name": "stdout",
     "output_type": "stream",
     "text": [
      "Trips count: 1361141"
     ]
    }
   ],
   "source": [
    "print(\"Trips count: {}\".format(graph.edges.count()))"
   ]
  },
  {
   "cell_type": "markdown",
   "metadata": {},
   "source": [
    "## 8.3 Query: Determine the number of flights that are delayed.\n",
    "\n",
    "Here it is possible to use \"filter\" and \"groupBy\" clauses to obtain the data needed.\n",
    "\n",
    "As the __Edges__ DataFrames has a \"delay\" column, for flights that are on-time, the filter can be set to \"delay <=0\", where as for delayed flights, the filter can be set to \"delay > 0\" "
   ]
  },
  {
   "cell_type": "code",
   "execution_count": 48,
   "metadata": {},
   "outputs": [
    {
     "data": {
      "application/vnd.jupyter.widget-view+json": {
       "model_id": "",
       "version_major": 2,
       "version_minor": 0
      },
      "text/plain": [
       "FloatProgress(value=0.0, bar_style='info', description='Progress:', layout=Layout(height='25px', width='50%'),…"
      ]
     },
     "metadata": {},
     "output_type": "display_data"
    },
    {
     "name": "stdout",
     "output_type": "stream",
     "text": [
      "Flights that are on-time: 780469"
     ]
    }
   ],
   "source": [
    "print(\"Flights that are on-time: {}\".format(\n",
    "    graph.edges.filter(\"delay <= 0 \").count()\n",
    "    )\n",
    ")"
   ]
  },
  {
   "cell_type": "code",
   "execution_count": 49,
   "metadata": {},
   "outputs": [
    {
     "data": {
      "application/vnd.jupyter.widget-view+json": {
       "model_id": "",
       "version_major": 2,
       "version_minor": 0
      },
      "text/plain": [
       "FloatProgress(value=0.0, bar_style='info', description='Progress:', layout=Layout(height='25px', width='50%'),…"
      ]
     },
     "metadata": {},
     "output_type": "display_data"
    },
    {
     "name": "stdout",
     "output_type": "stream",
     "text": [
      "Flights that are delayed: 580672"
     ]
    }
   ],
   "source": [
    "print(\"Flights that are delayed: {}\".format(\n",
    "    graph.edges.filter(\"delay > 0 \").count()\n",
    "    )\n",
    ")"
   ]
  },
  {
   "cell_type": "markdown",
   "metadata": {},
   "source": [
    "## 8.4 Query: Determine the number of flights that are delayed, but from San Francisco.\n",
    "\n",
    "For this job, there are more filter requirements where it involves the \"src\" column and also to rearrange the average delay in descending order."
   ]
  },
  {
   "cell_type": "code",
   "execution_count": 50,
   "metadata": {},
   "outputs": [
    {
     "data": {
      "application/vnd.jupyter.widget-view+json": {
       "model_id": "",
       "version_major": 2,
       "version_minor": 0
      },
      "text/plain": [
       "FloatProgress(value=0.0, bar_style='info', description='Progress:', layout=Layout(height='25px', width='50%'),…"
      ]
     },
     "metadata": {},
     "output_type": "display_data"
    },
    {
     "name": "stdout",
     "output_type": "stream",
     "text": [
      "+---+---+------------------+\n",
      "|src|dst|        avg(delay)|\n",
      "+---+---+------------------+\n",
      "|SFO|OKC|59.073170731707314|\n",
      "|SFO|JAC| 57.13333333333333|\n",
      "|SFO|COS|53.976190476190474|\n",
      "|SFO|OTH| 48.09090909090909|\n",
      "|SFO|SAT|            47.625|\n",
      "|SFO|MOD| 46.80952380952381|\n",
      "|SFO|SUN|46.723404255319146|\n",
      "|SFO|CIC| 46.72164948453608|\n",
      "|SFO|ABQ|           44.8125|\n",
      "|SFO|ASE|44.285714285714285|\n",
      "|SFO|PIT|            43.875|\n",
      "|SFO|MIA| 43.81730769230769|\n",
      "|SFO|FAT| 43.23972602739726|\n",
      "|SFO|MFR| 43.11848341232228|\n",
      "|SFO|SBP| 43.09770114942529|\n",
      "|SFO|MSP|42.766917293233085|\n",
      "|SFO|BOI| 42.65482233502538|\n",
      "|SFO|RDM| 41.98823529411764|\n",
      "|SFO|AUS|41.690677966101696|\n",
      "|SFO|SLC|41.407272727272726|\n",
      "+---+---+------------------+\n",
      "only showing top 20 rows"
     ]
    }
   ],
   "source": [
    "SanFranc_delays = (\n",
    "    graph.edges\n",
    "    .filter(\"src = 'SFO' AND delay > 0\")\n",
    "    .groupBy(\"src\", \"dst\")\n",
    "    .avg(\"delay\")\n",
    "    .sort(desc(\"avg(delay)\"))\n",
    ")\n",
    "\n",
    "# Inspect:\n",
    "SanFranc_delays.show()"
   ]
  },
  {
   "cell_type": "markdown",
   "metadata": {},
   "source": [
    "## 9 Understanding the Graph\n",
    "\n",
    "__Motifs__ can be used to discover patterns of different airports that are connected by its flights, this helps to explain the complex relationship of city airports and its flights.\n",
    "\n",
    "To do this:\n",
    "- It begins with a query, this will define the Motif by establishing that it is the relationship between vertices (a), (b) and (c) that are of interest. Specifically, the edges between the two vertices (a) and (b) as [ab], and that (b) and (c) as [bc].\n",
    "- For example, to determine all the flights between 2 different cities, where LA is the lay over city. This means that it can be Seattle to LA (layover) then towards New York. Or Portland to LA (layover) towards Atlanta. In more detail:\n",
    "    - (b) is LA\n",
    "    - (a) is the originating city such as Seattle or Portland.\n",
    "    - [ab] represents Seattle/Portland to LA (layover).\n",
    "    - (c) is the destination city such as New York or Atlanta.\n",
    "    - [bc] is LA (layover) to New York/Atlanta.\n",
    "- In the code below, \"b.id = 'SFO\" is used to specify that San Francisco as the layover city.\n",
    "- Also, trips between the originating city (a) and the layover city (b) have a delay greater than 500 minutes.\n",
    "- Next, \"bc.tripid > ab.tripid\" and \"bc.tripid < ab.tripid + 10000\" are used to specify that the second leg of the trip have to occur after the first leg of the trip has completed."
   ]
  },
  {
   "cell_type": "code",
   "execution_count": 52,
   "metadata": {},
   "outputs": [
    {
     "data": {
      "application/vnd.jupyter.widget-view+json": {
       "model_id": "",
       "version_major": 2,
       "version_minor": 0
      },
      "text/plain": [
       "FloatProgress(value=0.0, bar_style='info', description='Progress:', layout=Layout(height='25px', width='50%'),…"
      ]
     },
     "metadata": {},
     "output_type": "display_data"
    }
   ],
   "source": [
    "# Make a Subset of the Graph:\n",
    "edges_subset = departureDelays_GEO.select(\"tripid\", \"delay\", \"src\", \"dst\")\n",
    "graphSmall = GraphFrame(vertices, edges_subset)"
   ]
  },
  {
   "cell_type": "code",
   "execution_count": 53,
   "metadata": {},
   "outputs": [
    {
     "data": {
      "application/vnd.jupyter.widget-view+json": {
       "model_id": "",
       "version_major": 2,
       "version_minor": 0
      },
      "text/plain": [
       "FloatProgress(value=0.0, bar_style='info', description='Progress:', layout=Layout(height='25px', width='50%'),…"
      ]
     },
     "metadata": {},
     "output_type": "display_data"
    },
    {
     "name": "stdout",
     "output_type": "stream",
     "text": [
      "+--------------------+--------------------+--------------------+--------------------+--------------------+\n",
      "|                   a|                  ab|                   b|                  bc|                   c|\n",
      "+--------------------+--------------------+--------------------+--------------------+--------------------+\n",
      "|[Albuquerque, NM,...|[1020600, 0, ABQ,...|[San Francisco, C...|[1021507, 536, SF...|[New York, NY, US...|\n",
      "|[Albuquerque, NM,...|[1210815, -12, AB...|[San Francisco, C...|[1211508, 593, SF...|[New York, NY, US...|\n",
      "|[Eureka, CA, USA,...|[1011635, -15, AC...|[San Francisco, C...|[1021507, 536, SF...|[New York, NY, US...|\n",
      "|[Eureka, CA, USA,...|[1012016, -4, ACV...|[San Francisco, C...|[1021507, 536, SF...|[New York, NY, US...|\n",
      "|[Eureka, CA, USA,...|[1020531, -2, ACV...|[San Francisco, C...|[1021507, 536, SF...|[New York, NY, US...|\n",
      "|[Eureka, CA, USA,...|[1020948, -11, AC...|[San Francisco, C...|[1021507, 536, SF...|[New York, NY, US...|\n",
      "|[Eureka, CA, USA,...|[1021506, -3, ACV...|[San Francisco, C...|[1021507, 536, SF...|[New York, NY, US...|\n",
      "|[Eureka, CA, USA,...|[1021318, -9, ACV...|[San Francisco, C...|[1021507, 536, SF...|[New York, NY, US...|\n",
      "|[Eureka, CA, USA,...|[1020837, 12, ACV...|[San Francisco, C...|[1021507, 536, SF...|[New York, NY, US...|\n",
      "|[Eureka, CA, USA,...|[1201703, -10, AC...|[San Francisco, C...|[1211508, 593, SF...|[New York, NY, US...|\n",
      "|[Eureka, CA, USA,...|[1210545, 0, ACV,...|[San Francisco, C...|[1211508, 593, SF...|[New York, NY, US...|\n",
      "|[Eureka, CA, USA,...|[1211503, -10, AC...|[San Francisco, C...|[1211508, 593, SF...|[New York, NY, US...|\n",
      "|[Eureka, CA, USA,...|[1210948, 28, ACV...|[San Francisco, C...|[1211508, 593, SF...|[New York, NY, US...|\n",
      "|[Eureka, CA, USA,...|[1211316, 9, ACV,...|[San Francisco, C...|[1211508, 593, SF...|[New York, NY, US...|\n",
      "|[Eureka, CA, USA,...|[1210838, 91, ACV...|[San Francisco, C...|[1211508, 593, SF...|[New York, NY, US...|\n",
      "|[Anchorage, AK, U...|[1012330, -4, ANC...|[San Francisco, C...|[1021507, 536, SF...|[New York, NY, US...|\n",
      "|[Atlanta, GA, USA...|[1012130, 24, ATL...|[San Francisco, C...|[1021507, 536, SF...|[New York, NY, US...|\n",
      "|[Atlanta, GA, USA...|[1011625, 6, ATL,...|[San Francisco, C...|[1021507, 536, SF...|[New York, NY, US...|\n",
      "|[Atlanta, GA, USA...|[1021106, 26, ATL...|[San Francisco, C...|[1021507, 536, SF...|[New York, NY, US...|\n",
      "|[Atlanta, GA, USA...|[1020944, 7, ATL,...|[San Francisco, C...|[1021507, 536, SF...|[New York, NY, US...|\n",
      "+--------------------+--------------------+--------------------+--------------------+--------------------+\n",
      "only showing top 20 rows"
     ]
    }
   ],
   "source": [
    "# Executiong of the Motif:\n",
    "motifs = (\n",
    "    graphSmall\n",
    "    .find(\"(a)-[ab]->(b); (b)-[bc]->(c)\")\n",
    "    .filter(\"\"\"\n",
    "        (b.id = 'SFO')\n",
    "        AND (ab.delay > 500 OR bc.delay > 500)\n",
    "        AND bc.tripid > ab.tripid\n",
    "        AND bc.tripid < ab.tripid + 10000\n",
    "    \"\"\")\n",
    ")\n",
    "\n",
    "# Inspect:\n",
    "motifs.show()"
   ]
  },
  {
   "cell_type": "markdown",
   "metadata": {},
   "source": [
    "### Observation:\n",
    "\n",
    "As it can be seen of the output, it denotes all of the flights that layover in San Francisco, additionally the flight delays are greater than 500 minutes for either arriving and leaving San Francisco.\n",
    "\n",
    "## 9.1 Review the output of the first row:"
   ]
  },
  {
   "cell_type": "code",
   "execution_count": 56,
   "metadata": {},
   "outputs": [
    {
     "data": {
      "application/vnd.jupyter.widget-view+json": {
       "model_id": "",
       "version_major": 2,
       "version_minor": 0
      },
      "text/plain": [
       "FloatProgress(value=0.0, bar_style='info', description='Progress:', layout=Layout(height='25px', width='50%'),…"
      ]
     },
     "metadata": {},
     "output_type": "display_data"
    },
    {
     "name": "stdout",
     "output_type": "stream",
     "text": [
      "[Row(a=Row(City='Albuquerque', State='NM', Country='USA', id='ABQ'), ab=Row(tripid=1020600, delay=0, src='ABQ', dst='SFO'), b=Row(City='San Francisco', State='CA', Country='USA', id='SFO'), bc=Row(tripid=1021507, delay=536, src='SFO', dst='JFK'), c=Row(City='New York', State='NY', Country='USA', id='JFK'))]"
     ]
    }
   ],
   "source": [
    "motifs.take(1)"
   ]
  },
  {
   "cell_type": "markdown",
   "metadata": {},
   "source": [
    "### Breaking it down:\n",
    "\n",
    "For __a__=Row(City='Albuquerque', State='NM', Country='USA', id='ABQ') -> noted as a __Airport__\n",
    "\n",
    "For __ab__=Row(tripid=1020600, delay=0, src='ABQ', dst='SFO') -> noted as a __Flights__\n",
    "\n",
    "For __b__=Row(City='San Francisco', State='CA', Country='USA', id='SFO') -> noted as a __Airport__\n",
    "\n",
    "For  __bc__=Row(tripid=1021507, delay=536, src='SFO', dst='JFK') -> noted as a __Flights__\n",
    "\n",
    "For  __c__=Row(City='New York', State='NY', Country='USA', id='JFK') -> noted as a __Airport__\n",
    "\n",
    "#### From the above, it can be described as,\n",
    "\n",
    "The flight departing from Albuquerque to San Francisco have no delays, however, the following connecting flight to New York can be delayed up to 536 minutes.\n",
    "\n",
    "## 10 Using PageRank to determine the Airport Ranking:\n",
    "\n",
    "The PageRank algorithm has been used in Google's Search Engine where it is a vote by all of the other pages on the Web, that determines how important a page can be. PageRank can be used in any graph to identify most influential and important nodes/vertices. Here, PageRank can be applied towards other problems where it will be used to determine Airport Ranking. \n",
    "\n",
    "There are important points about PageRank: \n",
    "1. PageRank does not take any weight (on edges and nodes) into the consideration.\n",
    "2. If you have a weighted graph, all weights are ignores and the algorithm still works fine.\n",
    "3. PageRank uses the directions. Hence directed graphs are the best fit for this algorithm.\n",
    "4. Duplicated edges play role. In our example, if  x has called y twice,  in the graph there will be  two edges initiated from x to y. And if x contacted z only once ( which results in having single edge between x and z), in this case PageRank score for y will be higher than z, and it means y is more important than z.  So make sure what duplication means in your dataset.\n",
    "5. PageRank algorithm in PySpark, does not generate DataFrame. In fact it generates a Graph with a new attribute/weight assigned to its nodes called PageRank where calculated PageRank scores are stored. And edge weights are normalized based on number of edges.\n",
    "\n",
    "The above is sourced from: https://pysparktutorial.blogspot.com/2017/10/graphframes-pyspark.html\n",
    "\n",
    "PageRank consists of two types of implementations that are:\n",
    "- One that uses the GraphFrame interface to run PageRank for a fixed number of iterations. This is set by the parameter \"maxIter\". __(This will be used here)__\n",
    "- Second, is by \"org.apache.spark.graphx.Pregel\" interface to run PageRank until the algorithm converges. This is set by the parameter \"tol\".\n",
    "\n",
    "To do this:\n",
    "- Use the number of flights and connections that are to and from various ariports.\n",
    "- By using the GraphFrame interface, the first parameter is \"resetProbability\", where at default is 0.15 and it represents the probabilty of resetting to a random vertex/node. If the value > 0.15, it could mean a onger time to compute or if the value < 0.15, it could mean that it may overshoot and will not converge. The second parameter is. \"maxIter\", where at default is 5, as a greater value is used would mean a greater probability for more precise calculations.\n",
    "\n",
    "## 10.1 Determine the most important airport:"
   ]
  },
  {
   "cell_type": "code",
   "execution_count": 58,
   "metadata": {},
   "outputs": [
    {
     "data": {
      "application/vnd.jupyter.widget-view+json": {
       "model_id": "",
       "version_major": 2,
       "version_minor": 0
      },
      "text/plain": [
       "FloatProgress(value=0.0, bar_style='info', description='Progress:', layout=Layout(height='25px', width='50%'),…"
      ]
     },
     "metadata": {},
     "output_type": "display_data"
    }
   ],
   "source": [
    "ranks = graph.pageRank(resetProbability = 0.15, maxIter = 5)"
   ]
  },
  {
   "cell_type": "markdown",
   "metadata": {},
   "source": [
    "## 10.2 Plot the chart:"
   ]
  },
  {
   "cell_type": "code",
   "execution_count": 99,
   "metadata": {},
   "outputs": [
    {
     "data": {
      "application/vnd.jupyter.widget-view+json": {
       "model_id": "",
       "version_major": 2,
       "version_minor": 0
      },
      "text/plain": [
       "FloatProgress(value=0.0, bar_style='info', description='Progress:', layout=Layout(height='25px', width='50%'),…"
      ]
     },
     "metadata": {},
     "output_type": "display_data"
    },
    {
     "name": "stdout",
     "output_type": "stream",
     "text": [
      "+--------------+-----+-------+---+------------------+\n",
      "|          City|State|Country| id|          pagerank|\n",
      "+--------------+-----+-------+---+------------------+\n",
      "|       Atlanta|   GA|    USA|ATL|30.852689637281415|\n",
      "|        Dallas|   TX|    USA|DFW| 22.35090825185797|\n",
      "|       Chicago|   IL|    USA|ORD|21.476110490648225|\n",
      "|        Denver|   CO|    USA|DEN|15.864147080276451|\n",
      "|   Los Angeles|   CA|    USA|LAX|14.200409160093676|\n",
      "|       Houston|   TX|    USA|IAH|13.038206739080561|\n",
      "| San Francisco|   CA|    USA|SFO|11.262952692947371|\n",
      "|       Phoenix|   AZ|    USA|PHX| 10.61464841238288|\n",
      "|Salt Lake City|   UT|    USA|SLC|  9.46228920900108|\n",
      "|     Las Vegas|   NV|    USA|LAS| 8.571473320234631|\n",
      "+--------------+-----+-------+---+------------------+"
     ]
    }
   ],
   "source": [
    "# Get the top 10 highly ranked Airports:\n",
    "ranks_df_top10 = (\n",
    "    ranks.vertices.orderBy(ranks.vertices.pagerank.desc())\n",
    "    .limit(10)\n",
    ")\n",
    "\n",
    "ranks_df_top10.show()"
   ]
  },
  {
   "cell_type": "code",
   "execution_count": 94,
   "metadata": {},
   "outputs": [
    {
     "data": {
      "application/vnd.jupyter.widget-view+json": {
       "model_id": "",
       "version_major": 2,
       "version_minor": 0
      },
      "text/plain": [
       "FloatProgress(value=0.0, bar_style='info', description='Progress:', layout=Layout(height='25px', width='50%'),…"
      ]
     },
     "metadata": {},
     "output_type": "display_data"
    }
   ],
   "source": [
    "# Step 1 - Calculate for the Scatter plot:\n",
    "AirportRanks_calc = (\n",
    "    ranks_df_top10\n",
    "    .select('City', 'pageRank')\n",
    ")"
   ]
  },
  {
   "cell_type": "code",
   "execution_count": 95,
   "metadata": {},
   "outputs": [
    {
     "data": {
      "application/vnd.jupyter.widget-view+json": {
       "model_id": "",
       "version_major": 2,
       "version_minor": 0
      },
      "text/plain": [
       "FloatProgress(value=0.0, bar_style='info', description='Progress:', layout=Layout(height='25px', width='50%'),…"
      ]
     },
     "metadata": {},
     "output_type": "display_data"
    }
   ],
   "source": [
    "# Step 2 - Register the Temporary Table:\n",
    "AirportRanks_calc.registerTempTable('bar_plt')"
   ]
  },
  {
   "cell_type": "code",
   "execution_count": 96,
   "metadata": {},
   "outputs": [
    {
     "data": {
      "application/vnd.jupyter.widget-view+json": {
       "model_id": "",
       "version_major": 2,
       "version_minor": 0
      },
      "text/plain": [
       "FloatProgress(value=0.0, bar_style='info', description='Progress:', layout=Layout(height='25px', width='50%'),…"
      ]
     },
     "metadata": {},
     "output_type": "display_data"
    },
    {
     "name": "stdout",
     "output_type": "stream",
     "text": [
      "+--------------+------------------+\n",
      "|          City|          pageRank|\n",
      "+--------------+------------------+\n",
      "|       Atlanta|30.852689637281415|\n",
      "|        Dallas| 22.35090825185797|\n",
      "|       Chicago|21.476110490648225|\n",
      "|        Denver|15.864147080276451|\n",
      "|   Los Angeles|14.200409160093676|\n",
      "|       Houston|13.038206739080561|\n",
      "| San Francisco|11.262952692947371|\n",
      "|       Phoenix| 10.61464841238288|\n",
      "|Salt Lake City|  9.46228920900108|\n",
      "|     Las Vegas| 8.571473320234631|\n",
      "+--------------+------------------+"
     ]
    }
   ],
   "source": [
    "AirportRanks_calc.show()"
   ]
  },
  {
   "cell_type": "markdown",
   "metadata": {},
   "source": [
    "### STEP 3 - Use Magic SQL"
   ]
  },
  {
   "cell_type": "code",
   "execution_count": 97,
   "metadata": {},
   "outputs": [
    {
     "data": {
      "application/vnd.jupyter.widget-view+json": {
       "model_id": "",
       "version_major": 2,
       "version_minor": 0
      },
      "text/plain": [
       "FloatProgress(value=0.0, bar_style='info', description='Progress:', layout=Layout(height='25px', width='50%'),…"
      ]
     },
     "metadata": {},
     "output_type": "display_data"
    }
   ],
   "source": [
    "%%sql -o bar_plt -q\n",
    "SELECT * FROM bar_plt"
   ]
  },
  {
   "cell_type": "markdown",
   "metadata": {},
   "source": [
    "### Step 4 - Produce the Scatter Plot:"
   ]
  },
  {
   "cell_type": "code",
   "execution_count": 98,
   "metadata": {},
   "outputs": [
    {
     "data": {
      "text/plain": [
       "Text(0.5, 1.0, 'Airports Ranked')"
      ]
     },
     "execution_count": 98,
     "metadata": {},
     "output_type": "execute_result"
    },
    {
     "data": {
      "image/png": "[encoded data removed]",
      "text/plain": [
       "<Figure size 864x648 with 1 Axes>"
      ]
     },
     "metadata": {},
     "output_type": "display_data"
    }
   ],
   "source": [
    "%%local\n",
    "\n",
    "# Import the required library and set to use ggplot:\n",
    "import matplotlib.pyplot as plt\n",
    "%matplotlib inline\n",
    "plt.style.use('ggplot')\n",
    "\n",
    "# Plot:\n",
    "fig = plt.figure(figsize=(12,9))\n",
    "ax = fig.add_subplot(1, 1, 1)\n",
    "ax.bar(\n",
    "    list(bar_plt['City']), list(bar_plt['pageRank'])\n",
    ")\n",
    "ax.set_xlabel('City')\n",
    "ax.set_ylabel('pageRank')\n",
    "ax.set_title('Airports Ranked')"
   ]
  },
  {
   "cell_type": "markdown",
   "metadata": {},
   "source": [
    "### Observation:\n",
    "\n",
    "Here it can be seen that Atlanta, Dallas and Chicago are the three top most ranked and therefore are important cities.\n",
    "\n",
    "## 11 Finding the fewest number of Connections:"
   ]
  },
  {
   "cell_type": "code",
   "execution_count": null,
   "metadata": {},
   "outputs": [],
   "source": []
  },
  {
   "cell_type": "code",
   "execution_count": null,
   "metadata": {},
   "outputs": [],
   "source": []
  },
  {
   "cell_type": "code",
   "execution_count": null,
   "metadata": {},
   "outputs": [],
   "source": []
  },
  {
   "cell_type": "code",
   "execution_count": null,
   "metadata": {},
   "outputs": [],
   "source": []
  },
  {
   "cell_type": "code",
   "execution_count": null,
   "metadata": {},
   "outputs": [],
   "source": []
  },
  {
   "cell_type": "code",
   "execution_count": null,
   "metadata": {},
   "outputs": [],
   "source": [
    "%%local\n",
    "\n",
    "# plot the image\n",
    "fig, ax1 = plt.subplots(figsize=(16, 10))\n",
    "image = mpimg.imread(image_path + 'Microbatch lines of DStream.png')\n",
    "plt.imshow(image);\n",
    "\n",
    "print('Image source -> ')"
   ]
  }
 ],
 "metadata": {
  "kernelspec": {
   "display_name": "PySpark",
   "language": "",
   "name": "pysparkkernel"
  },
  "language_info": {
   "codemirror_mode": {
    "name": "python",
    "version": 3
   },
   "mimetype": "text/x-python",
   "name": "pyspark",
   "pygments_lexer": "python3"
  }
 },
 "nbformat": 4,
 "nbformat_minor": 4
}
